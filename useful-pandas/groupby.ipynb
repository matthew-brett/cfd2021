{
 "cells": [
  {
   "cell_type": "markdown",
   "id": "b5b5b615",
   "metadata": {},
   "source": [
    "# The power of groupby"
   ]
  },
  {
   "cell_type": "code",
   "execution_count": null,
   "id": "a04686e1",
   "metadata": {
    "tags": [
     "hide-cell"
    ]
   },
   "outputs": [],
   "source": [
    "import numpy as np\n",
    "import pandas as pd\n",
    "# Safe settings for Pandas.\n",
    "pd.set_option('mode.chained_assignment', 'raise')"
   ]
  },
  {
   "cell_type": "markdown",
   "id": "7fc4d6a0",
   "metadata": {},
   "source": [
    "This page follows from the [Crosstab](crosstab) page.\n",
    "\n",
    "As for the Crosstab page, we will use a dataset with data about passengers on\n",
    "the [RMS Titanic](https://en.wikipedia.org/wiki/Titanic).\n",
    "\n",
    "See [the Titanic dataset page](../data/titanic) for some more information about this dataset, and a link to download the data."
   ]
  },
  {
   "cell_type": "code",
   "execution_count": null,
   "id": "3dddbaef",
   "metadata": {},
   "outputs": [],
   "source": [
    "# Load the dataset\n",
    "df = pd.read_csv('titanic_clean.csv')\n",
    "df.head()"
   ]
  },
  {
   "cell_type": "markdown",
   "id": "d4659829",
   "metadata": {},
   "source": [
    "In the Crosstab page, we calculated counts and proportions of rows falling\n",
    "into categories given by Pandas Series.  These Series are often columns from a\n",
    "Pandas data frame.\n",
    "\n",
    "Pandas also has a very powerful mechanism for grouping observations by\n",
    "category, available by the Pandas data frame `groupby` method.\n",
    "\n",
    "The transformations available with `groupby` are far more general than those\n",
    "in `pd.crosstab`.  Among many other things, `groupby` allows us to calculate\n",
    "many different summaries of rows in different categories.\n",
    "\n",
    "For much more detail on `groupby`, see the [Python Data Science Handbook\n",
    "chapter](https://jakevdp.github.io/PythonDataScienceHandbook/03.08-aggregation-and-grouping.html),\n",
    "by [Jake Vanderplas](http://vanderplas.com).\n",
    "\n",
    "Just for example, imagine we were interested in the average age of the passengers in each `class`.\n"
   ]
  },
  {
   "cell_type": "markdown",
   "id": "dd52ab0a",
   "metadata": {},
   "source": [
    "## Groups and GroupBy"
   ]
  },
  {
   "cell_type": "markdown",
   "id": "ef7270a5",
   "metadata": {},
   "source": [
    "We could start by making a Pandas `groupby` object, like this:"
   ]
  },
  {
   "cell_type": "code",
   "execution_count": null,
   "id": "16c16cc2",
   "metadata": {},
   "outputs": [],
   "source": [
    "by_class = df.groupby('class')\n",
    "by_class"
   ]
  },
  {
   "cell_type": "markdown",
   "id": "00ea793f",
   "metadata": {},
   "source": [
    "The GroupBy object has categorized the rows according to the values in the\n",
    "`class` column.   Therefore, the GroupBy object has three groups, one for\n",
    "`1st`, one of `2nd` and one for `3rd`.\n",
    "\n",
    "We can see how many groups we have with Python's `len` function:"
   ]
  },
  {
   "cell_type": "code",
   "execution_count": null,
   "id": "0f011873",
   "metadata": {},
   "outputs": [],
   "source": [
    "# The number of groups.\n",
    "len(by_class)"
   ]
  },
  {
   "cell_type": "markdown",
   "id": "f85a3f3d",
   "metadata": {},
   "source": [
    "If the fancy takes us, we can fetch the rows corresponding to the groups with\n",
    "the `get_group` method."
   ]
  },
  {
   "cell_type": "code",
   "execution_count": null,
   "id": "b0b7436e",
   "metadata": {},
   "outputs": [],
   "source": [
    "first_class_passengers = by_class.get_group('1st')\n",
    "first_class_passengers.head()"
   ]
  },
  {
   "cell_type": "markdown",
   "id": "04e68675",
   "metadata": {},
   "source": [
    "This is exactly the same result we would get by selecting the first class passenger rows directly:"
   ]
  },
  {
   "cell_type": "code",
   "execution_count": null,
   "id": "79c9a5ce",
   "metadata": {
    "lines_to_next_cell": 2
   },
   "outputs": [],
   "source": [
    "first_again = df[df['class'] == '1st']\n",
    "first_again.head()"
   ]
  },
  {
   "cell_type": "markdown",
   "id": "50d3e3c6",
   "metadata": {},
   "source": [
    "## Aggregating"
   ]
  },
  {
   "cell_type": "markdown",
   "id": "412d7c82",
   "metadata": {},
   "source": [
    "The true power of GroupBy is in doing efficient operations on the groups, and returning the results."
   ]
  },
  {
   "cell_type": "markdown",
   "id": "6a3e8608",
   "metadata": {},
   "source": [
    "Just for example, imagine that we wanted to get the mean `age` and `fare` for\n",
    "each class.  We could do this the long way round, by identifying each set of\n",
    "rows, and taking their mean:"
   ]
  },
  {
   "cell_type": "code",
   "execution_count": null,
   "id": "d557776a",
   "metadata": {},
   "outputs": [],
   "source": [
    "print('1st mean', df[df['class'] == '1st'].mean())\n",
    "print('2nd mean', df[df['class'] == '2nd'].mean())\n",
    "print('3rd mean', df[df['class'] == '3rd'].mean())"
   ]
  },
  {
   "cell_type": "markdown",
   "id": "879971d6",
   "metadata": {},
   "source": [
    "Notice that the `mean` function only returned results for the numerical\n",
    "columns.  It did not, for example, try to take a mean of the passenger `name`.\n",
    "\n",
    "The code above is a repetitive and ugly - but it could have been much worse.\n",
    "Imagine, for example, that we had been interested in the mean age for\n",
    "passengers for each country.  There are lots of countries; it would not be\n",
    "practical to type these all out by hand as we have above for the classes."
   ]
  },
  {
   "cell_type": "code",
   "execution_count": null,
   "id": "fd6b39ca",
   "metadata": {},
   "outputs": [],
   "source": [
    "df['country'].value_counts()"
   ]
  },
  {
   "cell_type": "markdown",
   "id": "75d1c257",
   "metadata": {},
   "source": [
    "To your complete lack of surprise, enter GroupBy, to our rescue.\n",
    "\n",
    "We can ask the GroupBy object to *aggregate* over the rows in each group.  In this case we want to use the `mean` function to give us an aggregate value for the rows in each group.  Here is one way to do that:\n"
   ]
  },
  {
   "cell_type": "code",
   "execution_count": null,
   "id": "a462a664",
   "metadata": {},
   "outputs": [],
   "source": [
    "class_means = by_class.aggregate(np.mean)\n",
    "class_means"
   ]
  },
  {
   "cell_type": "markdown",
   "id": "519aeb01",
   "metadata": {},
   "source": [
    "Notice the benefits over doing this by hand, above.  We have to do less typing.  We don't have to know the unique values of `class` beforehand.  We get a Pandas dataframe back, that displays nicely, and that we can index to get the values we want:"
   ]
  },
  {
   "cell_type": "code",
   "execution_count": null,
   "id": "30d34f43",
   "metadata": {},
   "outputs": [],
   "source": [
    "# Label indexing of the groupby results table.\n",
    "class_means.loc['1st', 'age']"
   ]
  },
  {
   "cell_type": "markdown",
   "id": "628d51d7",
   "metadata": {},
   "source": [
    "In fact, through some particularly obscure and clever Python magic, we can use\n",
    "`mean` and other Pandas data frame methods as methods of the GroupBy object,\n",
    "like this:"
   ]
  },
  {
   "cell_type": "code",
   "execution_count": null,
   "id": "0de98d05",
   "metadata": {},
   "outputs": [],
   "source": [
    "# Using mean function directly.\n",
    "by_class.mean()"
   ]
  },
  {
   "cell_type": "code",
   "execution_count": null,
   "id": "b1596378",
   "metadata": {},
   "outputs": [],
   "source": [
    "# Using median function directly.\n",
    "by_class.median()"
   ]
  },
  {
   "cell_type": "code",
   "execution_count": null,
   "id": "ffc3c5e3",
   "metadata": {},
   "outputs": [],
   "source": [
    "# Using sum function directly.\n",
    "by_class.sum()"
   ]
  },
  {
   "cell_type": "markdown",
   "id": "b611e10b",
   "metadata": {},
   "source": [
    "The function we are using can return more than one value, in which case, we\n",
    "get a new column for each value.  For example, the `describe` method returns\n",
    "various aggregate values for each column.  Here's `describe` in action on the\n",
    "main data frame:"
   ]
  },
  {
   "cell_type": "code",
   "execution_count": null,
   "id": "2aa6929f",
   "metadata": {},
   "outputs": [],
   "source": [
    "df.describe()"
   ]
  },
  {
   "cell_type": "markdown",
   "id": "600fca4f",
   "metadata": {},
   "source": [
    "When we apply `describe` to the groups, we get a new column for each calculated value that `describe` returns."
   ]
  },
  {
   "cell_type": "code",
   "execution_count": null,
   "id": "c59ed0e6",
   "metadata": {},
   "outputs": [],
   "source": [
    "by_class.describe()"
   ]
  },
  {
   "cell_type": "markdown",
   "id": "f3c1bfae",
   "metadata": {},
   "source": [
    "So far we have allowed GroupBy to operate on all the columns - but sometimes we only want it to operate on a subset of the columns in the original data frame, and therefore, the columns for the groups.\n",
    "\n",
    "Like the original data frame, GroupBy knows about the columns.   For example,\n",
    "we can get a new GroupBy object, that contains only the `age` column, like so:"
   ]
  },
  {
   "cell_type": "code",
   "execution_count": null,
   "id": "d60564ff",
   "metadata": {},
   "outputs": [],
   "source": [
    "by_class['age']"
   ]
  },
  {
   "cell_type": "markdown",
   "id": "908b7e39",
   "metadata": {},
   "source": [
    "This can be useful when we want to restrict our attention to the `age` column, and we are not interested in other columns, such as `fare`:"
   ]
  },
  {
   "cell_type": "code",
   "execution_count": null,
   "id": "9d567009",
   "metadata": {},
   "outputs": [],
   "source": [
    "by_class['age'].mean()"
   ]
  },
  {
   "cell_type": "markdown",
   "id": "44f4834b",
   "metadata": {},
   "source": [
    "We can get even more specific by passing keyword argument to the `aggregate` method.  This allows us to say what aggregate columns we want back, and how to make them.  Here we ask for:\n",
    "\n",
    "* An aggregate column `mean_age`, the result of applying `np.mean` to the\n",
    "  `age` column of the groups.\n",
    "* Another aggregate column `median_fare`, the result of applying `np.media` to\n",
    "  the `fare` column of the groups."
   ]
  },
  {
   "cell_type": "code",
   "execution_count": null,
   "id": "49dee325",
   "metadata": {},
   "outputs": [],
   "source": [
    "by_class.agg(mean_age=('age', np.mean),\n",
    "             median_fare=('fare', np.median))"
   ]
  },
  {
   "cell_type": "markdown",
   "id": "c0fadfe2",
   "metadata": {},
   "source": [
    "## Grouping by more than one column"
   ]
  },
  {
   "cell_type": "markdown",
   "id": "065c582c",
   "metadata": {},
   "source": [
    "GroupBy can also group by more than one set of categories.\n",
    "\n",
    "For example, imagine we wanted to break down the rows of the data frame by *both* `gender` and `class`.  That is, we want to form groups that are all the unique combinations of `gender` and class.  These will be:\n",
    "\n",
    "* `female` and `1st`\n",
    "* `female` and `2nd`\n",
    "* `female` and `3rd`\n",
    "* `male` and `1st`\n",
    "* `male` and `2nd`\n",
    "* `male` and `3rd`\n",
    "\n",
    "We can do this by giving `groupby` a list of the columns we want to categorize\n",
    "by:"
   ]
  },
  {
   "cell_type": "code",
   "execution_count": null,
   "id": "1e1dc19b",
   "metadata": {},
   "outputs": [],
   "source": [
    "by_gender_class = df.groupby(['gender', 'class'])\n",
    "by_gender_class"
   ]
  },
  {
   "cell_type": "code",
   "execution_count": null,
   "id": "5fc235f1",
   "metadata": {},
   "outputs": [],
   "source": [
    "len(by_gender_class)"
   ]
  },
  {
   "cell_type": "markdown",
   "id": "25e348d1",
   "metadata": {},
   "source": [
    "As before, GroupBy knows about each individual subgroup.  For example, here we fetch the rows corresponding to gender `female` and class `3rd`:"
   ]
  },
  {
   "cell_type": "code",
   "execution_count": null,
   "id": "d2a86bcb",
   "metadata": {},
   "outputs": [],
   "source": [
    "female_third = by_gender_class.get_group(('female', '3rd'))\n",
    "female_third.head()"
   ]
  },
  {
   "cell_type": "markdown",
   "id": "7133266e",
   "metadata": {},
   "source": [
    "*Note* that the group specification above has to be a *tuple* (surrounded by\n",
    "`()`) rather than a list (surrounded by `[]`).\n",
    "\n",
    "As before, this gives us the same result as if we had done the selection the long way round:"
   ]
  },
  {
   "cell_type": "code",
   "execution_count": null,
   "id": "c4ea0b5f",
   "metadata": {},
   "outputs": [],
   "source": [
    "female_3rd = df[np.logical_and(df['gender'] == 'female', df['class'] == '3rd')]\n",
    "female_3rd.head()"
   ]
  },
  {
   "cell_type": "markdown",
   "id": "f01347e4",
   "metadata": {},
   "source": [
    "Our aggregation functions operate on all the subgroups:"
   ]
  },
  {
   "cell_type": "code",
   "execution_count": null,
   "id": "b0bd8564",
   "metadata": {},
   "outputs": [],
   "source": [
    "by_gender_class.mean()"
   ]
  },
  {
   "cell_type": "markdown",
   "id": "6e76cbbf",
   "metadata": {},
   "source": [
    "Again, please see the [Python Data Science Handbook\n",
    "chapter](https://jakevdp.github.io/PythonDataScienceHandbook/03.08-aggregation-and-grouping.html) for much more detail."
   ]
  }
 ],
 "metadata": {
  "jupytext": {
   "notebook_metadata_filter": "all,-language_info",
   "split_at_heading": true
  },
  "kernelspec": {
   "display_name": "Python 3",
   "language": "python",
   "name": "python3"
  }
 },
 "nbformat": 4,
 "nbformat_minor": 5
}
