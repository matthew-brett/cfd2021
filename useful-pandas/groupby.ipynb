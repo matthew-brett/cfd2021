{
 "cells": [
  {
   "cell_type": "markdown",
   "id": "66ef56ae",
   "metadata": {},
   "source": [
    "# The power of groupby"
   ]
  },
  {
   "cell_type": "code",
   "execution_count": null,
   "id": "3d347192",
   "metadata": {
    "tags": [
     "hide-cell"
    ]
   },
   "outputs": [],
   "source": [
    "import numpy as np\n",
    "import pandas as pd\n",
    "# Safe settings for Pandas.\n",
    "pd.set_option('mode.chained_assignment', 'raise')"
   ]
  },
  {
   "cell_type": "markdown",
   "id": "526b444a",
   "metadata": {},
   "source": [
    "This page follows from the [Crosstab](crosstab) page.\n",
    "\n",
    "As for the Crosstab page, we will use a dataset with data about passengers on\n",
    "the [RMS Titanic](https://en.wikipedia.org/wiki/Titanic).\n",
    "\n",
    "See [the Titanic dataset page](../data/titanic) for some more information about this dataset, and a link to download the data."
   ]
  },
  {
   "cell_type": "code",
   "execution_count": null,
   "id": "6e7f97ef",
   "metadata": {},
   "outputs": [],
   "source": [
    "# Load the dataset\n",
    "df = pd.read_csv('titanic_clean.csv')\n",
    "df.head()"
   ]
  },
  {
   "cell_type": "markdown",
   "id": "d7ab90ab",
   "metadata": {},
   "source": [
    "In the Crosstab page, we calculated counts and proportions of rows falling\n",
    "into categories given by Pandas Series.  These Series are often columns from a\n",
    "Pandas data frame.\n",
    "\n",
    "Pandas also has a very powerful mechanism for grouping observations by\n",
    "category, available by the Pandas data frame `groupby` method.\n",
    "\n",
    "The transformations available with `groupby` are far more general than those\n",
    "in `pd.crosstab`.  Among many other things, `groupby` allows us to calculate\n",
    "many different summaries of rows in different categories.\n",
    "\n",
    "For much more detail on `groupby`, see the [Python Data Science Handbook\n",
    "chapter](https://jakevdp.github.io/PythonDataScienceHandbook/03.08-aggregation-and-grouping.html),\n",
    "by [Jake Vanderplas](http://vanderplas.com).\n",
    "\n",
    "Just for example, imagine we were interested in the average age of the passengers in each `class`.\n"
   ]
  },
  {
   "cell_type": "markdown",
   "id": "85e3f575",
   "metadata": {},
   "source": [
    "## Groups and GroupBy"
   ]
  },
  {
   "cell_type": "markdown",
   "id": "0b184898",
   "metadata": {},
   "source": [
    "We could start by making a Pandas `groupby` object, like this:"
   ]
  },
  {
   "cell_type": "code",
   "execution_count": null,
   "id": "f110b7a6",
   "metadata": {},
   "outputs": [],
   "source": [
    "by_class = df.groupby('class')\n",
    "by_class"
   ]
  },
  {
   "cell_type": "markdown",
   "id": "d2c08410",
   "metadata": {},
   "source": [
    "The GroupBy object has categorized the rows according to the values in the\n",
    "`class` column.   Therefore, the GroupBy object has three groups, one for\n",
    "`1st`, one of `2nd` and one for `3rd`.\n",
    "\n",
    "We can see how many groups we have with Python's `len` function:"
   ]
  },
  {
   "cell_type": "code",
   "execution_count": null,
   "id": "75143b66",
   "metadata": {},
   "outputs": [],
   "source": [
    "# The number of groups.\n",
    "len(by_class)"
   ]
  },
  {
   "cell_type": "markdown",
   "id": "657aef29",
   "metadata": {},
   "source": [
    "If the fancy takes us, we can fetch the rows corresponding to the groups with\n",
    "the `get_group` method."
   ]
  },
  {
   "cell_type": "code",
   "execution_count": null,
   "id": "3057bfdc",
   "metadata": {},
   "outputs": [],
   "source": [
    "first_class_passengers = by_class.get_group('1st')\n",
    "first_class_passengers.head()"
   ]
  },
  {
   "cell_type": "markdown",
   "id": "4453a3fe",
   "metadata": {},
   "source": [
    "This is exactly the same result we would get by selecting the first class passenger rows directly:"
   ]
  },
  {
   "cell_type": "code",
   "execution_count": null,
   "id": "4d7878ff",
   "metadata": {
    "lines_to_next_cell": 2
   },
   "outputs": [],
   "source": [
    "first_again = df[df['class'] == '1st']\n",
    "first_again.head()"
   ]
  },
  {
   "cell_type": "markdown",
   "id": "25d127d5",
   "metadata": {},
   "source": [
    "## Aggregating"
   ]
  },
  {
   "cell_type": "markdown",
   "id": "57c879a9",
   "metadata": {},
   "source": [
    "The true power of GroupBy is in doing efficient operations on the groups, and returning the results."
   ]
  },
  {
   "cell_type": "markdown",
   "id": "a74ef9e3",
   "metadata": {},
   "source": [
    "Just for example, imagine that we wanted to get the mean `age` and `fare` for\n",
    "each class.  We could do this the long way round, by identifying each set of\n",
    "rows, and taking their mean:"
   ]
  },
  {
   "cell_type": "code",
   "execution_count": null,
   "id": "78d53fa5",
   "metadata": {},
   "outputs": [],
   "source": [
    "print('1st mean', df[df['class'] == '1st'].mean())\n",
    "print('2nd mean', df[df['class'] == '2nd'].mean())\n",
    "print('3rd mean', df[df['class'] == '3rd'].mean())"
   ]
  },
  {
   "cell_type": "markdown",
   "id": "1f0f9cc3",
   "metadata": {},
   "source": [
    "Notice that the `mean` function only returned results for the numerical\n",
    "columns.  It did not, for example, try to take a mean of the passenger `name`.\n",
    "\n",
    "The code above is a repetitive and ugly - but it could have been much worse.\n",
    "Imagine, for example, that we had been interested in the mean age for\n",
    "passengers for each country.  There are lots of countries; it would not be\n",
    "practical to type these all out by hand as we have above for the classes."
   ]
  },
  {
   "cell_type": "code",
   "execution_count": null,
   "id": "699570d4",
   "metadata": {},
   "outputs": [],
   "source": [
    "df['country'].value_counts()"
   ]
  },
  {
   "cell_type": "markdown",
   "id": "9851ce1c",
   "metadata": {},
   "source": [
    "To your complete lack of surprise, enter GroupBy, to our rescue.\n",
    "\n",
    "We can ask the GroupBy object to *aggregate* over the rows in each group.  In this case we want to use the `mean` function to give us an aggregate value for the rows in each group.  Here is one way to do that:\n"
   ]
  },
  {
   "cell_type": "code",
   "execution_count": null,
   "id": "bd09a33c",
   "metadata": {},
   "outputs": [],
   "source": [
    "class_means = by_class.aggregate(np.mean)\n",
    "class_means"
   ]
  },
  {
   "cell_type": "markdown",
   "id": "f75ae9fc",
   "metadata": {},
   "source": [
    "Notice the benefits over doing this by hand, above.  We have to do less typing.  We don't have to know the unique values of `class` beforehand.  We get a Pandas dataframe back, that displays nicely, and that we can index to get the values we want:"
   ]
  },
  {
   "cell_type": "code",
   "execution_count": null,
   "id": "627537a8",
   "metadata": {},
   "outputs": [],
   "source": [
    "# Label indexing of the groupby results table.\n",
    "class_means.loc['1st', 'age']"
   ]
  },
  {
   "cell_type": "markdown",
   "id": "e4cb1951",
   "metadata": {},
   "source": [
    "In fact, through some particularly obscure and clever Python magic, we can use\n",
    "`mean` and other Pandas data frame methods as methods of the GroupBy object,\n",
    "like this:"
   ]
  },
  {
   "cell_type": "code",
   "execution_count": null,
   "id": "d4b79d2c",
   "metadata": {},
   "outputs": [],
   "source": [
    "# Using mean function directly.\n",
    "by_class.mean()"
   ]
  },
  {
   "cell_type": "code",
   "execution_count": null,
   "id": "7e6a54a7",
   "metadata": {},
   "outputs": [],
   "source": [
    "# Using median function directly.\n",
    "by_class.median()"
   ]
  },
  {
   "cell_type": "code",
   "execution_count": null,
   "id": "faf147a0",
   "metadata": {},
   "outputs": [],
   "source": [
    "# Using sum function directly.\n",
    "by_class.sum()"
   ]
  },
  {
   "cell_type": "markdown",
   "id": "70bce1e3",
   "metadata": {},
   "source": [
    "The function we are using can return more than one value, in which case, we\n",
    "get a new column for each value.  For example, the `describe` method returns\n",
    "various aggregate values for each column.  Here's `describe` in action on the\n",
    "main data frame:"
   ]
  },
  {
   "cell_type": "code",
   "execution_count": null,
   "id": "d3c176d5",
   "metadata": {},
   "outputs": [],
   "source": [
    "df.describe()"
   ]
  },
  {
   "cell_type": "markdown",
   "id": "70058851",
   "metadata": {},
   "source": [
    "When we apply `describe` to the groups, we get a new column for each calculated value that `describe` returns."
   ]
  },
  {
   "cell_type": "code",
   "execution_count": null,
   "id": "7f540860",
   "metadata": {},
   "outputs": [],
   "source": [
    "by_class.describe()"
   ]
  },
  {
   "cell_type": "markdown",
   "id": "e29fb5c3",
   "metadata": {},
   "source": [
    "So far we have allowed GroupBy to operate on all the columns - but sometimes we only want it to operate on a subset of the columns in the original data frame, and therefore, the columns for the groups.\n",
    "\n",
    "Like the original data frame, GroupBy knows about the columns.   For example,\n",
    "we can get a new GroupBy object, that contains only the `age` column, like so:"
   ]
  },
  {
   "cell_type": "code",
   "execution_count": null,
   "id": "0fbdf450",
   "metadata": {},
   "outputs": [],
   "source": [
    "by_class['age']"
   ]
  },
  {
   "cell_type": "markdown",
   "id": "07d598cf",
   "metadata": {},
   "source": [
    "This can be useful when we want to restrict our attention to the `age` column, and we are not interested in other columns, such as `fare`:"
   ]
  },
  {
   "cell_type": "code",
   "execution_count": null,
   "id": "393e3b14",
   "metadata": {},
   "outputs": [],
   "source": [
    "by_class['age'].mean()"
   ]
  },
  {
   "cell_type": "markdown",
   "id": "6d9c6668",
   "metadata": {},
   "source": [
    "We can get even more specific by passing keyword argument to the `aggregate` method.  This allows us to say what aggregate columns we want back, and how to make them.  Here we ask for:\n",
    "\n",
    "* An aggregate column `mean_age`, the result of applying `np.mean` to the\n",
    "  `age` column of the groups.\n",
    "* Another aggregate column `median_fare`, the result of applying `np.media` to\n",
    "  the `fare` column of the groups."
   ]
  },
  {
   "cell_type": "code",
   "execution_count": null,
   "id": "c1d5f8b8",
   "metadata": {},
   "outputs": [],
   "source": [
    "by_class.agg(mean_age=('age', np.mean),\n",
    "             median_fare=('fare', np.median))"
   ]
  },
  {
   "cell_type": "markdown",
   "id": "3296dd08",
   "metadata": {},
   "source": [
    "## Grouping by more than one column"
   ]
  },
  {
   "cell_type": "markdown",
   "id": "3e542663",
   "metadata": {},
   "source": [
    "GroupBy can also group by more than one set of categories.\n",
    "\n",
    "For example, imagine we wanted to break down the rows of the data frame by *both* `gender` and `class`.  That is, we want to form groups that are all the unique combinations of `gender` and class.  These will be:\n",
    "\n",
    "* `female` and `1st`\n",
    "* `female` and `2nd`\n",
    "* `female` and `3rd`\n",
    "* `male` and `1st`\n",
    "* `male` and `2nd`\n",
    "* `male` and `3rd`\n",
    "\n",
    "We can do this by giving `groupby` a list of the columns we want to categorize\n",
    "by:"
   ]
  },
  {
   "cell_type": "code",
   "execution_count": null,
   "id": "4cae922f",
   "metadata": {},
   "outputs": [],
   "source": [
    "by_gender_class = df.groupby(['gender', 'class'])\n",
    "by_gender_class"
   ]
  },
  {
   "cell_type": "code",
   "execution_count": null,
   "id": "c4b0cf2d",
   "metadata": {},
   "outputs": [],
   "source": [
    "len(by_gender_class)"
   ]
  },
  {
   "cell_type": "markdown",
   "id": "81b94263",
   "metadata": {},
   "source": [
    "As before, GroupBy knows about each individual subgroup.  For example, here we fetch the rows corresponding to gender `female` and class `3rd`:"
   ]
  },
  {
   "cell_type": "code",
   "execution_count": null,
   "id": "94e280f8",
   "metadata": {},
   "outputs": [],
   "source": [
    "female_third = by_gender_class.get_group(('female', '3rd'))\n",
    "female_third.head()"
   ]
  },
  {
   "cell_type": "markdown",
   "id": "4068f12a",
   "metadata": {},
   "source": [
    "*Note* that the group specification above has to be a *tuple* (surrounded by\n",
    "`()`) rather than a list (surrounded by `[]`).\n",
    "\n",
    "As before, this gives us the same result as if we had done the selection the long way round:"
   ]
  },
  {
   "cell_type": "code",
   "execution_count": null,
   "id": "4cdf01b2",
   "metadata": {},
   "outputs": [],
   "source": [
    "female_3rd = df[np.logical_and(df['gender'] == 'female', df['class'] == '3rd')]\n",
    "female_3rd.head()"
   ]
  },
  {
   "cell_type": "markdown",
   "id": "3b8a3921",
   "metadata": {},
   "source": [
    "Our aggregation functions operate on all the subgroups:"
   ]
  },
  {
   "cell_type": "code",
   "execution_count": null,
   "id": "71f2c0f6",
   "metadata": {},
   "outputs": [],
   "source": [
    "by_gender_class.mean()"
   ]
  },
  {
   "cell_type": "markdown",
   "id": "e9bb34f3",
   "metadata": {},
   "source": [
    "Again, please see the [Python Data Science Handbook\n",
    "chapter](https://jakevdp.github.io/PythonDataScienceHandbook/03.08-aggregation-and-grouping.html) for much more detail."
   ]
  }
 ],
 "metadata": {
  "jupytext": {
   "notebook_metadata_filter": "all,-language_info",
   "split_at_heading": true
  },
  "kernelspec": {
   "display_name": "Python 3",
   "language": "python",
   "name": "python3"
  }
 },
 "nbformat": 4,
 "nbformat_minor": 5
}
