{
 "cells": [
  {
   "cell_type": "markdown",
   "id": "3a09eb7b",
   "metadata": {},
   "source": [
    "# Arrays of ones and zeros\n",
    "\n",
    "<!---\n",
    "This page retired; we are not using 2D arrays until much later.\n",
    "-->"
   ]
  },
  {
   "cell_type": "code",
   "execution_count": null,
   "id": "2335212d",
   "metadata": {},
   "outputs": [],
   "source": [
    "import numpy as np"
   ]
  },
  {
   "cell_type": "markdown",
   "id": "67cc1b17",
   "metadata": {},
   "source": [
    "We often want to create arrays with all zeros, or all ones.\n",
    "\n",
    "We do this with:"
   ]
  },
  {
   "cell_type": "code",
   "execution_count": null,
   "id": "bd8f6454",
   "metadata": {},
   "outputs": [],
   "source": [
    "np.zeros(5)"
   ]
  },
  {
   "cell_type": "code",
   "execution_count": null,
   "id": "c6ada4be",
   "metadata": {},
   "outputs": [],
   "source": [
    "np.ones(3)"
   ]
  },
  {
   "cell_type": "markdown",
   "id": "0d30b29b",
   "metadata": {},
   "source": [
    "As ever, review the help with (for example):\n",
    "\n",
    "```\n",
    "np.ones?\n",
    "```\n",
    "\n",
    "In a new cell."
   ]
  },
  {
   "cell_type": "markdown",
   "id": "bfee7771",
   "metadata": {},
   "source": [
    "You can ask for a 2D array by passing a list with the numbers of rows and columns:"
   ]
  },
  {
   "cell_type": "code",
   "execution_count": null,
   "id": "4fae5daa",
   "metadata": {},
   "outputs": [],
   "source": [
    "np.zeros([5, 2])"
   ]
  }
 ],
 "metadata": {
  "kernelspec": {
   "display_name": "Python 3",
   "language": "python",
   "name": "python3"
  }
 },
 "nbformat": 4,
 "nbformat_minor": 5
}
