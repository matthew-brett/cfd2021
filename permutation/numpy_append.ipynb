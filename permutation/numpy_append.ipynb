{
 "cells": [
  {
   "cell_type": "markdown",
   "id": "5a9430cb",
   "metadata": {},
   "source": [
    "# Numpy append\n",
    "\n",
    "<!---\n",
    "This page retired, because we don't now use the element by element\n",
    "concatenation, and the array array concatenation is not enough for its own\n",
    "page.\n",
    "-->\n",
    "\n",
    "We have already seen how to build a Numpy array from a sequence of values.\n"
   ]
  },
  {
   "cell_type": "code",
   "execution_count": null,
   "id": "9edfd91e",
   "metadata": {},
   "outputs": [],
   "source": [
    "# Load the Numpy package, and rename to \"np\"\n",
    "import numpy as np"
   ]
  },
  {
   "cell_type": "markdown",
   "id": "a8ce2dcb",
   "metadata": {},
   "source": [
    "One way to create an array is to make a sequence of values, such as a list, and pass these to the `np.array` function, like this:"
   ]
  },
  {
   "cell_type": "code",
   "execution_count": null,
   "id": "1c24565d",
   "metadata": {},
   "outputs": [],
   "source": [
    "my_list = [1.1, 2.2, 3.2, 2.1]\n",
    "my_array = np.array(my_list)\n",
    "my_array"
   ]
  },
  {
   "cell_type": "markdown",
   "id": "0242eca6",
   "metadata": {},
   "source": [
    "Here we create the full 4 value array in one call to `np.array`.\n",
    "\n",
    "Another way make an array is to build it up one value at a time.\n",
    "\n",
    "To do this, I can start with an empty array, like this:"
   ]
  },
  {
   "cell_type": "code",
   "execution_count": null,
   "id": "db9cc297",
   "metadata": {},
   "outputs": [],
   "source": [
    "an_empty_list = []\n",
    "a = np.array(an_empty_list)\n",
    "a"
   ]
  },
  {
   "cell_type": "markdown",
   "id": "418cf10b",
   "metadata": {},
   "source": [
    "Now imagine I want to build up the same array as I did above.  I can *append* each value to the array, using the `np.append` function.\n",
    "\n",
    "As usual, you can check what the `np.append` function does by making a new cell in the notebook, and typing `np.append?` followed by Enter.  This will show you the help for `np.append`.\n",
    "\n",
    "You will find that `np.append` needs (at least) two *arguments*, which are:\n",
    "\n",
    "1. The array to append to, called `arr` in the documentation and\n",
    "2. The stuff to append, called `values` in the documentation.\n",
    "\n",
    "Here we append a single number:"
   ]
  },
  {
   "cell_type": "code",
   "execution_count": null,
   "id": "34cf1f6b",
   "metadata": {},
   "outputs": [],
   "source": [
    "a = np.append(a, 1.1)\n",
    "a"
   ]
  },
  {
   "cell_type": "code",
   "execution_count": null,
   "id": "8f13edad",
   "metadata": {},
   "outputs": [],
   "source": [
    "a = np.append(a, 2.2)\n",
    "a"
   ]
  },
  {
   "cell_type": "code",
   "execution_count": null,
   "id": "c0ff3b42",
   "metadata": {},
   "outputs": [],
   "source": [
    "a = np.append(a, 3.2)\n",
    "a"
   ]
  },
  {
   "cell_type": "code",
   "execution_count": null,
   "id": "6b35bda3",
   "metadata": {},
   "outputs": [],
   "source": [
    "a = np.append(a, 2.1)\n",
    "a"
   ]
  },
  {
   "cell_type": "markdown",
   "id": "ac52a507",
   "metadata": {},
   "source": [
    "This seems slow and laborious, but we will soon see this can be useful when we want to calculate and store a sequence of values."
   ]
  }
 ],
 "metadata": {
  "jupytext": {
   "split_at_heading": true
  },
  "kernelspec": {
   "display_name": "Python 3",
   "language": "python",
   "name": "python3"
  }
 },
 "nbformat": 4,
 "nbformat_minor": 5
}
