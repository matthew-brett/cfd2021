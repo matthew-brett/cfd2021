{
 "cells": [
  {
   "cell_type": "markdown",
   "id": "35a036b0",
   "metadata": {},
   "source": [
    "# Making and filling arrays."
   ]
  },
  {
   "cell_type": "code",
   "execution_count": null,
   "id": "971bf1b2",
   "metadata": {},
   "outputs": [],
   "source": [
    "import numpy as np"
   ]
  },
  {
   "cell_type": "markdown",
   "id": "20346b14",
   "metadata": {},
   "source": [
    "## Making arrays\n",
    "\n",
    "You have seen how to create arrays from a sequence of values:"
   ]
  },
  {
   "cell_type": "code",
   "execution_count": null,
   "id": "db04111a",
   "metadata": {},
   "outputs": [],
   "source": [
    "np.array([1, 2, 3])"
   ]
  },
  {
   "cell_type": "markdown",
   "id": "cb17746d",
   "metadata": {},
   "source": [
    "You have also seen how to create arrays that are sequential integers, using `np.arange`:"
   ]
  },
  {
   "cell_type": "code",
   "execution_count": null,
   "id": "55b2c6d9",
   "metadata": {},
   "outputs": [],
   "source": [
    "np.arange(5)"
   ]
  },
  {
   "cell_type": "markdown",
   "id": "64765e95",
   "metadata": {},
   "source": [
    "We often find that we want to create an empty or default array, that we will fill later.\n",
    "\n",
    "Numpy has routines for that.  The main ones we will use are `np.zeros` and `np.ones`.\n",
    "\n",
    "You can guess what they do:"
   ]
  },
  {
   "cell_type": "code",
   "execution_count": null,
   "id": "28018822",
   "metadata": {},
   "outputs": [],
   "source": [
    "np.zeros(5)"
   ]
  },
  {
   "cell_type": "code",
   "execution_count": null,
   "id": "6d0e6e06",
   "metadata": {},
   "outputs": [],
   "source": [
    "np.ones(5)"
   ]
  },
  {
   "cell_type": "markdown",
   "id": "58cc7613",
   "metadata": {},
   "source": [
    "These arrays aren't very useful at the moment; usually, we will want to fill in the elements of these arrays with other values."
   ]
  },
  {
   "cell_type": "markdown",
   "id": "aebd93a8",
   "metadata": {},
   "source": [
    "## Filling arrays\n",
    "\n",
    "We put values into arrays using *assignment*."
   ]
  },
  {
   "cell_type": "markdown",
   "id": "fc919d1d",
   "metadata": {},
   "source": [
    "### A refresher on assignment\n",
    "\n",
    "Remember the basic assignment statement.  We have so far learned that the assignment statement is a *name* followed by `=` followed by an expression (a recipe that returns a value)."
   ]
  },
  {
   "cell_type": "code",
   "execution_count": null,
   "id": "bd4d172c",
   "metadata": {},
   "outputs": [],
   "source": [
    "# An assignment statement\n",
    "a = 1\n",
    "a"
   ]
  },
  {
   "cell_type": "markdown",
   "id": "0dab3a4f",
   "metadata": {},
   "source": [
    "Here the left hand side (LHS) is `a`.\n",
    "\n",
    "The right hand side (RHS) is an expression: `1`.\n",
    "\n",
    "We can read `a = 1` as \"a gets the value 1.\"  We can also read it as: \"Make the location called 'a' point to the value 1.\""
   ]
  },
  {
   "cell_type": "markdown",
   "id": "6e64838f",
   "metadata": {},
   "source": [
    "So far, the left hand side (LHS) has always been a *name*.\n",
    "\n",
    "In fact, the LHS can be anything we can *assign* to."
   ]
  },
  {
   "cell_type": "markdown",
   "id": "42c87085",
   "metadata": {},
   "source": [
    "### A refresher on indexing\n",
    "\n",
    "Remember too that we can retrieve values from an array by *indexing*.\n",
    "\n",
    "Here is an example array:"
   ]
  },
  {
   "cell_type": "code",
   "execution_count": null,
   "id": "4ea36a70",
   "metadata": {},
   "outputs": [],
   "source": [
    "my_array = np.arange(1, 11)\n",
    "my_array"
   ]
  },
  {
   "cell_type": "markdown",
   "id": "9060a067",
   "metadata": {},
   "source": [
    "We can retrieve one or more values by indexing:"
   ]
  },
  {
   "cell_type": "code",
   "execution_count": null,
   "id": "b3a705d2",
   "metadata": {},
   "outputs": [],
   "source": [
    "my_array[1]"
   ]
  },
  {
   "cell_type": "code",
   "execution_count": null,
   "id": "b07ad689",
   "metadata": {},
   "outputs": [],
   "source": [
    "my_array[5:]"
   ]
  },
  {
   "cell_type": "markdown",
   "id": "288d490c",
   "metadata": {},
   "source": [
    "## Assignment with indexing\n",
    "\n",
    "In fact we can use these exact same specifications on the LHS of an assignment statement:"
   ]
  },
  {
   "cell_type": "code",
   "execution_count": null,
   "id": "ff4073d6",
   "metadata": {},
   "outputs": [],
   "source": [
    "my_array[1] = 99\n",
    "my_array"
   ]
  },
  {
   "cell_type": "code",
   "execution_count": null,
   "id": "40656ec6",
   "metadata": {},
   "outputs": [],
   "source": [
    "my_array[5:] = 100\n",
    "my_array"
   ]
  },
  {
   "cell_type": "markdown",
   "id": "f754cf83",
   "metadata": {},
   "source": [
    "When you use array indexing on the LHS, it means *specify the elements to assign*.  So:\n",
    "\n",
    "* `my_array[5]` on the RHS means - get the value at offset 5 in `my_array`\n",
    "* `my_array[5]` on the LHS means - use this location to store the data returned from the RHS.\n",
    "\n",
    "So we can read `my_array[1] = 99` as \"Make the location 'my_array[5]' point to\n",
    "the value 99.\".\n",
    "\n",
    "We will use this kind of assignment to get a little closer to a good solution to the three girl problem, in [leaping ahead](leaping_ahead)."
   ]
  }
 ],
 "metadata": {
  "jupytext": {
   "split_at_heading": true
  },
  "kernelspec": {
   "display_name": "Python 3",
   "language": "python",
   "name": "python3"
  }
 },
 "nbformat": 4,
 "nbformat_minor": 5
}
