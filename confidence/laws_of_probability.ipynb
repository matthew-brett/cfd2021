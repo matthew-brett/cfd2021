{
 "cells": [
  {
   "cell_type": "markdown",
   "id": "92132b7f",
   "metadata": {},
   "source": [
    "# Laws of probability"
   ]
  },
  {
   "cell_type": "code",
   "execution_count": null,
   "id": "2b91878f",
   "metadata": {
    "tags": [
     "hide-cell"
    ]
   },
   "outputs": [],
   "source": [
    "# Run this cell; do not change it.\n",
    "import numpy as np\n",
    "# Make printing of numbers a bit neater.\n",
    "np.set_printoptions(precision=4, suppress=True)\n",
    "import matplotlib.pyplot as plt\n",
    "# Make the plots look more fancy.\n",
    "plt.style.use('fivethirtyeight')"
   ]
  },
  {
   "cell_type": "markdown",
   "id": "77a56249",
   "metadata": {},
   "source": [
    "There are two important laws of probability that we will be using.  Do not\n",
    "worry about the details of the text below for now, this page explains what\n",
    "the rules mean.\n",
    "\n",
    "* **Multiplication rule**: We get the probability of *both* of two events\n",
    "  happening by *multiplying* the probability of the first event by the\n",
    "  probability of the second event, given we know the first has occurred.\n",
    "* **Addition rule**: We get probability of *either* of two *mutually\n",
    "  exclusive* events happening by *adding* the probability of the first event\n",
    "  to the probability of the second event."
   ]
  },
  {
   "cell_type": "markdown",
   "id": "73172f4e",
   "metadata": {},
   "source": [
    "## Multiplication rule\n",
    "\n",
    "Remember our [two boxes](first_bayes):"
   ]
  },
  {
   "cell_type": "code",
   "execution_count": null,
   "id": "c100500e",
   "metadata": {},
   "outputs": [],
   "source": [
    "p_box4 = 0.3\n",
    "p_box2 = 0.7"
   ]
  },
  {
   "cell_type": "markdown",
   "id": "d64cb42c",
   "metadata": {},
   "source": [
    "BOX4 has four red balls and one green ball.  BOX2 has two red balls and three\n",
    "green balls."
   ]
  },
  {
   "cell_type": "code",
   "execution_count": null,
   "id": "e38529ef",
   "metadata": {},
   "outputs": [],
   "source": [
    "box4 = np.repeat(['red', 'green'], [4, 1])\n",
    "p_red_for_box4 = 0.8\n",
    "box2 = np.repeat(['red', 'green'], [2, 3])\n",
    "p_red_for_box2 = 0.4"
   ]
  },
  {
   "cell_type": "markdown",
   "id": "ae464cf6",
   "metadata": {},
   "source": [
    "Here we take 10000 boxes, and draw a ball from each box.  We record which box\n",
    "we got and the color of the ball, for each trial."
   ]
  },
  {
   "cell_type": "code",
   "execution_count": null,
   "id": "8968a672",
   "metadata": {},
   "outputs": [],
   "source": [
    "n_iters = 10000\n",
    "# The box for this trial.\n",
    "box_types = np.repeat(['box?'], n_iters)\n",
    "# The color of the ball we chose.\n",
    "ball_colors = np.repeat(['green'], n_iters)\n",
    "for i in np.arange(n_iters):\n",
    "    # Choose a box number with a 30% chance of BOX4\n",
    "    box_type = np.random.choice(['box4', 'box2'],\n",
    "                                p=[p_box4, p_box2])\n",
    "    # Choose a ball at random from the box.\n",
    "    if box_type == 'box4':\n",
    "        # Choose a ball at random from BOX4.\n",
    "        ball_color = np.random.choice(box4)\n",
    "    else:  # box 4\n",
    "        # Choose a ball at random from BOX2.\n",
    "        ball_color = np.random.choice(box2)\n",
    "    # Store the results for each trial.\n",
    "    box_types[i] = box_type\n",
    "    ball_colors[i] = ball_color"
   ]
  },
  {
   "cell_type": "markdown",
   "id": "ed7355d4",
   "metadata": {},
   "source": [
    "As we expect from the [law of large numbers](large_numbers), the proportions\n",
    "of BOX4 and BOX2 are very close to their initial probabilities."
   ]
  },
  {
   "cell_type": "code",
   "execution_count": null,
   "id": "a09a7f4c",
   "metadata": {},
   "outputs": [],
   "source": [
    "print('Proportion of box4s',\n",
    "      np.count_nonzero(box_types == 'box4') / n_iters)\n",
    "print('Proportion of box2s',\n",
    "      np.count_nonzero(box_types == 'box2') / n_iters)"
   ]
  },
  {
   "cell_type": "markdown",
   "id": "d01dffe4",
   "metadata": {},
   "source": [
    "Now let's look at the proportion of all trials where we got *both* BOX4 *and* a red ball."
   ]
  },
  {
   "cell_type": "code",
   "execution_count": null,
   "id": "2be813bd",
   "metadata": {},
   "outputs": [],
   "source": [
    "box4_and_red = np.logical_and(box_types == 'box4',\n",
    "                              ball_colors == 'red')\n",
    "print('Proportion of box4 then red',\n",
    "      np.count_nonzero(box4_and_red) / n_iters)"
   ]
  },
  {
   "cell_type": "markdown",
   "id": "aecee0e9",
   "metadata": {},
   "source": [
    "Notice that this is very close to the result of multiplying: *the probability\n",
    "of BOX4* by *the probability of red, given we got BOX4*."
   ]
  },
  {
   "cell_type": "code",
   "execution_count": null,
   "id": "83dde834",
   "metadata": {},
   "outputs": [],
   "source": [
    "p_box4 * p_red_for_box4"
   ]
  },
  {
   "cell_type": "markdown",
   "id": "b21603e6",
   "metadata": {},
   "source": [
    "Here we look at the proportion of trials where we got *both* BOX2 *and* red."
   ]
  },
  {
   "cell_type": "code",
   "execution_count": null,
   "id": "075bf4e1",
   "metadata": {},
   "outputs": [],
   "source": [
    "box2_and_red = np.logical_and(box_types == 'box2',\n",
    "                              ball_colors == 'red')\n",
    "print('Proportion of box2 then red',\n",
    "      np.count_nonzero(box2_and_red) / n_iters)"
   ]
  },
  {
   "cell_type": "markdown",
   "id": "88269815",
   "metadata": {},
   "source": [
    "This is very close the probability of BOX2 times the probability of — red\n",
    "given we got BOX2."
   ]
  },
  {
   "cell_type": "code",
   "execution_count": null,
   "id": "f543fcbe",
   "metadata": {},
   "outputs": [],
   "source": [
    "p_box2 * p_red_for_box2"
   ]
  },
  {
   "cell_type": "markdown",
   "id": "2e2dca02",
   "metadata": {},
   "source": [
    "Why?\n",
    "\n",
    "Here is a Sankey diagram of that calculation:\n",
    "\n",
    "![](../images/box4_2_sankey.jpg)\n",
    "\n",
    "If you follow the flow from right to left, you see that 30% of the trials will flow down the BOX4 arm, of which 80% will flow down the Red arm.   80% of 30% is (in proportions) 0.3 * 0.8 = 0.24.\n",
    "\n",
    "**Multiplication rule**: To get the probability of *both* of two things\n",
    "happening, we *multiply* the probability of the first thing happening (e.g\n",
    "getting BOX4) by the probability of the second thing happening, once we know\n",
    "the first (here, the probability of getting red once we know we have BOX4)."
   ]
  },
  {
   "cell_type": "markdown",
   "id": "0bfdcfdd",
   "metadata": {},
   "source": [
    "## Addition rule\n",
    "\n",
    "Now imagine that, instead of two boxes, we have three boxes."
   ]
  },
  {
   "cell_type": "code",
   "execution_count": null,
   "id": "5f3f7025",
   "metadata": {},
   "outputs": [],
   "source": [
    "p_box4 = 0.3  # 30% chance of BOX4\n",
    "p_box3 = 0.2  # 20% chance of BOX3\n",
    "p_box2 = 0.5  # 50% chance of BOX2"
   ]
  },
  {
   "cell_type": "markdown",
   "id": "961521c1",
   "metadata": {},
   "source": [
    "The new box, BOX3, has three red balls and two green balls, giving a 60% chance we will draw a red ball from BOX3."
   ]
  },
  {
   "cell_type": "code",
   "execution_count": null,
   "id": "fb8f9409",
   "metadata": {},
   "outputs": [],
   "source": [
    "box3 = np.repeat(['red', 'green'], [3, 2])\n",
    "p_red_for_box3 = 0.6"
   ]
  },
  {
   "cell_type": "markdown",
   "id": "3a2c9721",
   "metadata": {},
   "source": [
    "Here is a trial sampling lots of boxes, where we could get any one of boxes 4,\n",
    "3 or 2."
   ]
  },
  {
   "cell_type": "code",
   "execution_count": null,
   "id": "3bb0d7e7",
   "metadata": {},
   "outputs": [],
   "source": [
    "boxes = np.random.choice(['box4', 'box3', 'box2'],\n",
    "                          p=[p_box4, p_box3, p_box2],\n",
    "                          size=10000)\n",
    "prop4 = np.count_nonzero(boxes == 'box4') / 10000\n",
    "print('Proportion of BOX4', prop4)\n",
    "prop3 = np.count_nonzero(boxes == 'box3') / 10000\n",
    "print('Proportion of BOX3', prop3)\n",
    "prop2 = np.count_nonzero(boxes == 'box2') / 10000\n",
    "print('Proportion of BOX2', prop2)"
   ]
  },
  {
   "cell_type": "markdown",
   "id": "a101a9eb",
   "metadata": {},
   "source": [
    "Now let's think about the probability of getting *either* BOX4 *or* BOX3."
   ]
  },
  {
   "cell_type": "code",
   "execution_count": null,
   "id": "c57bfe44",
   "metadata": {},
   "outputs": [],
   "source": [
    "is_4_or_3 = np.logical_or(boxes == 'box4', boxes == 'box3')\n",
    "prop4_or_3 = np.count_nonzero(is_4_or_3) / 10000\n",
    "print('Proportion of BOX4 or BOX3', prop4_or_3)"
   ]
  },
  {
   "cell_type": "markdown",
   "id": "8cc00af3",
   "metadata": {},
   "source": [
    "Notice that this has to be the same as:"
   ]
  },
  {
   "cell_type": "code",
   "execution_count": null,
   "id": "4d6b7178",
   "metadata": {},
   "outputs": [],
   "source": [
    "prop4 + prop3"
   ]
  },
  {
   "cell_type": "markdown",
   "id": "fd46f8e5",
   "metadata": {},
   "source": [
    "It is also very close to:"
   ]
  },
  {
   "cell_type": "code",
   "execution_count": null,
   "id": "1b0b775f",
   "metadata": {},
   "outputs": [],
   "source": [
    "p_box4 + p_box3"
   ]
  },
  {
   "cell_type": "markdown",
   "id": "73649022",
   "metadata": {},
   "source": [
    "To see why, we do a Sankey (flow) diagram.  Each box flows down one of three\n",
    "paths, the BOX4 path, the BOX3 path or the BOX2 path.  In the long run, 30% of the boxes end up at the end of the BOX4 arm, 20% at the end of the BOX3 arm, and 50% at the end of BOX2 arm:\n",
    "\n",
    "![](../images/box4_3_2_sankey.jpg)\n",
    "\n",
    "The proportion of BOX4 *or* BOX3 is just the number that go down either the BOX4 or BOX3 arm, and therefore:\n"
   ]
  },
  {
   "cell_type": "code",
   "execution_count": null,
   "id": "a09502fa",
   "metadata": {},
   "outputs": [],
   "source": [
    "print('Proportion of either BOX4 or BOX3', p_box4 + p_box3)"
   ]
  },
  {
   "cell_type": "markdown",
   "id": "6a8eb8f1",
   "metadata": {},
   "source": [
    "**Rule**: To get the probability of *either* of two things happening, where those two things cannot happen at the same time, we\n",
    "*add* the probability of the first thing happening (e.g getting BOX4) to\n",
    "the probability of the second thing happening (e.g getting BOX3).\n",
    "\n",
    "This rule only applies when the things that can happen are *mutually\n",
    "exclusive*.  In our case, if the box is BOX4, it *cannot also be* BOX3.  The\n",
    "fact that this is a BOX4 *excludes* the possibility it is BOX3 — and vice\n",
    "versa."
   ]
  }
 ],
 "metadata": {
  "jupytext": {
   "notebook_metadata_filter": "all,-language_info",
   "split_at_heading": true
  },
  "kernelspec": {
   "display_name": "Python 3",
   "language": "python",
   "name": "python3"
  }
 },
 "nbformat": 4,
 "nbformat_minor": 5
}
