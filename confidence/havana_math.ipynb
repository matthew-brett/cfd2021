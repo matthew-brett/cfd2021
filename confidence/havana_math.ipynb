{
 "cells": [
  {
   "cell_type": "markdown",
   "id": "7502e6e7",
   "metadata": {},
   "source": [
    "# A problem for the education minister\n",
    "\n",
    "Imagine for a moment that you are the minister of education in Cuba.\n",
    "\n",
    "It is 2019.   The final school exams have just finished, but the results are not\n",
    "out yet.  Of course you do have the results from 2018.\n",
    "\n",
    "You are particularly interested in this year's results in Havana, because of\n",
    "recent problems that you have had with loss of teachers due to emigration.\n",
    "\n",
    "In order to plan for the year ahead, you need to know if the mathematics\n",
    "results are holding steady.   But the marking will take time, you won't get\n",
    "the full results for 2019 for another month.\n",
    "\n",
    "To help your decision-making, you very much want to get an idea of how good\n",
    "the results are this year.   Being wise, you decided to take a random sample\n",
    "of 50 from all the exam papers from Havana this year (2019).  You get them\n",
    "marked quickly.   But - how much information will this sample give you about\n",
    "the eventual results for 2019?"
   ]
  },
  {
   "cell_type": "code",
   "execution_count": null,
   "id": "a41e3b7a",
   "metadata": {},
   "outputs": [],
   "source": [
    "import numpy as np\n",
    "# Make printing of numbers a bit neater.\n",
    "np.set_printoptions(precision=4, suppress=True)\n",
    "import pandas as pd\n",
    "# Safe settings for Pandas.\n",
    "pd.set_option('mode.chained_assignment', 'raise')\n",
    "import matplotlib.pyplot as plt\n",
    "%matplotlib inline\n",
    "plt.style.use('fivethirtyeight')"
   ]
  },
  {
   "cell_type": "markdown",
   "id": "4fc84ef9",
   "metadata": {},
   "source": [
    "Here are the\n",
    "[actual](https://github.com/odsti/datasets/tree/abb224b/havana_exams)\n",
    "school-leaver mathematics examination results from 2018."
   ]
  },
  {
   "cell_type": "markdown",
   "id": "e43eb5a3",
   "metadata": {},
   "source": [
    "You can download the file from\n",
    "{download}`havana_math_2018.csv <../data/havana_math_2018.csv>`."
   ]
  },
  {
   "cell_type": "code",
   "execution_count": null,
   "id": "4aaee28e",
   "metadata": {},
   "outputs": [],
   "source": [
    "havana_2018 = pd.read_csv('havana_math_2018.csv')\n",
    "# Drop missing marks.\n",
    "havana_2018 = havana_2018.dropna()\n",
    "havana_2018.head()"
   ]
  },
  {
   "cell_type": "markdown",
   "id": "31e07cdf",
   "metadata": {},
   "source": [
    "There are about 7300 marks in this table:"
   ]
  },
  {
   "cell_type": "code",
   "execution_count": null,
   "id": "4dbd08fd",
   "metadata": {},
   "outputs": [],
   "source": [
    "len(havana_2018)"
   ]
  },
  {
   "cell_type": "markdown",
   "id": "ee569f24",
   "metadata": {},
   "source": [
    "Here is the histogram, split into 100 bins to show more detail of the\n",
    "distribution --- the default is 10 bins (question --- how would you check\n",
    "this?)."
   ]
  },
  {
   "cell_type": "code",
   "execution_count": null,
   "id": "1d4a9478",
   "metadata": {},
   "outputs": [],
   "source": [
    "havana_2018.hist('mark', bins=100);"
   ]
  },
  {
   "cell_type": "markdown",
   "id": "f8bbfb91",
   "metadata": {},
   "source": [
    "Notice this is much unlike a normal distribution,  In particular, you can see\n",
    "that the marks near 50% - appear to have been pushed upwards to 60%.  Maybe the\n",
    "markers are being generous to students close to the pass mark."
   ]
  },
  {
   "cell_type": "markdown",
   "id": "46b82f35",
   "metadata": {},
   "source": [
    "Here are the various statistics for the 2018 marks:"
   ]
  },
  {
   "cell_type": "code",
   "execution_count": null,
   "id": "4ab9cad2",
   "metadata": {},
   "outputs": [],
   "source": [
    "havana_2018['mark'].describe()"
   ]
  },
  {
   "cell_type": "markdown",
   "id": "fe5ea2a0",
   "metadata": {},
   "source": [
    "We are particularly interested in the mean."
   ]
  },
  {
   "cell_type": "code",
   "execution_count": null,
   "id": "85f7a86e",
   "metadata": {},
   "outputs": [],
   "source": [
    "# Mean mark in 2018.\n",
    "math_med_2018 = havana_2018['mark'].mean()\n",
    "math_med_2018"
   ]
  },
  {
   "cell_type": "markdown",
   "id": "ec2c0c3a",
   "metadata": {},
   "source": [
    "Now we look at the sample of 50 exams from 2019 that you marked quickly.\n",
    "\n",
    "You can download the sample file from\n",
    "{download}`havana_math_2019_sample.csv <../data/havana_math_2019_sample.csv>`."
   ]
  },
  {
   "cell_type": "code",
   "execution_count": null,
   "id": "39eedb84",
   "metadata": {},
   "outputs": [],
   "source": [
    "havana_2019_sample = pd.read_csv('havana_math_2019_sample.csv')\n",
    "havana_2019_sample.head()"
   ]
  },
  {
   "cell_type": "code",
   "execution_count": null,
   "id": "71af9c1b",
   "metadata": {},
   "outputs": [],
   "source": [
    "len(havana_2019_sample)"
   ]
  },
  {
   "cell_type": "code",
   "execution_count": null,
   "id": "5f8e73ed",
   "metadata": {},
   "outputs": [],
   "source": [
    "havana_2019_sample['mark'].describe()"
   ]
  },
  {
   "cell_type": "code",
   "execution_count": null,
   "id": "0c30268c",
   "metadata": {},
   "outputs": [],
   "source": [
    "# Mean mark in 2019 sample.\n",
    "math_med_2019_samp = havana_2019_sample['mark'].mean()\n",
    "math_med_2019_samp"
   ]
  },
  {
   "cell_type": "markdown",
   "id": "2e50efa8",
   "metadata": {},
   "source": [
    "The mean here is 58.74.  That seems a bit lower than the 2018 mean --- but have\n",
    "I been deceived by the sample?  Was I just unlucky?   How confident can I be\n",
    "that the mean from the full results will in fact be near 58.74, rather than the\n",
    "65.25 or so of the previous year?"
   ]
  },
  {
   "cell_type": "markdown",
   "id": "44246756",
   "metadata": {},
   "source": [
    "We now enter the territory of *confidence intervals*.\n",
    "\n",
    "My question is: how close is my *sample mean* of 58.74 likely to be to the\n",
    "eventual mean, once I have all 7000 or so results for 2019?  How *confident*\n",
    "can I be in this sample mean of around 58.74?"
   ]
  }
 ],
 "metadata": {
  "jupytext": {
   "split_at_heading": true
  },
  "kernelspec": {
   "display_name": "Python 3",
   "language": "python",
   "name": "python3"
  }
 },
 "nbformat": 4,
 "nbformat_minor": 5
}
