{
 "cells": [
  {
   "cell_type": "markdown",
   "id": "462738f6",
   "metadata": {},
   "source": [
    "# Money and death\n",
    "\n",
    "We return to the death penalty."
   ]
  },
  {
   "cell_type": "code",
   "execution_count": null,
   "id": "98e6e270",
   "metadata": {},
   "outputs": [],
   "source": [
    "import numpy as np\n",
    "import pandas as pd\n",
    "import matplotlib.pyplot as plt\n",
    "%matplotlib inline\n",
    "# Make plots look a little bit more fancy\n",
    "plt.style.use('fivethirtyeight')"
   ]
  },
  {
   "cell_type": "markdown",
   "id": "214a886c",
   "metadata": {},
   "source": [
    "In this case, we are going to analyze whether people with higher incomes are more likely to favor the death penalty.\n",
    "\n",
    "To do this, we are going to analyze the results from a sample of the\n",
    "US [General Social Survey](http://www.gss.norc.org) from 2002.\n",
    "\n",
    "If you are running on your laptop, download the data file\n",
    "{download}`GSS2002.csv <../data/GSS2002.csv>`."
   ]
  },
  {
   "cell_type": "code",
   "execution_count": null,
   "id": "c377085a",
   "metadata": {},
   "outputs": [],
   "source": [
    "# Read the data into a data frame\n",
    "gss = pd.read_csv('GSS2002.csv')\n",
    "gss"
   ]
  },
  {
   "cell_type": "markdown",
   "id": "f4eb3c2a",
   "metadata": {},
   "source": [
    "Each row corresponds to a single respondent.\n",
    "\n",
    "Show the column names:"
   ]
  },
  {
   "cell_type": "code",
   "execution_count": null,
   "id": "6fd99dbb",
   "metadata": {},
   "outputs": [],
   "source": [
    "gss.columns"
   ]
  },
  {
   "cell_type": "markdown",
   "id": "d587ab6c",
   "metadata": {},
   "source": [
    "We want to work with only two columns from this data frame.  These are \"Income\", and \"DeathPenalty\".\n",
    "\n",
    "\"Income\" gives the income bracket of the respondent.  \"DeathPenalty\" is the answer to a question about whether they \"Favor\" or \"Oppose\" the death penalty.\n",
    "\n",
    "First make a list with the names of the columns that we want."
   ]
  },
  {
   "cell_type": "code",
   "execution_count": null,
   "id": "d665da1c",
   "metadata": {},
   "outputs": [],
   "source": [
    "cols = ['Income', 'DeathPenalty']\n",
    "cols"
   ]
  },
  {
   "cell_type": "markdown",
   "id": "e434fcb5",
   "metadata": {},
   "source": [
    "Next make a new data frame by indexing the data frame with this list.\n",
    "\n",
    "The new data frame has only the columns we selected."
   ]
  },
  {
   "cell_type": "code",
   "execution_count": null,
   "id": "cfe5940e",
   "metadata": {},
   "outputs": [],
   "source": [
    "money_death = gss[cols]\n",
    "money_death"
   ]
  },
  {
   "cell_type": "markdown",
   "id": "e2500eef",
   "metadata": {},
   "source": [
    "There are many missing question responses, indicated by `NaN`.  To\n",
    "make our life easier, we drop the respondents who didn't specify an\n",
    "income bracket, and those who did not give an answer to the death penalty\n",
    "question.  We use Pandas `dropna` method of the data frame, to drop all rows\n",
    "that have any missing values in the row."
   ]
  },
  {
   "cell_type": "code",
   "execution_count": null,
   "id": "9eeadfef",
   "metadata": {},
   "outputs": [],
   "source": [
    "money_death = money_death.dropna()\n",
    "money_death"
   ]
  },
  {
   "cell_type": "markdown",
   "id": "25577857",
   "metadata": {},
   "source": [
    "Get the income column."
   ]
  },
  {
   "cell_type": "code",
   "execution_count": null,
   "id": "56ee77f8",
   "metadata": {},
   "outputs": [],
   "source": [
    "income = money_death['Income']"
   ]
  },
  {
   "cell_type": "markdown",
   "id": "71184453",
   "metadata": {},
   "source": [
    "Show the unique values:"
   ]
  },
  {
   "cell_type": "code",
   "execution_count": null,
   "id": "1527b832",
   "metadata": {},
   "outputs": [],
   "source": [
    "income.value_counts()"
   ]
  },
  {
   "cell_type": "markdown",
   "id": "2d9dc98d",
   "metadata": {},
   "source": [
    "These are strings.  We want to get income as a number.  We estimate this by\n",
    "*recoding* the \"Income\" column.  We replace the string, giving the income\n",
    "bracket, with the average of the minimum and maximum in the range.\n",
    "\n",
    "We can do this with a *recoder function*.  We have not covered functions yet, so do not worry about the details of this function."
   ]
  },
  {
   "cell_type": "code",
   "execution_count": null,
   "id": "55988168",
   "metadata": {},
   "outputs": [],
   "source": [
    "def recode_income(value):\n",
    "    if value == 'under 1000':\n",
    "        return 500\n",
    "    low_str, high_str = value.split('-')\n",
    "    low, high = int(low_str), int(high_str)\n",
    "    return np.mean([low, high])"
   ]
  },
  {
   "cell_type": "markdown",
   "id": "1a1105fd",
   "metadata": {},
   "source": [
    "Here is what the recoder function gives with the lowest income bracket."
   ]
  },
  {
   "cell_type": "code",
   "execution_count": null,
   "id": "8099a74c",
   "metadata": {},
   "outputs": [],
   "source": [
    "recode_income('under 1000')"
   ]
  },
  {
   "cell_type": "markdown",
   "id": "d0018560",
   "metadata": {},
   "source": [
    "Here is the return from a higher bracket:"
   ]
  },
  {
   "cell_type": "code",
   "execution_count": null,
   "id": "0b38bd30",
   "metadata": {},
   "outputs": [],
   "source": [
    "recode_income('90000-109999')"
   ]
  },
  {
   "cell_type": "markdown",
   "id": "feb19345",
   "metadata": {},
   "source": [
    "Use this function to recode the \"Income\" strings into numbers. Again, we have not covered the `apply` method yet, so don't worry about the details."
   ]
  },
  {
   "cell_type": "code",
   "execution_count": null,
   "id": "62ce70cf",
   "metadata": {},
   "outputs": [],
   "source": [
    "income_ish = income.apply(recode_income)\n",
    "income_ish"
   ]
  },
  {
   "cell_type": "markdown",
   "id": "bb335926",
   "metadata": {},
   "source": [
    "Now get the results of the answer to the death penalty question."
   ]
  },
  {
   "cell_type": "code",
   "execution_count": null,
   "id": "d06b25f6",
   "metadata": {},
   "outputs": [],
   "source": [
    "death = money_death['DeathPenalty']\n",
    "death.value_counts()"
   ]
  },
  {
   "cell_type": "markdown",
   "id": "e20d8383",
   "metadata": {},
   "source": [
    "We will identify the rows for respondents who are in favor of the death penalty.  To do this, we make a Boolean vector:"
   ]
  },
  {
   "cell_type": "code",
   "execution_count": null,
   "id": "ac2abba9",
   "metadata": {},
   "outputs": [],
   "source": [
    "death == 'Favor'"
   ]
  },
  {
   "cell_type": "markdown",
   "id": "06a8858b",
   "metadata": {},
   "source": [
    "Use this vector to select the income values for the respondents in favor of the death penalty.  Show the distribution of values."
   ]
  },
  {
   "cell_type": "code",
   "execution_count": null,
   "id": "086ed918",
   "metadata": {},
   "outputs": [],
   "source": [
    "favor_income = income_ish[death == 'Favor']\n",
    "favor_income.hist();"
   ]
  },
  {
   "cell_type": "markdown",
   "id": "8c97ca5f",
   "metadata": {},
   "source": [
    "Likewise select incomes for those opposed.   Show the distribution."
   ]
  },
  {
   "cell_type": "code",
   "execution_count": null,
   "id": "06519d91",
   "metadata": {},
   "outputs": [],
   "source": [
    "oppose_income = income_ish[death == 'Oppose']\n",
    "oppose_income.hist();"
   ]
  },
  {
   "cell_type": "markdown",
   "id": "20ca7adb",
   "metadata": {},
   "source": [
    "Calculate the difference in mean income between the groups.  This is the difference we observe."
   ]
  },
  {
   "cell_type": "code",
   "execution_count": null,
   "id": "c1bdaa1a",
   "metadata": {},
   "outputs": [],
   "source": [
    "actual_diff = np.mean(favor_income) - np.mean(oppose_income)\n",
    "actual_diff"
   ]
  },
  {
   "cell_type": "markdown",
   "id": "40fb18b3",
   "metadata": {},
   "source": [
    "We want to know whether this difference in income is compatible with random sampling. That is, we want to know whether a difference this large is plausible, if the incomes are in fact random samples from the same population.\n",
    "\n",
    "To estimate how variable the mean differences can be, for such random sampling,\n",
    "we simulate this sampling by pooling the income values that we have, from the\n",
    "two groups, and the permuting them.\n",
    "\n",
    "First, we get the number of respondents in favor of the death penalty."
   ]
  },
  {
   "cell_type": "code",
   "execution_count": null,
   "id": "17beebbf",
   "metadata": {},
   "outputs": [],
   "source": [
    "n_favor = len(favor_income)\n",
    "n_favor"
   ]
  },
  {
   "cell_type": "markdown",
   "id": "2ca8fc0f",
   "metadata": {},
   "source": [
    "Then we pool the in-favor and oppose groups, by using `np.append` to concatenate (stick together) the two arrays, into one long array."
   ]
  },
  {
   "cell_type": "code",
   "execution_count": null,
   "id": "88bbc5d9",
   "metadata": {},
   "outputs": [],
   "source": [
    "pooled = np.append(favor_income, oppose_income)"
   ]
  },
  {
   "cell_type": "markdown",
   "id": "a9d8ec27",
   "metadata": {},
   "source": [
    "To do the random sampling we permute the values, so the `pooled` vector is\n",
    "a random mixture of the two groups."
   ]
  },
  {
   "cell_type": "code",
   "execution_count": null,
   "id": "a93be5e0",
   "metadata": {},
   "outputs": [],
   "source": [
    "shuffled = np.random.permutation(pooled)"
   ]
  },
  {
   "cell_type": "markdown",
   "id": "5736d3e2",
   "metadata": {},
   "source": [
    "Treat the first `n_favor` observations from this shuffled vector as\n",
    "our simulated in-favor group.  The rest are our simulated oppose\n",
    "group."
   ]
  },
  {
   "cell_type": "code",
   "execution_count": null,
   "id": "73546b19",
   "metadata": {},
   "outputs": [],
   "source": [
    "fake_favor = shuffled[:n_favor]\n",
    "fake_oppose = shuffled[n_favor:]"
   ]
  },
  {
   "cell_type": "markdown",
   "id": "bbcfe02e",
   "metadata": {},
   "source": [
    "Calculate the difference in means for this simulation."
   ]
  },
  {
   "cell_type": "code",
   "execution_count": null,
   "id": "d00425b6",
   "metadata": {},
   "outputs": [],
   "source": [
    "fake_diff = np.mean(fake_favor) - np.mean(fake_oppose)\n",
    "fake_diff"
   ]
  },
  {
   "cell_type": "markdown",
   "id": "ab8684bb",
   "metadata": {},
   "source": [
    "Now it is your turn.   Do this simulation 10000 times, to build up the distribution of differences compatible with random sampling.\n",
    "\n",
    "Use the [Brexit ages](../permutation/brexit_ages) notebook for inspiration."
   ]
  },
  {
   "cell_type": "code",
   "execution_count": null,
   "id": "ff873ee2",
   "metadata": {},
   "outputs": [],
   "source": [
    "differences = np.zeros(10000)\n",
    "for i in np.arange(10000):\n",
    "    # Permute the pooled incomes\n",
    "    shuffled = np.random.permutation(pooled)\n",
    "    # Make a fake favor sample\n",
    "\n",
    "    # Make a fake opposed sample\n",
    "\n",
    "    # Calculate the mean difference for the fake samples\n",
    "\n",
    "    # Put the mean difference into the differences array.\n"
   ]
  },
  {
   "cell_type": "markdown",
   "id": "79978944",
   "metadata": {},
   "source": [
    "When you have that working, do a histogram of the differences."
   ]
  },
  {
   "cell_type": "code",
   "execution_count": null,
   "id": "87af1df2",
   "metadata": {},
   "outputs": [],
   "source": [
    "# Your code here"
   ]
  },
  {
   "cell_type": "markdown",
   "id": "a68e2d1a",
   "metadata": {},
   "source": [
    "You can get an idea of where the actual difference we saw sits on this histogram, and therefore how likely that difference is, assuming the incomes come from the same underlying population of incomes.\n",
    "\n",
    "To be more specific, count how many of the differences you calculated were greater than or equal to the actual difference."
   ]
  },
  {
   "cell_type": "code",
   "execution_count": null,
   "id": "08922c55",
   "metadata": {},
   "outputs": [],
   "source": [
    "# Your code here"
   ]
  },
  {
   "cell_type": "markdown",
   "id": "da35c4c9",
   "metadata": {},
   "source": [
    "Now calculate the proportion of these differences, to give an estimate of the probability of seeing a difference this large, if the incomes all come from the same underlying population:"
   ]
  },
  {
   "cell_type": "code",
   "execution_count": null,
   "id": "9bdb4f87",
   "metadata": {},
   "outputs": [],
   "source": [
    "# Your code here"
   ]
  }
 ],
 "metadata": {
  "kernelspec": {
   "display_name": "Python 3",
   "language": "python",
   "name": "python3"
  }
 },
 "nbformat": 4,
 "nbformat_minor": 5
}
