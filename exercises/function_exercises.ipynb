{
 "cells": [
  {
   "cell_type": "markdown",
   "id": "bb013d2a",
   "metadata": {},
   "source": [
    "# Exercises on functions\n",
    "\n",
    "For background, please read the [functions](../functions-conditionals/functions) introduction."
   ]
  },
  {
   "cell_type": "markdown",
   "id": "45fb8b52",
   "metadata": {},
   "source": [
    "This function is not properly defined, and will give a `SyntaxError`.  Fix it, then run the call below to confirm it is working."
   ]
  },
  {
   "cell_type": "code",
   "execution_count": null,
   "id": "79f77f62",
   "metadata": {
    "tags": [
     "raises-exception"
    ]
   },
   "outputs": [],
   "source": [
    "function subtract(p, q):\n",
    "    r = p - q\n",
    "    return r"
   ]
  },
  {
   "cell_type": "code",
   "execution_count": null,
   "id": "a8eeaa76",
   "metadata": {
    "tags": [
     "raises-exception"
    ]
   },
   "outputs": [],
   "source": [
    "subtract(5, 10)"
   ]
  },
  {
   "cell_type": "markdown",
   "id": "7eab6f4e",
   "metadata": {},
   "source": [
    "This function also gives a `SyntaxError`. Fix and run."
   ]
  },
  {
   "cell_type": "code",
   "execution_count": null,
   "id": "a532e1e7",
   "metadata": {
    "tags": [
     "raises-exception"
    ]
   },
   "outputs": [],
   "source": [
    "def add(first_value, second_value)\n",
    "    return first_value + second_value"
   ]
  },
  {
   "cell_type": "code",
   "execution_count": null,
   "id": "6c1699cb",
   "metadata": {
    "tags": [
     "raises-exception"
    ]
   },
   "outputs": [],
   "source": [
    "add(2, 3)"
   ]
  },
  {
   "cell_type": "markdown",
   "id": "06475e06",
   "metadata": {},
   "source": [
    "Here is another error.  Fix and run."
   ]
  },
  {
   "cell_type": "code",
   "execution_count": null,
   "id": "269e02b2",
   "metadata": {
    "tags": [
     "raises-exception"
    ]
   },
   "outputs": [],
   "source": [
    "def cube(a_variable):\n",
    "return a_variable ** 2"
   ]
  },
  {
   "cell_type": "code",
   "execution_count": null,
   "id": "7c126dfe",
   "metadata": {
    "tags": [
     "raises-exception"
    ]
   },
   "outputs": [],
   "source": [
    "cube(3)"
   ]
  },
  {
   "cell_type": "markdown",
   "id": "f195ef73",
   "metadata": {},
   "source": [
    "Why does the second cell below give you an error?"
   ]
  },
  {
   "cell_type": "code",
   "execution_count": null,
   "id": "dd239f65",
   "metadata": {},
   "outputs": [],
   "source": [
    "def add_then_multiply(a, b):\n",
    "    added = a + b\n",
    "    return added * b"
   ]
  },
  {
   "cell_type": "code",
   "execution_count": null,
   "id": "99fba0e1",
   "metadata": {
    "tags": [
     "raises-exception"
    ]
   },
   "outputs": [],
   "source": [
    "result = add_then_multiply(10, 4)\n",
    "result + added"
   ]
  },
  {
   "cell_type": "markdown",
   "id": "a8179281",
   "metadata": {},
   "source": [
    "Write a function called \"increase\" that\n",
    "\n",
    "* accepts two arguments\n",
    "* the body multiplies the first argument by 2 and the second by 3, adds the two resulting numbers, and returns the result.\n",
    "\n",
    "If your function is right, the cell below should return 13."
   ]
  },
  {
   "cell_type": "code",
   "execution_count": null,
   "id": "47147c2f",
   "metadata": {},
   "outputs": [],
   "source": [
    "# Your function here"
   ]
  },
  {
   "cell_type": "code",
   "execution_count": null,
   "id": "cbd93d9f",
   "metadata": {
    "tags": [
     "raises-exception"
    ]
   },
   "outputs": [],
   "source": [
    "increase(2, 3)"
   ]
  },
  {
   "cell_type": "markdown",
   "id": "c2b12681",
   "metadata": {},
   "source": [
    "This function will run, but it probably doesn't give you the result you expect.  Fix to give the result you expect and run."
   ]
  },
  {
   "cell_type": "code",
   "execution_count": null,
   "id": "3d19aade",
   "metadata": {},
   "outputs": [],
   "source": [
    "def divide(p, q):\n",
    "    # Give result of dividing p by q\n",
    "    result = p / q"
   ]
  },
  {
   "cell_type": "code",
   "execution_count": null,
   "id": "18b09b79",
   "metadata": {},
   "outputs": [],
   "source": [
    "divide(10, 2)"
   ]
  },
  {
   "cell_type": "markdown",
   "id": "1428e775",
   "metadata": {},
   "source": [
    "Remember that, in function world, the function can see the variables\n",
    "at the top level, but it cannot change what value the top-level\n",
    "variables point to.\n",
    "\n",
    "Read the code the below, but do not run it.\n",
    "\n",
    "Predict what you will see.  Will it be an error?  If not, what value will you see?  \n",
    "\n",
    "Run it to see if you're right."
   ]
  },
  {
   "cell_type": "code",
   "execution_count": null,
   "id": "b63589eb",
   "metadata": {},
   "outputs": [],
   "source": [
    "a = 12\n",
    "\n",
    "def my_function(b):\n",
    "    return a * b\n",
    "\n",
    "my_function(4)"
   ]
  },
  {
   "cell_type": "markdown",
   "id": "c11a98c3",
   "metadata": {},
   "source": [
    "This is now going into deeper water.\n",
    "\n",
    "We know that, in function world, the function can see the variables at the top level, but it cannot change what value the top-level variables point to.\n",
    "\n",
    "Read the code the below, but do not run it.\n",
    "\n",
    "Predict what you will see.  Will it be an error?  If not, what value will you see?\n",
    "\n",
    "Run it to see if you're right.  See if you can explain why you are right.  Call your instructor over to check your explanation."
   ]
  },
  {
   "cell_type": "code",
   "execution_count": null,
   "id": "552d3787",
   "metadata": {},
   "outputs": [],
   "source": [
    "a = 12\n",
    "\n",
    "def function_two(b):\n",
    "    a = b\n",
    "    return a * b\n",
    "\n",
    "function_two(4)"
   ]
  }
 ],
 "metadata": {
  "jupyterbook": {
   "run": false
  },
  "jupytext": {
   "notebook_metadata_filter": "all,-language_info"
  },
  "kernelspec": {
   "display_name": "Python 3",
   "language": "python",
   "name": "python3"
  }
 },
 "nbformat": 4,
 "nbformat_minor": 5
}
