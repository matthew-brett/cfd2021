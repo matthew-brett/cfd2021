{
 "cells": [
  {
   "cell_type": "markdown",
   "id": "7079ed36",
   "metadata": {},
   "source": [
    "# Exercises on functions\n",
    "\n",
    "For background, please read the [functions](../functions-conditionals/functions) introduction."
   ]
  },
  {
   "cell_type": "markdown",
   "id": "5bfe0985",
   "metadata": {},
   "source": [
    "This function is not properly defined, and will give a `SyntaxError`.  Fix it, then run the call below to confirm it is working."
   ]
  },
  {
   "cell_type": "code",
   "execution_count": null,
   "id": "a27d0914",
   "metadata": {
    "tags": [
     "raises-exception"
    ]
   },
   "outputs": [],
   "source": [
    "function subtract(p, q):\n",
    "    r = p - q\n",
    "    return r"
   ]
  },
  {
   "cell_type": "code",
   "execution_count": null,
   "id": "6a41ff52",
   "metadata": {
    "tags": [
     "raises-exception"
    ]
   },
   "outputs": [],
   "source": [
    "subtract(5, 10)"
   ]
  },
  {
   "cell_type": "markdown",
   "id": "9746c2de",
   "metadata": {},
   "source": [
    "This function also gives a `SyntaxError`. Fix and run."
   ]
  },
  {
   "cell_type": "code",
   "execution_count": null,
   "id": "f4c4edb6",
   "metadata": {
    "tags": [
     "raises-exception"
    ]
   },
   "outputs": [],
   "source": [
    "def add(first_value, second_value)\n",
    "    return first_value + second_value"
   ]
  },
  {
   "cell_type": "code",
   "execution_count": null,
   "id": "9764e202",
   "metadata": {
    "tags": [
     "raises-exception"
    ]
   },
   "outputs": [],
   "source": [
    "add(2, 3)"
   ]
  },
  {
   "cell_type": "markdown",
   "id": "5595e002",
   "metadata": {},
   "source": [
    "Here is another error.  Fix and run."
   ]
  },
  {
   "cell_type": "code",
   "execution_count": null,
   "id": "792263e6",
   "metadata": {
    "tags": [
     "raises-exception"
    ]
   },
   "outputs": [],
   "source": [
    "def cube(a_variable):\n",
    "return a_variable ** 2"
   ]
  },
  {
   "cell_type": "code",
   "execution_count": null,
   "id": "eab591a8",
   "metadata": {
    "tags": [
     "raises-exception"
    ]
   },
   "outputs": [],
   "source": [
    "cube(3)"
   ]
  },
  {
   "cell_type": "markdown",
   "id": "ee113c7d",
   "metadata": {},
   "source": [
    "Why does the second cell below give you an error?"
   ]
  },
  {
   "cell_type": "code",
   "execution_count": null,
   "id": "3d36d638",
   "metadata": {},
   "outputs": [],
   "source": [
    "def add_then_multiply(a, b):\n",
    "    added = a + b\n",
    "    return added * b"
   ]
  },
  {
   "cell_type": "code",
   "execution_count": null,
   "id": "e1714ac8",
   "metadata": {
    "tags": [
     "raises-exception"
    ]
   },
   "outputs": [],
   "source": [
    "result = add_then_multiply(10, 4)\n",
    "result + added"
   ]
  },
  {
   "cell_type": "markdown",
   "id": "02a09c22",
   "metadata": {},
   "source": [
    "Write a function called \"increase\" that\n",
    "\n",
    "* accepts two arguments\n",
    "* the body multiplies the first argument by 2 and the second by 3, adds the two resulting numbers, and returns the result.\n",
    "\n",
    "If your function is right, the cell below should return 13."
   ]
  },
  {
   "cell_type": "code",
   "execution_count": null,
   "id": "4b8fa67f",
   "metadata": {},
   "outputs": [],
   "source": [
    "# Your function here"
   ]
  },
  {
   "cell_type": "code",
   "execution_count": null,
   "id": "302ccaf8",
   "metadata": {
    "tags": [
     "raises-exception"
    ]
   },
   "outputs": [],
   "source": [
    "increase(2, 3)"
   ]
  },
  {
   "cell_type": "markdown",
   "id": "2ab663dd",
   "metadata": {},
   "source": [
    "This function will run, but it probably doesn't give you the result you expect.  Fix to give the result you expect and run."
   ]
  },
  {
   "cell_type": "code",
   "execution_count": null,
   "id": "c3196acd",
   "metadata": {},
   "outputs": [],
   "source": [
    "def divide(p, q):\n",
    "    # Give result of dividing p by q\n",
    "    result = p / q"
   ]
  },
  {
   "cell_type": "code",
   "execution_count": null,
   "id": "05879ee4",
   "metadata": {},
   "outputs": [],
   "source": [
    "divide(10, 2)"
   ]
  },
  {
   "cell_type": "markdown",
   "id": "75a5b990",
   "metadata": {},
   "source": [
    "Remember that, in function world, the function can see the variables\n",
    "at the top level, but it cannot change what value the top-level\n",
    "variables point to.\n",
    "\n",
    "Read the code the below, but do not run it.\n",
    "\n",
    "Predict what you will see.  Will it be an error?  If not, what value will you see?  \n",
    "\n",
    "Run it to see if you're right."
   ]
  },
  {
   "cell_type": "code",
   "execution_count": null,
   "id": "080c945f",
   "metadata": {},
   "outputs": [],
   "source": [
    "a = 12\n",
    "\n",
    "def my_function(b):\n",
    "    return a * b\n",
    "\n",
    "my_function(4)"
   ]
  },
  {
   "cell_type": "markdown",
   "id": "bb1e3451",
   "metadata": {},
   "source": [
    "This is now going into deeper water.\n",
    "\n",
    "We know that, in function world, the function can see the variables at the top level, but it cannot change what value the top-level variables point to.\n",
    "\n",
    "Read the code the below, but do not run it.\n",
    "\n",
    "Predict what you will see.  Will it be an error?  If not, what value will you see?\n",
    "\n",
    "Run it to see if you're right.  See if you can explain why you are right.  Call your instructor over to check your explanation."
   ]
  },
  {
   "cell_type": "code",
   "execution_count": null,
   "id": "9ae6738b",
   "metadata": {},
   "outputs": [],
   "source": [
    "a = 12\n",
    "\n",
    "def function_two(b):\n",
    "    a = b\n",
    "    return a * b\n",
    "\n",
    "function_two(4)"
   ]
  }
 ],
 "metadata": {
  "jupyterbook": {
   "run": false
  },
  "jupytext": {
   "notebook_metadata_filter": "all,-language_info"
  },
  "kernelspec": {
   "display_name": "Python 3",
   "language": "python",
   "name": "python3"
  }
 },
 "nbformat": 4,
 "nbformat_minor": 5
}
