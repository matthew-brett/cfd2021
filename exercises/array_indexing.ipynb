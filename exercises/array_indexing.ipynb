{
 "cells": [
  {
   "cell_type": "markdown",
   "id": "645c8c60",
   "metadata": {},
   "source": [
    "# Array indexing exercises\n",
    "\n",
    "These exercises follow on from the [array indexing page](../arrays/array_indexing).\n",
    "\n",
    "Run this cell to start:"
   ]
  },
  {
   "cell_type": "code",
   "execution_count": null,
   "id": "26e52539",
   "metadata": {},
   "outputs": [],
   "source": [
    "import numpy as np"
   ]
  },
  {
   "cell_type": "markdown",
   "id": "b3c93a06",
   "metadata": {},
   "source": [
    "So far we have seen arrays that contain numbers. Here is an\n",
    "array that contains strings:"
   ]
  },
  {
   "cell_type": "code",
   "execution_count": null,
   "id": "1d778aff",
   "metadata": {},
   "outputs": [],
   "source": [
    "some_words = np.array(['to', 'be', 'or', 'not', 'to', 'be'])\n",
    "some_words"
   ]
  },
  {
   "cell_type": "markdown",
   "id": "96350733",
   "metadata": {},
   "source": [
    "## Indexing with integers\n",
    "\n",
    "Use indexing with integers to display the first word in\n",
    "`some_words`."
   ]
  },
  {
   "cell_type": "code",
   "execution_count": null,
   "id": "d8706487",
   "metadata": {},
   "outputs": [],
   "source": [
    "# Your code here"
   ]
  },
  {
   "cell_type": "markdown",
   "id": "8f1e62c3",
   "metadata": {},
   "source": [
    "Use indexing with integers to display the word \"not\"."
   ]
  },
  {
   "cell_type": "code",
   "execution_count": null,
   "id": "fa87d2bd",
   "metadata": {},
   "outputs": [],
   "source": [
    "# Your code here"
   ]
  },
  {
   "cell_type": "markdown",
   "id": "20938da9",
   "metadata": {},
   "source": [
    "Here is a Boolean array that has `True` where the word in the matching position of `some_words` is \"be\":"
   ]
  },
  {
   "cell_type": "code",
   "execution_count": null,
   "id": "d23ae32c",
   "metadata": {},
   "outputs": [],
   "source": [
    "bees = some_words == 'be'\n",
    "bees"
   ]
  },
  {
   "cell_type": "markdown",
   "id": "c4aefa67",
   "metadata": {},
   "source": [
    "Use Boolean indexing to show an array with the two instances of \"be\" from `some_words`.\n"
   ]
  },
  {
   "cell_type": "code",
   "execution_count": null,
   "id": "2f246136",
   "metadata": {},
   "outputs": [],
   "source": [
    "# Your code here"
   ]
  },
  {
   "cell_type": "markdown",
   "id": "3b35df8e",
   "metadata": {},
   "source": [
    "Use Boolean indexing to show an array with the two instances of \"to\" from `some_words`."
   ]
  },
  {
   "cell_type": "code",
   "execution_count": null,
   "id": "1e8adaed",
   "metadata": {},
   "outputs": [],
   "source": [
    "# Your code here"
   ]
  },
  {
   "cell_type": "markdown",
   "id": "8f8d08aa",
   "metadata": {},
   "source": [
    "Use Boolean indexing to show an array with the single instance\n",
    "of \"not\" from `some_words`."
   ]
  },
  {
   "cell_type": "code",
   "execution_count": null,
   "id": "70bec341",
   "metadata": {},
   "outputs": [],
   "source": [
    "# Your code here"
   ]
  }
 ],
 "metadata": {
  "jupytext": {
   "notebook_metadata_filter": "language_info"
  },
  "kernelspec": {
   "display_name": "Python 3",
   "language": "python",
   "name": "python3"
  },
  "language_info": {
   "codemirror_mode": {
    "name": "ipython",
    "version": 3
   },
   "file_extension": ".py",
   "mimetype": "text/x-python",
   "name": "python",
   "nbconvert_exporter": "python",
   "pygments_lexer": "ipython3",
   "version": "3.7.1"
  }
 },
 "nbformat": 4,
 "nbformat_minor": 5
}
