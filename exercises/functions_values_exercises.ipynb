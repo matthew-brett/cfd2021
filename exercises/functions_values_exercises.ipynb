{
 "cells": [
  {
   "cell_type": "markdown",
   "id": "d4066fea",
   "metadata": {},
   "source": [
    "For background, please read the [functions as\n",
    "values](../functions-conditionals/functions_as_values) page.\n",
    "\n",
    "Consider these two functions:"
   ]
  },
  {
   "cell_type": "code",
   "execution_count": null,
   "id": "2cec698e",
   "metadata": {},
   "outputs": [],
   "source": [
    "def add(a, b):\n",
    "    return a + b"
   ]
  },
  {
   "cell_type": "code",
   "execution_count": null,
   "id": "dd53e890",
   "metadata": {},
   "outputs": [],
   "source": [
    "def sub(a, b):\n",
    "    return a - b"
   ]
  },
  {
   "cell_type": "markdown",
   "id": "689779da",
   "metadata": {},
   "source": [
    "Here's `add` in action:"
   ]
  },
  {
   "cell_type": "code",
   "execution_count": null,
   "id": "1d0672be",
   "metadata": {},
   "outputs": [],
   "source": [
    "add(4, 1)"
   ]
  },
  {
   "cell_type": "markdown",
   "id": "4996b17e",
   "metadata": {},
   "source": [
    "Here's `sub` in action:"
   ]
  },
  {
   "cell_type": "code",
   "execution_count": null,
   "id": "f40d1922",
   "metadata": {},
   "outputs": [],
   "source": [
    "sub(4, 1)"
   ]
  },
  {
   "cell_type": "markdown",
   "id": "8d2942df",
   "metadata": {},
   "source": [
    "There's some code below, that will error, because the assignment\n",
    "statement does not set `func` to have the value we need. Set `func`\n",
    "correctly so the result equals 2:"
   ]
  },
  {
   "cell_type": "code",
   "execution_count": null,
   "id": "07273b2b",
   "metadata": {
    "tags": [
     "raises-exception"
    ]
   },
   "outputs": [],
   "source": [
    "func = add\n",
    "func(10, 8)"
   ]
  },
  {
   "cell_type": "markdown",
   "id": "c7aa96c3",
   "metadata": {},
   "source": [
    "Set `my_func1` and `my_func2` in the code fragment below, so that the\n",
    "result is 12:"
   ]
  },
  {
   "cell_type": "code",
   "execution_count": null,
   "id": "aa1be535",
   "metadata": {
    "tags": [
     "raises-exception"
    ]
   },
   "outputs": [],
   "source": [
    "my_func1 = # Your code here\n",
    "my_func2 = # Your code here\n",
    "my_func1(8, 2) + my_func2(3, 3)"
   ]
  },
  {
   "cell_type": "markdown",
   "id": "b1ac901f",
   "metadata": {},
   "source": [
    "Here is a function that takes three arguments.  The first, called `f`,\n",
    "should be set to a function value \\- that is, a value that is the\n",
    "internal representation of a function.  The second and third values, called `x` and `y`, should set to be number values."
   ]
  },
  {
   "cell_type": "code",
   "execution_count": null,
   "id": "0cdf8faf",
   "metadata": {},
   "outputs": [],
   "source": [
    "def do_it(f, x, y):\n",
    "    return f(x, y)"
   ]
  },
  {
   "cell_type": "markdown",
   "id": "dab88b91",
   "metadata": {},
   "source": [
    "Set `another_func` so the result returned is 4:"
   ]
  },
  {
   "cell_type": "code",
   "execution_count": null,
   "id": "961b564e",
   "metadata": {
    "tags": [
     "raises-exception"
    ]
   },
   "outputs": [],
   "source": [
    "another_func = # Your code here\n",
    "do_it(another_func, 1, 3)"
   ]
  }
 ],
 "metadata": {
  "jupyterbook": {
   "run": false
  },
  "jupytext": {
   "notebook_metadata_filter": "all,-language_info"
  },
  "kernelspec": {
   "display_name": "Python 3",
   "language": "python",
   "name": "python3"
  }
 },
 "nbformat": 4,
 "nbformat_minor": 5
}
