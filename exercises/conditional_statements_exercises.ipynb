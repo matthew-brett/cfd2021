{
 "cells": [
  {
   "cell_type": "markdown",
   "id": "4af989ec",
   "metadata": {},
   "source": [
    "# Exercises on conditional statements\n",
    "\n",
    "For background, please read the [conditional\n",
    "statements](../functions-conditionals/conditional_statements) introduction.\n",
    "\n",
    "This *if statement* is not properly defined, and will give a `SyntaxError`.  Fix it, then run to confirm it prints `'x greater than 4'`:"
   ]
  },
  {
   "cell_type": "code",
   "execution_count": null,
   "id": "90ac7849",
   "metadata": {
    "tags": [
     "raises-exception"
    ]
   },
   "outputs": [],
   "source": [
    "x = 10\n",
    "x > 4:\n",
    "    print('x greater than 4')"
   ]
  },
  {
   "cell_type": "markdown",
   "id": "ad43f300",
   "metadata": {},
   "source": [
    "This if statement also gives a `SyntaxError`. Fix and run. It should\n",
    "print `-8`;"
   ]
  },
  {
   "cell_type": "code",
   "execution_count": null,
   "id": "77ad9bc6",
   "metadata": {
    "tags": [
     "raises-exception"
    ]
   },
   "outputs": [],
   "source": [
    "p = -2\n",
    "if p < 0\n",
    "    p = p * 4\n",
    "print(p)"
   ]
  },
  {
   "cell_type": "markdown",
   "id": "a6adca80",
   "metadata": {},
   "source": [
    "Another `SyntaxError`; fix and run.  It should print `a divided by 6\n",
    "is 4`"
   ]
  },
  {
   "cell_type": "code",
   "execution_count": null,
   "id": "65831fed",
   "metadata": {
    "tags": [
     "raises-exception"
    ]
   },
   "outputs": [],
   "source": [
    "a = 24\n",
    "if a / 6 == 4:\n",
    "print('a divided by 6 is 4')"
   ]
  },
  {
   "cell_type": "markdown",
   "id": "36048d8d",
   "metadata": {},
   "source": [
    "We want an algorithm to choose a newspaper for someone to read in the\n",
    "dentist's waiting room, given what we know about their views on\n",
    "Brexit.\n",
    "\n",
    "Write a cell that prints `Times` if `voter` has the value `Soft Brexit`,\n",
    "otherwise prints `Telegraph` if `voter` has the value `Hard Brexit` otherwise\n",
    "prints `Guardian` if `voter` has value `remain`, otherwise prints `No idea`."
   ]
  },
  {
   "cell_type": "code",
   "execution_count": null,
   "id": "0c6ea2ec",
   "metadata": {
    "tags": [
     "raises-exception"
    ]
   },
   "outputs": [],
   "source": [
    "# Try for different values of voter\n",
    "voter = 'Hard Brexit'\n",
    "# Your code here\n",
    "if voter ..."
   ]
  }
 ],
 "metadata": {
  "jupyterbook": {
   "run": false
  },
  "jupytext": {
   "notebook_metadata_filter": "all,-language_info"
  },
  "kernelspec": {
   "display_name": "Python 3",
   "language": "python",
   "name": "python3"
  }
 },
 "nbformat": 4,
 "nbformat_minor": 5
}
