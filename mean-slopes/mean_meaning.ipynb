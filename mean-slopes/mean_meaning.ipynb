{
 "cells": [
  {
   "cell_type": "markdown",
   "id": "bc035015",
   "metadata": {},
   "source": [
    "# The meaning of the mean\n",
    "\n",
    "The mean is an interesting value.\n",
    "\n",
    "In this notebook, we fetch an example sequence of numbers, with a distribution that is far from the standard bell-curve distribution.  We look at the properties of the mean as a predictor of the whole distribution.\n",
    "\n",
    "First we load our usual libraries."
   ]
  },
  {
   "cell_type": "code",
   "execution_count": null,
   "id": "912b11f1",
   "metadata": {},
   "outputs": [],
   "source": [
    "import numpy as np\n",
    "import matplotlib.pyplot as plt\n",
    "%matplotlib inline\n",
    "# Make plots look a little bit more fancy\n",
    "plt.style.use('fivethirtyeight')\n",
    "# Print to 2 decimal places, show tiny values as 0\n",
    "np.set_printoptions(precision=2, suppress=True)"
   ]
  },
  {
   "cell_type": "markdown",
   "id": "b418c96f",
   "metadata": {},
   "source": [
    "We need Pandas to load the gender data that we first saw in the [data frame introduction](../data-frames/data_frame_intro)."
   ]
  },
  {
   "cell_type": "code",
   "execution_count": null,
   "id": "6c492652",
   "metadata": {},
   "outputs": [],
   "source": [
    "import pandas as pd"
   ]
  },
  {
   "cell_type": "markdown",
   "id": "afc62d1d",
   "metadata": {},
   "source": [
    "The dataset is {download}`gender_stats.csv <../data/gender_stats.csv>`.\n",
    "This contains some World Bank statistics for each country on health and\n",
    "economic factors related to gender equality. See [the data file page](../data/gender_stats) for more detail."
   ]
  },
  {
   "cell_type": "code",
   "execution_count": null,
   "id": "96268266",
   "metadata": {},
   "outputs": [],
   "source": [
    "# Load the data file\n",
    "gender_data = pd.read_csv('gender_stats.csv')"
   ]
  },
  {
   "cell_type": "markdown",
   "id": "5d57b479",
   "metadata": {},
   "source": [
    "In this case, we are only interested in the data for the Maternal Mortality\n",
    "Ratio `mat_mort_ratio`."
   ]
  },
  {
   "cell_type": "code",
   "execution_count": null,
   "id": "159f3e96",
   "metadata": {},
   "outputs": [],
   "source": [
    "mat_mort_ratio = gender_data['mat_mort_ratio']"
   ]
  },
  {
   "cell_type": "markdown",
   "id": "126f37e6",
   "metadata": {},
   "source": [
    "There are many `NaN` values in `mat_mort_ratio`.  For simplicity, we drop\n",
    "these."
   ]
  },
  {
   "cell_type": "code",
   "execution_count": null,
   "id": "3607cccd",
   "metadata": {},
   "outputs": [],
   "source": [
    "mat_mort_valid = mat_mort_ratio.dropna()"
   ]
  },
  {
   "cell_type": "markdown",
   "id": "bbedf00f",
   "metadata": {},
   "source": [
    "`mat_mort_valid` is a still a Pandas Series:"
   ]
  },
  {
   "cell_type": "code",
   "execution_count": null,
   "id": "92181141",
   "metadata": {},
   "outputs": [],
   "source": [
    "type(mat_mort_valid)"
   ]
  },
  {
   "cell_type": "markdown",
   "id": "573ca924",
   "metadata": {},
   "source": [
    "Again, to make things a bit simpler, we convert this Series to an ordinary Numpy array:"
   ]
  },
  {
   "cell_type": "code",
   "execution_count": null,
   "id": "8b351088",
   "metadata": {},
   "outputs": [],
   "source": [
    "mm_arr = np.array(mat_mort_valid)"
   ]
  },
  {
   "cell_type": "markdown",
   "id": "9f1de3c2",
   "metadata": {},
   "source": [
    "The values for `mm_arr` are very far from a standard bell-curve or [normal distribution](https://en.wikipedia.org/wiki/Normal_distribution)."
   ]
  },
  {
   "cell_type": "code",
   "execution_count": null,
   "id": "dbb49507",
   "metadata": {},
   "outputs": [],
   "source": [
    "plt.hist(mm_arr);"
   ]
  },
  {
   "cell_type": "markdown",
   "id": "39f02a4b",
   "metadata": {},
   "source": [
    "We are interested in the *mean*."
   ]
  },
  {
   "cell_type": "code",
   "execution_count": null,
   "id": "ecd5d17c",
   "metadata": {},
   "outputs": [],
   "source": [
    "mm_mean = np.mean(mm_arr)\n",
    "mm_mean"
   ]
  },
  {
   "cell_type": "markdown",
   "id": "cc6a1952",
   "metadata": {},
   "source": [
    "As you remember, we get the mean by adding up all the values, and then dividing by the number of values, often written as $n$."
   ]
  },
  {
   "cell_type": "code",
   "execution_count": null,
   "id": "d82fca37",
   "metadata": {},
   "outputs": [],
   "source": [
    "np.sum(mm_arr) / len(mm_arr)"
   ]
  },
  {
   "cell_type": "markdown",
   "id": "075a69bf",
   "metadata": {},
   "source": [
    "Now let's consider the following situation.\n",
    "\n",
    "I have all the values on my computer.\n",
    "\n",
    "You don't have any of the values.\n",
    "\n",
    "I want to give you one value, that will do the best possible job of *predicting* the values.  Call this the *predictor*.\n",
    "\n",
    "Then I give you the values from the distribution one by one.  You see how good\n",
    "your prediction is, by subtracting the *predictor* from the value I just gave\n",
    "you.  That is your *prediction error* for that value.\n",
    "\n",
    "One value I could give you as a predictor, is the mean.\n",
    "\n",
    "Is that a good value to give you?\n",
    "\n",
    "Let's start by shuffling up the values, ready to give you, one by one."
   ]
  },
  {
   "cell_type": "code",
   "execution_count": null,
   "id": "795c341f",
   "metadata": {},
   "outputs": [],
   "source": [
    "# Not really necessary, but still.\n",
    "mm_shuffled = np.random.permutation(mm_arr)"
   ]
  },
  {
   "cell_type": "markdown",
   "id": "31bbdfb2",
   "metadata": {},
   "source": [
    "I give you the mean, as a predictor.\n",
    "\n",
    "Then I pass you the first value.  You subtract your predictor, to get the prediction error."
   ]
  },
  {
   "cell_type": "code",
   "execution_count": null,
   "id": "e8f79244",
   "metadata": {},
   "outputs": [],
   "source": [
    "prediction_error_0 = mm_shuffled[0] - mm_mean\n",
    "prediction_error_0"
   ]
  },
  {
   "cell_type": "markdown",
   "id": "eec88475",
   "metadata": {},
   "source": [
    "We do the same for the second value:"
   ]
  },
  {
   "cell_type": "code",
   "execution_count": null,
   "id": "5b11f319",
   "metadata": {},
   "outputs": [],
   "source": [
    "prediction_error_1 = mm_shuffled[1] - mm_mean\n",
    "prediction_error_1"
   ]
  },
  {
   "cell_type": "markdown",
   "id": "b8d6c96d",
   "metadata": {},
   "source": [
    "To cut to the end, let's do all the values at once:"
   ]
  },
  {
   "cell_type": "code",
   "execution_count": null,
   "id": "8f7fb84e",
   "metadata": {},
   "outputs": [],
   "source": [
    "# Calculate all the prediction errors\n",
    "prediction_errors = mm_shuffled - mm_mean\n",
    "# Show the first 10\n",
    "prediction_errors[:10]"
   ]
  },
  {
   "cell_type": "markdown",
   "id": "0d564221",
   "metadata": {},
   "source": [
    "What do the prediction errors look like?"
   ]
  },
  {
   "cell_type": "code",
   "execution_count": null,
   "id": "485129aa",
   "metadata": {},
   "outputs": [],
   "source": [
    "plt.hist(prediction_errors);"
   ]
  },
  {
   "cell_type": "markdown",
   "id": "fa8327ad",
   "metadata": {},
   "source": [
    "Notice the by-eye center of this distribution of prediction errors.\n",
    "\n",
    "Let's add up all the prediction errors:"
   ]
  },
  {
   "cell_type": "code",
   "execution_count": null,
   "id": "5a2d8a7f",
   "metadata": {},
   "outputs": [],
   "source": [
    "np.sum(prediction_errors)"
   ]
  },
  {
   "cell_type": "markdown",
   "id": "03626b7f",
   "metadata": {},
   "source": [
    "The prediction errors add up to (very nearly) 0.  This is a property of the\n",
    "mean.  The deviations from the mean sum to zero.\n",
    "\n",
    "In fact, it is not very hard to show that the deviations [must sum to\n",
    "zero](../extra/mean_deviations).\n",
    "\n",
    "Here was our mean."
   ]
  },
  {
   "cell_type": "code",
   "execution_count": null,
   "id": "a56a9d83",
   "metadata": {},
   "outputs": [],
   "source": [
    "mm_mean"
   ]
  },
  {
   "cell_type": "markdown",
   "id": "e1627c7a",
   "metadata": {},
   "source": [
    "Another prediction we might be interested in, is one that gives us the smallest squared difference from the actual values.\n",
    "\n",
    "Here are the squared differences from the mean."
   ]
  },
  {
   "cell_type": "code",
   "execution_count": null,
   "id": "ef934da4",
   "metadata": {},
   "outputs": [],
   "source": [
    "# Squared prediction errors, for the mean\n",
    "squared_pes = prediction_errors ** 2\n",
    "# Show the first ten\n",
    "squared_pes[:10]"
   ]
  },
  {
   "cell_type": "markdown",
   "id": "b109e88d",
   "metadata": {},
   "source": [
    "With a good prediction, we might want these squared prediction errors to be small.  We can see how small these are by adding them all up.  This gives us the \"sum of squares\"."
   ]
  },
  {
   "cell_type": "code",
   "execution_count": null,
   "id": "e40a1b08",
   "metadata": {},
   "outputs": [],
   "source": [
    "sos = np.sum(squared_pes)\n",
    "sos"
   ]
  },
  {
   "cell_type": "markdown",
   "id": "ed45f836",
   "metadata": {},
   "source": [
    "That is the sum of squared prediction errors that the mean gives us.  Could some other value give us a better (lower) sum of squared prediction error?\n",
    "\n",
    "Let's try lots of predictors, to see which gives us the smallest squared prediction error."
   ]
  },
  {
   "cell_type": "code",
   "execution_count": null,
   "id": "c56436bb",
   "metadata": {},
   "outputs": [],
   "source": [
    "# Try lots of values between 150 and 210\n",
    "predictors = np.arange(150, 210, 0.1)\n",
    "# First 10\n",
    "predictors[:10]"
   ]
  },
  {
   "cell_type": "markdown",
   "id": "7c61bc96",
   "metadata": {},
   "source": [
    "We make a function that accepts the values, and the predictor as arguments, and returns the sum of squares of the prediction errors:"
   ]
  },
  {
   "cell_type": "code",
   "execution_count": null,
   "id": "70cb9b41",
   "metadata": {},
   "outputs": [],
   "source": [
    "def sum_of_squares(vals, predictor):\n",
    "    pred_errs = vals - predictor\n",
    "    sq_pred_errs = pred_errs ** 2\n",
    "    return np.sum(sq_pred_errs)"
   ]
  },
  {
   "cell_type": "markdown",
   "id": "14d5d7f6",
   "metadata": {},
   "source": [
    "We confirm that this gives us the value we saw before, when we use the mean as a predictor:"
   ]
  },
  {
   "cell_type": "code",
   "execution_count": null,
   "id": "58678729",
   "metadata": {},
   "outputs": [],
   "source": [
    "sum_of_squares(mm_arr, mm_mean)"
   ]
  },
  {
   "cell_type": "markdown",
   "id": "7c754a62",
   "metadata": {},
   "source": [
    "Here's what we get if we use the first predictor value:"
   ]
  },
  {
   "cell_type": "code",
   "execution_count": null,
   "id": "e50d330b",
   "metadata": {},
   "outputs": [],
   "source": [
    "sum_of_squares(mm_arr, predictors[0])"
   ]
  },
  {
   "cell_type": "markdown",
   "id": "4fa069e2",
   "metadata": {},
   "source": [
    "Now we try all the predictor values, to see which value gives us the lowest sum of squared errors."
   ]
  },
  {
   "cell_type": "code",
   "execution_count": null,
   "id": "777751e7",
   "metadata": {},
   "outputs": [],
   "source": [
    "# How many predictors do we have to try?\n",
    "n_predictors = len(predictors)\n",
    "n_predictors"
   ]
  },
  {
   "cell_type": "code",
   "execution_count": null,
   "id": "5ee5578c",
   "metadata": {},
   "outputs": [],
   "source": [
    "# An array to store the sum of squares values for each predictor\n",
    "sos_for_predictors = np.ones(n_predictors)"
   ]
  },
  {
   "cell_type": "markdown",
   "id": "2f975c4f",
   "metadata": {},
   "source": [
    "We calculate all the sums of squares:"
   ]
  },
  {
   "cell_type": "code",
   "execution_count": null,
   "id": "96df7006",
   "metadata": {},
   "outputs": [],
   "source": [
    "for i in np.arange(n_predictors):\n",
    "    predictor = predictors[i]\n",
    "    sos = sum_of_squares(mm_arr, predictor)\n",
    "    sos_for_predictors[i] = sos"
   ]
  },
  {
   "cell_type": "markdown",
   "id": "7559bf0f",
   "metadata": {},
   "source": [
    "Which predictor is giving us the lowest value for the sum of squares?"
   ]
  },
  {
   "cell_type": "code",
   "execution_count": null,
   "id": "4fb617e4",
   "metadata": {},
   "outputs": [],
   "source": [
    "plt.plot(predictors, sos_for_predictors)\n",
    "plt.xlabel('Predictor')\n",
    "plt.ylabel('Sum of squares');"
   ]
  },
  {
   "cell_type": "markdown",
   "id": "17f6a1c6",
   "metadata": {},
   "source": [
    "The smallest value we found for the sum of squares was:"
   ]
  },
  {
   "cell_type": "code",
   "execution_count": null,
   "id": "1879d594",
   "metadata": {},
   "outputs": [],
   "source": [
    "np.min(sos_for_predictors)"
   ]
  },
  {
   "cell_type": "markdown",
   "id": "3dee85d7",
   "metadata": {},
   "source": [
    "In fact, the value for the mean is even lower:"
   ]
  },
  {
   "cell_type": "code",
   "execution_count": null,
   "id": "c2622661",
   "metadata": {},
   "outputs": [],
   "source": [
    "sum_of_squares(mm_arr, mm_mean)"
   ]
  },
  {
   "cell_type": "markdown",
   "id": "a50ab408",
   "metadata": {},
   "source": [
    "We would have to use some [fairly simple calculus and\n",
    "algebra](../extra/mean_sq_deviations) to show this, but the *mean* has to give\n",
    "the lowest sum of squares error.\n",
    "\n",
    "Put another way, the mean minimizes:\n",
    "\n",
    "* the sum of the errors;\n",
    "* the sum of squared errors."
   ]
  }
 ],
 "metadata": {
  "jupytext": {
   "notebook_metadata_filter": "all,-language_info"
  },
  "kernelspec": {
   "display_name": "Python 3",
   "language": "python",
   "name": "python3"
  }
 },
 "nbformat": 4,
 "nbformat_minor": 5
}
