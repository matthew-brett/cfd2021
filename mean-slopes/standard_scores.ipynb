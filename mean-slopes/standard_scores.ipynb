{
 "cells": [
  {
   "cell_type": "markdown",
   "id": "43beb530",
   "metadata": {},
   "source": [
    "# Standard scores"
   ]
  },
  {
   "cell_type": "code",
   "execution_count": null,
   "id": "9558237d",
   "metadata": {},
   "outputs": [],
   "source": [
    "import numpy as np\n",
    "%matplotlib inline\n",
    "import matplotlib.pyplot as plt\n",
    "plt.style.use('fivethirtyeight')\n",
    "import pandas as pd"
   ]
  },
  {
   "cell_type": "markdown",
   "id": "21a5d9f6",
   "metadata": {},
   "source": [
    "## Describing distributions\n",
    "\n",
    "We have seen several examples of *distributions*.\n",
    "\n",
    "We can describe distributions as having a *center*, and a *spread*.\n",
    "\n",
    "In [the mean as predictor](mean_meaning), we saw that the mean is\n",
    "a useful measure of the center of a distribution.\n",
    "\n",
    "What measure should we use for the spread?"
   ]
  },
  {
   "cell_type": "markdown",
   "id": "8d40b4be",
   "metadata": {},
   "source": [
    "## Back to chronic kidney disease\n",
    "\n",
    "We return to the [data on chronic kidney disease](../data/chronic_kidney_disease).\n",
    "\n",
    "Download the data to your computer via this link: {download}`ckd_clean.csv\n",
    "<../data/ckd_clean.csv>`."
   ]
  },
  {
   "cell_type": "code",
   "execution_count": null,
   "id": "0683865e",
   "metadata": {},
   "outputs": [],
   "source": [
    "ckd_full = pd.read_csv('ckd_clean.csv')\n",
    "ckd_full.head()"
   ]
  },
  {
   "cell_type": "markdown",
   "id": "a4cee116",
   "metadata": {},
   "source": [
    "We will use this dataset to get a couple of variables (columns) and\n",
    "therefore a couple of distributions.\n",
    "\n",
    "Let's start with the White Blood Cell Count, usually abbreviated as WBC."
   ]
  },
  {
   "cell_type": "code",
   "execution_count": null,
   "id": "bf3b1420",
   "metadata": {},
   "outputs": [],
   "source": [
    "wbc = ckd_full['White Blood Cell Count']\n",
    "wbc.hist()\n",
    "plt.title('White Blood Cell Count');"
   ]
  },
  {
   "cell_type": "code",
   "execution_count": null,
   "id": "191a6035",
   "metadata": {},
   "outputs": [],
   "source": [
    "wbc.describe()"
   ]
  },
  {
   "cell_type": "markdown",
   "id": "6cf7e4c9",
   "metadata": {},
   "source": [
    "Compare this to Hemoglobin concentrations:"
   ]
  },
  {
   "cell_type": "code",
   "execution_count": null,
   "id": "c726d541",
   "metadata": {},
   "outputs": [],
   "source": [
    "hgb = ckd_full['Hemoglobin']\n",
    "hgb.hist()\n",
    "plt.title('Hemoglobin');"
   ]
  },
  {
   "cell_type": "code",
   "execution_count": null,
   "id": "1e548d32",
   "metadata": {},
   "outputs": [],
   "source": [
    "hgb.describe()"
   ]
  },
  {
   "cell_type": "markdown",
   "id": "272b8af8",
   "metadata": {},
   "source": [
    "Notice that we can't easily plot these two on the same axes, because\n",
    "their units are so different."
   ]
  },
  {
   "cell_type": "markdown",
   "id": "17ae4831",
   "metadata": {},
   "source": [
    "Here's what that looks like.  Notice that the hemoglobin values disappear in a tiny spike to the left."
   ]
  },
  {
   "cell_type": "code",
   "execution_count": null,
   "id": "b10c1908",
   "metadata": {},
   "outputs": [],
   "source": [
    "# Use alpha to make the histograms a little transparent.\n",
    "# Label them for a legend.\n",
    "hgb.hist(alpha=0.7, label='HGB')\n",
    "wbc.hist(alpha=0.7, label='WBC')\n",
    "plt.title(\"HGB and WBC together - HGB tiny spike at left\")\n",
    "plt.legend();"
   ]
  },
  {
   "cell_type": "markdown",
   "id": "29ff0fd0",
   "metadata": {},
   "source": [
    "We could try and fix this by subtracting the mean, as a center value, so\n",
    "the values are now *deviations* from the mean."
   ]
  },
  {
   "cell_type": "code",
   "execution_count": null,
   "id": "19182119",
   "metadata": {},
   "outputs": [],
   "source": [
    "wbc_deviations = wbc - np.mean(wbc)\n",
    "wbc_deviations.hist()\n",
    "plt.title('White Blood Cell Count deviations');"
   ]
  },
  {
   "cell_type": "code",
   "execution_count": null,
   "id": "e8d5c7e0",
   "metadata": {},
   "outputs": [],
   "source": [
    "hgb_deviations = hgb - np.mean(hgb)\n",
    "hgb_deviations.hist()\n",
    "plt.title('Hemoglobin deviations');"
   ]
  },
  {
   "cell_type": "markdown",
   "id": "c9ef58ae",
   "metadata": {},
   "source": [
    "The deviations each have a mean very very close to zero, and therefore,\n",
    "they have the same center:"
   ]
  },
  {
   "cell_type": "code",
   "execution_count": null,
   "id": "6ac9a33f",
   "metadata": {},
   "outputs": [],
   "source": [
    "np.mean(wbc_deviations), np.mean(hgb_deviations)"
   ]
  },
  {
   "cell_type": "markdown",
   "id": "4e924363",
   "metadata": {},
   "source": [
    "We still cannot sensibly plot them on the same axes, because the WBC values have\n",
    "a very different *spread*.  The WBC values completely dominate the x axis of\n",
    "the graph.  We can't reasonably compare the WBC deviations to the\n",
    "Hemoglobin deviations, because they have such different *units*."
   ]
  },
  {
   "cell_type": "code",
   "execution_count": null,
   "id": "05a4a10f",
   "metadata": {},
   "outputs": [],
   "source": [
    "hgb_deviations.hist(alpha=0.7, label='HGB')\n",
    "wbc_deviations.hist(alpha=0.7, label='WBC')\n",
    "plt.title(\"HGB and WBC deviations - you can't see HGB\")\n",
    "plt.legend();"
   ]
  },
  {
   "cell_type": "markdown",
   "id": "28fbacef",
   "metadata": {},
   "source": [
    "We would like a measure of the spread of the distribution, so we can set\n",
    "the two distributions to have the same spread.\n"
   ]
  },
  {
   "cell_type": "markdown",
   "id": "f0fcfde1",
   "metadata": {},
   "source": [
    "## The standard deviation"
   ]
  },
  {
   "cell_type": "markdown",
   "id": "a9e648e4",
   "metadata": {},
   "source": [
    "In the [mean as predictor](mean_meaning) section, we found that mean was\n",
    "the best value to use as a predictor, to minimize the sum of *squared*\n",
    "deviations.\n",
    "\n",
    "Maybe we could get an idea of the typical *squared* deviation, as\n",
    "a measure of spread?"
   ]
  },
  {
   "cell_type": "code",
   "execution_count": null,
   "id": "c5192f00",
   "metadata": {},
   "outputs": [],
   "source": [
    "hgb_deviations[:10]"
   ]
  },
  {
   "cell_type": "code",
   "execution_count": null,
   "id": "4f7099da",
   "metadata": {},
   "outputs": [],
   "source": [
    "hgb_dev_sq = hgb_deviations ** 2\n",
    "hgb_dev_sq[:10]"
   ]
  },
  {
   "cell_type": "code",
   "execution_count": null,
   "id": "2d6db197",
   "metadata": {},
   "outputs": [],
   "source": [
    "hgb_dev_sq.hist()\n",
    "plt.title('HGB squared deviations')"
   ]
  },
  {
   "cell_type": "markdown",
   "id": "67bcafce",
   "metadata": {},
   "source": [
    "The center, or typical value, of this distribution, could be the *mean*."
   ]
  },
  {
   "cell_type": "code",
   "execution_count": null,
   "id": "e40aa8a4",
   "metadata": {},
   "outputs": [],
   "source": [
    "hgb_dev_sq_mean = np.mean(hgb_dev_sq)\n",
    "hgb_dev_sq_mean"
   ]
  },
  {
   "cell_type": "markdown",
   "id": "8c316605",
   "metadata": {},
   "source": [
    "This is the *mean squared deviation*.  This is also called the\n",
    "*variance*.  Numpy has a function to calculate that in one shot:"
   ]
  },
  {
   "cell_type": "code",
   "execution_count": null,
   "id": "f591213f",
   "metadata": {},
   "outputs": [],
   "source": [
    "# The mean squared deviation is the variance\n",
    "np.var(hgb)"
   ]
  },
  {
   "cell_type": "markdown",
   "id": "ad3294a7",
   "metadata": {},
   "source": [
    "The mean squared deviation is a good indicator of the typical squared\n",
    "deviation.  What should we use for some measure of the typical\n",
    "deviation?\n",
    "\n",
    "We could take the square root of the mean squared deviation, like this:"
   ]
  },
  {
   "cell_type": "code",
   "execution_count": null,
   "id": "0797bd89",
   "metadata": {},
   "outputs": [],
   "source": [
    "np.sqrt(hgb_dev_sq_mean)"
   ]
  },
  {
   "cell_type": "markdown",
   "id": "f1bcbcbd",
   "metadata": {},
   "source": [
    "This is a measure of the spread of the distribution.  It is a measure of\n",
    "the typical or average deviation.\n",
    "\n",
    "It is also called the *standard deviation*."
   ]
  },
  {
   "cell_type": "code",
   "execution_count": null,
   "id": "74f508a7",
   "metadata": {},
   "outputs": [],
   "source": [
    "np.std(hgb)"
   ]
  },
  {
   "cell_type": "markdown",
   "id": "67225db1",
   "metadata": {},
   "source": [
    "We can make our distribution have a standard center *and* a standard\n",
    "spread by dividing our mean-centered distribution, by the standard\n",
    "deviation.  Then the distribution will have a standard deviation very\n",
    "close to 1.\n",
    "\n",
    "This version of the distribution, with mean 0 and standard deviation of\n",
    "1, is called the *standardized* distribution."
   ]
  },
  {
   "cell_type": "code",
   "execution_count": null,
   "id": "3db4a57a",
   "metadata": {},
   "outputs": [],
   "source": [
    "standardized_hgb = hgb_deviations / np.std(hgb)\n",
    "standardized_hgb.hist()\n",
    "plt.title('Standardized Hemoglobin')"
   ]
  },
  {
   "cell_type": "markdown",
   "id": "1cb6cdb5",
   "metadata": {},
   "source": [
    "We can make a function to do this:"
   ]
  },
  {
   "cell_type": "code",
   "execution_count": null,
   "id": "3f123ece",
   "metadata": {},
   "outputs": [],
   "source": [
    "def standard_units(x):\n",
    "    return (x - np.mean(x))/np.std(x)"
   ]
  },
  {
   "cell_type": "code",
   "execution_count": null,
   "id": "eebe5431",
   "metadata": {},
   "outputs": [],
   "source": [
    "std_hgb_again = standard_units(hgb)\n",
    "std_hgb_again.hist()\n",
    "plt.title('Standardized Hemoglobin, again')"
   ]
  },
  {
   "cell_type": "markdown",
   "id": "8a7cd5a3",
   "metadata": {},
   "source": [
    "If we do the same to the WBC, we can compare values of the\n",
    "distributions:"
   ]
  },
  {
   "cell_type": "code",
   "execution_count": null,
   "id": "332440f7",
   "metadata": {},
   "outputs": [],
   "source": [
    "std_wbc = standard_units(wbc)\n",
    "std_wbc.hist()\n",
    "plt.title('Standardized White Blood Cell Count')"
   ]
  },
  {
   "cell_type": "markdown",
   "id": "f0469d5d",
   "metadata": {},
   "source": [
    "Now we can put both these distributions on the same graph, to compare them directly."
   ]
  },
  {
   "cell_type": "code",
   "execution_count": null,
   "id": "33a1798a",
   "metadata": {},
   "outputs": [],
   "source": [
    "std_hgb_again.hist(alpha=0.7, label='HGB')\n",
    "std_wbc.hist(alpha=0.7, label='WBC')\n",
    "plt.title('Standardized HGB and WBC')\n",
    "plt.legend()"
   ]
  },
  {
   "cell_type": "markdown",
   "id": "e079bc17",
   "metadata": {},
   "source": [
    "Every value in standardized units gives the deviation of the original\n",
    "value from its mean, in terms of the number of standard deviations."
   ]
  }
 ],
 "metadata": {
  "jupytext": {
   "notebook_metadata_filter": "all,-language_info",
   "split_at_heading": true
  },
  "kernelspec": {
   "display_name": "Python 3",
   "language": "python",
   "name": "python3"
  }
 },
 "nbformat": 4,
 "nbformat_minor": 5
}
