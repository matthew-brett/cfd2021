{
 "cells": [
  {
   "cell_type": "markdown",
   "id": "b80e9f79",
   "metadata": {},
   "source": [
    "# Using minimize\n",
    "\n",
    "We have already used the `minimize` function a few times:"
   ]
  },
  {
   "cell_type": "code",
   "execution_count": null,
   "id": "994a1d6b",
   "metadata": {},
   "outputs": [],
   "source": [
    "from scipy.optimize import minimize"
   ]
  },
  {
   "cell_type": "markdown",
   "id": "e1c2250f",
   "metadata": {},
   "source": [
    "Now we pause to look at how it works, and how best to use it.\n",
    "\n",
    "Let's go back to the problem from [finding lines](finding_lines):"
   ]
  },
  {
   "cell_type": "code",
   "execution_count": null,
   "id": "e3f5232d",
   "metadata": {},
   "outputs": [],
   "source": [
    "# Our usual imports and configuration.\n",
    "import numpy as np\n",
    "import pandas as pd\n",
    "import matplotlib.pyplot as plt\n",
    "%matplotlib inline\n",
    "# Make plots look a little bit more fancy\n",
    "plt.style.use('fivethirtyeight')"
   ]
  },
  {
   "cell_type": "markdown",
   "id": "4314d483",
   "metadata": {},
   "source": [
    "We used the [students ratings dataset](../data/rate_my_professors) dataset.\n",
    "Download the data file via\n",
    "{download}`rate_my_course.csv <../data/rate_my_course.csv>`.\n",
    "\n",
    "We were looking for the best slope to relate the Easiness ratings to the\n",
    "Overall Quality ratings."
   ]
  },
  {
   "cell_type": "code",
   "execution_count": null,
   "id": "28adac3c",
   "metadata": {},
   "outputs": [],
   "source": [
    "# Read the data file, get columns as arrays.\n",
    "ratings = pd.read_csv('rate_my_course.csv')\n",
    "easiness = np.array(ratings['Easiness'])\n",
    "quality = np.array(ratings['Overall Quality'])\n",
    "plt.plot(easiness, quality, 'o')\n",
    "plt.xlabel('Easiness')\n",
    "plt.ylabel('Overall quality')"
   ]
  },
  {
   "cell_type": "markdown",
   "id": "959bf3dc",
   "metadata": {},
   "source": [
    "Here is the function we used to calculate sum of squared error, adapted for `minimize`."
   ]
  },
  {
   "cell_type": "code",
   "execution_count": null,
   "id": "c11ec90d",
   "metadata": {},
   "outputs": [],
   "source": [
    "def sos_error_for_minimize(c_s):\n",
    "    # c_s has two elements, the intercept c and the slope s.\n",
    "    c = c_s[0]\n",
    "    s = c_s[1]\n",
    "    predicted = c + easiness * s\n",
    "    error = quality - predicted\n",
    "    return np.sum(error ** 2)"
   ]
  },
  {
   "cell_type": "markdown",
   "id": "55c93abe",
   "metadata": {},
   "source": [
    "We called `minimize` to find the best intercept and slope:"
   ]
  },
  {
   "cell_type": "code",
   "execution_count": null,
   "id": "671124ee",
   "metadata": {},
   "outputs": [],
   "source": [
    "min_res = minimize(sos_error_for_minimize, [2.25, 0.47])\n",
    "min_res"
   ]
  },
  {
   "cell_type": "markdown",
   "id": "5c729980",
   "metadata": {},
   "source": [
    "## The result of `minimize`\n",
    "\n",
    "Notice the thing that `minimize` returns is a special kind of thing that stores\n",
    "information about the result:"
   ]
  },
  {
   "cell_type": "code",
   "execution_count": null,
   "id": "470585eb",
   "metadata": {},
   "outputs": [],
   "source": [
    "# The value that comes back is a special thing to contain minimize results:\n",
    "type(min_res)"
   ]
  },
  {
   "cell_type": "markdown",
   "id": "c1c17583",
   "metadata": {},
   "source": [
    "Among the interesting thing that the results contain is the attribute `fun`.\n",
    "This value is the final minimal value of the function we are trying to minimize\n",
    "--- here the sum of squared error given an intercept and slope:"
   ]
  },
  {
   "cell_type": "code",
   "execution_count": null,
   "id": "5395db66",
   "metadata": {},
   "outputs": [],
   "source": [
    "# The minimal value that `minimize` could find for our function.\n",
    "min_res.fun"
   ]
  },
  {
   "cell_type": "markdown",
   "id": "bdf84be6",
   "metadata": {},
   "source": [
    "We also have an array with the values for the intercept and slope that give the minimal value:"
   ]
  },
  {
   "cell_type": "code",
   "execution_count": null,
   "id": "9880f726",
   "metadata": {},
   "outputs": [],
   "source": [
    "min_res.x"
   ]
  },
  {
   "cell_type": "markdown",
   "id": "120fe426",
   "metadata": {},
   "source": [
    "We confirm that `min_res.fun` is indeed the value we get from our function given the intercept, slope array in `min_res.x`:"
   ]
  },
  {
   "cell_type": "code",
   "execution_count": null,
   "id": "b8b4e58c",
   "metadata": {},
   "outputs": [],
   "source": [
    "sos_error_for_minimize(min_res.x)"
   ]
  },
  {
   "cell_type": "markdown",
   "id": "834daa61",
   "metadata": {},
   "source": [
    "## The function to minimize\n",
    "\n",
    "`sos_error_for_minimize` is a *function*:"
   ]
  },
  {
   "cell_type": "code",
   "execution_count": null,
   "id": "445ce450",
   "metadata": {},
   "outputs": [],
   "source": [
    "type(sos_error_for_minimize)"
   ]
  },
  {
   "cell_type": "markdown",
   "id": "a4b2143f",
   "metadata": {},
   "source": [
    "We pass the function to `minimize` as an argument for it to use.  Try the [functions as values exercise](../exercises/function_vals.zip) for more practice on the idea of using functions as values like this.\n",
    "\n",
    "We can call the function we pass to `minimize` -- the *objective function* -- in the sense that our objective is to minimize this function.\n",
    "\n",
    "How is `minimize` using our objective function?   Clearly `minimize` is\n",
    "[calling](../code-basics/Calls) the function, but what arguments is it\n",
    "sending?  How many times does it call the function?\n",
    "\n",
    "To find out, we can stick something inside the objective function to tell us\n",
    "each time it is called:"
   ]
  },
  {
   "cell_type": "code",
   "execution_count": null,
   "id": "c9a89fdb",
   "metadata": {},
   "outputs": [],
   "source": [
    "def ss_func_for_info(c_s):\n",
    "    # Print the argument that minimize sent.\n",
    "    print('Called with', c_s, 'of type', type(c_s))\n",
    "    # The rest of the function is the same as the original above.\n",
    "    # c_s has two elements, the intercept c and the slope s.\n",
    "    c = c_s[0]\n",
    "    s = c_s[1]\n",
    "    predicted = c + easiness * s\n",
    "    error = quality - predicted\n",
    "    return np.sum(error ** 2)"
   ]
  },
  {
   "cell_type": "markdown",
   "id": "90341c21",
   "metadata": {},
   "source": [
    "The we call `minimize` with the new objective function:"
   ]
  },
  {
   "cell_type": "code",
   "execution_count": null,
   "id": "7c0b86f2",
   "metadata": {},
   "outputs": [],
   "source": [
    "min_res = minimize(ss_func_for_info, [2.25, 0.47])\n",
    "min_res"
   ]
  },
  {
   "cell_type": "markdown",
   "id": "ba775fcd",
   "metadata": {},
   "source": [
    "This shows that:\n",
    "\n",
    "* `minimize` calls our function multiple times, as it searches for the values\n",
    "  of intercept and slope giving the minimum sum of squares;\n",
    "* At each call, it passes a single argument that is an *array* containing the\n",
    "  two values (intercept and slope).\n",
    "\n",
    "Looking carefully, we see signs that `minimize` is trying small changes in the\n",
    "slope or intercept, presumably to calculate the gradient --- as we saw in the\n",
    "[optimization](optimization) page --- but that is not our concern here.\n",
    "\n",
    "The values in the array that `minimize` passes are the *parameters* that\n",
    "minimize is trying to optimize --- in our case, the intercept and slope.  Call\n",
    "this the *parameter array*."
   ]
  },
  {
   "cell_type": "markdown",
   "id": "a164d3f0",
   "metadata": {},
   "source": [
    "## Tricks for using minimize"
   ]
  },
  {
   "cell_type": "markdown",
   "id": "e1c3befa",
   "metadata": {},
   "source": [
    "### Unpacking\n",
    "\n",
    "Near the top of our function, we have these two lines of code:\n",
    "\n",
    "```\n",
    "    c = c_s[0]\n",
    "    s = c_s[1]\n",
    "```\n",
    "\n",
    "This is where we take set the intercept from the first value of the *parameter\n",
    "array*, and the slope from the second.\n",
    "\n",
    "It turns out there is neat and versatile way of doing this in Python, called\n",
    "*unpacking*.   Consider this array:"
   ]
  },
  {
   "cell_type": "code",
   "execution_count": null,
   "id": "c270513b",
   "metadata": {},
   "outputs": [],
   "source": [
    "c_s = np.array([2, 1])"
   ]
  },
  {
   "cell_type": "markdown",
   "id": "6e35cfec",
   "metadata": {},
   "source": [
    "We can *unpack* these two values into variables like this:"
   ]
  },
  {
   "cell_type": "code",
   "execution_count": null,
   "id": "dc153a19",
   "metadata": {},
   "outputs": [],
   "source": [
    "# Unpacking!\n",
    "c, s = c_s"
   ]
  },
  {
   "cell_type": "markdown",
   "id": "6d72194d",
   "metadata": {},
   "source": [
    "The right hand side contains two values (in an array).  The left hand side has\n",
    "two variable names, separated by a comma.  Python take the two values from the right hand side, and puts them into the variables on the left:"
   ]
  },
  {
   "cell_type": "code",
   "execution_count": null,
   "id": "c3c38dfc",
   "metadata": {},
   "outputs": [],
   "source": [
    "print('c is', c)\n",
    "print('s_is', s)"
   ]
  },
  {
   "cell_type": "markdown",
   "id": "158188d5",
   "metadata": {},
   "source": [
    "The thing on the right hand side can be anything that is a sequence of two things.  For example, it can also be a list:"
   ]
  },
  {
   "cell_type": "code",
   "execution_count": null,
   "id": "ca8e5685",
   "metadata": {},
   "outputs": [],
   "source": [
    "my_list = [6, 7]\n",
    "my_var1, my_var2 = my_list\n",
    "print('my_var1 is', my_var1)\n",
    "print('my_var2 is', my_var2)"
   ]
  },
  {
   "cell_type": "markdown",
   "id": "b0f59d30",
   "metadata": {},
   "source": [
    "There can be three or four or any other number of variables on the left, as long as there is a matching number of elements in the thing on the right:"
   ]
  },
  {
   "cell_type": "code",
   "execution_count": null,
   "id": "f1aae189",
   "metadata": {},
   "outputs": [],
   "source": [
    "list2 = [10, 100, 10000]\n",
    "w, x, y = list2\n",
    "print('w is', w)\n",
    "print('x is', x)\n",
    "print('y is', y)"
   ]
  },
  {
   "cell_type": "markdown",
   "id": "77be22dc",
   "metadata": {},
   "source": [
    "The number of elements must match the number of variables:"
   ]
  },
  {
   "cell_type": "code",
   "execution_count": null,
   "id": "26242224",
   "metadata": {
    "tags": [
     "raises-exception"
    ]
   },
   "outputs": [],
   "source": [
    "# Error - three variables on the left, two elements on the right.\n",
    "p, q, r = [1, 2]"
   ]
  },
  {
   "cell_type": "markdown",
   "id": "9b02ecf9",
   "metadata": {},
   "source": [
    "### Using unpacking in minimize\n",
    "\n",
    "Unpacking has two good uses with `minimize`.  The first is that we can make our function to minimize a little neater:"
   ]
  },
  {
   "cell_type": "code",
   "execution_count": null,
   "id": "ff7712d5",
   "metadata": {},
   "outputs": [],
   "source": [
    "def ss_with_unpacking(c_s):\n",
    "    # c_s has two elements, the intercept c and the slope s.\n",
    "    # Use unpacking!\n",
    "    c, s = c_s\n",
    "    predicted = c + easiness * s\n",
    "    error = quality - predicted\n",
    "    return np.sum(error ** 2)"
   ]
  },
  {
   "cell_type": "markdown",
   "id": "f0f2cb38",
   "metadata": {},
   "source": [
    "The second is, we can use unpacking to --- er --- unpack the best fit intercept and slope from the result of `minimize`.  Remember, `minimize` returns a result value, that includes an array `x` with the parameters minimizing our function:"
   ]
  },
  {
   "cell_type": "code",
   "execution_count": null,
   "id": "f3ed05fd",
   "metadata": {},
   "outputs": [],
   "source": [
    "m_r = minimize(ss_with_unpacking, [2.25, 0.47])\n",
    "m_r"
   ]
  },
  {
   "cell_type": "markdown",
   "id": "3cebd065",
   "metadata": {},
   "source": [
    "We can get the best-fit intercept and slope values by unpacking:"
   ]
  },
  {
   "cell_type": "code",
   "execution_count": null,
   "id": "7a3dd99b",
   "metadata": {},
   "outputs": [],
   "source": [
    "best_c, best_s = m_r.x\n",
    "print(best_c)\n",
    "print(best_s)"
   ]
  },
  {
   "cell_type": "markdown",
   "id": "de166f69",
   "metadata": {},
   "source": [
    "We often end up doing this all in one shot:"
   ]
  },
  {
   "cell_type": "code",
   "execution_count": null,
   "id": "028b9ef8",
   "metadata": {},
   "outputs": [],
   "source": [
    "best_c, best_s = minimize(ss_with_unpacking, [2.25, 0.47]).x\n",
    "print(best_c)\n",
    "print(best_s)"
   ]
  },
  {
   "cell_type": "markdown",
   "id": "21e5cd32",
   "metadata": {},
   "source": [
    "### Other arguments to our function"
   ]
  },
  {
   "cell_type": "markdown",
   "id": "525dcce0",
   "metadata": {},
   "source": [
    "Inspect the help for `minimize` with `minimize?`.   You will notice that there\n",
    "is an argument we can pass to `minimize` called `args`.  These are \"Extra\n",
    "arguments passed to the objective function\".  In fact, this is very useful to make our objective function more general.  First we try this silly use of `args` where we pass a couple of useless numbers to our objective function:"
   ]
  },
  {
   "cell_type": "code",
   "execution_count": null,
   "id": "b380f473",
   "metadata": {},
   "outputs": [],
   "source": [
    "def ss_with_extra_numbers(c_s, p, q):\n",
    "    # An objective function with some useless extra arguments.\n",
    "    print('c_s', c_s, 'p', p, 'q', q)\n",
    "    c, s = c_s\n",
    "    predicted = c + easiness * s\n",
    "    error = quality - predicted\n",
    "    return np.sum(error ** 2)"
   ]
  },
  {
   "cell_type": "markdown",
   "id": "9cbed98e",
   "metadata": {},
   "source": [
    "Now we tell `minimize` to pass some value for `p` and `q` for each call to the objective function:"
   ]
  },
  {
   "cell_type": "code",
   "execution_count": null,
   "id": "81f341bc",
   "metadata": {},
   "outputs": [],
   "source": [
    "# args has two values, one that becomes \"p\" and the other that becomes \"q\".\n",
    "minimize(ss_with_extra_numbers, [2.25, 0.47], args=(99, 101))"
   ]
  },
  {
   "cell_type": "markdown",
   "id": "8a12b052",
   "metadata": {},
   "source": [
    "Notice that, each time `minimize` calls `ss_with_extra_numbers` it passes the first value of `args` as the second argument to the function (`p`) and the second value of `args` as the third argument to the function (`q`).\n",
    "\n",
    "This isn't very exciting so far, but now we can solve a problem that may not have been obvious --- our objective function has been using `easiness` and `quality` from the global namespace.   This means that each time we want to find a least-squares intercept and slope for a pair of arrays, we have to write a new objective function, using different values from the global namespace.\n",
    "\n",
    "For example, we might want to find the best slope relating `easiness` to the ratings for \"Clarity\".  We have to write a whole new function to do that, where we replace `quality` with `clarity`:"
   ]
  },
  {
   "cell_type": "code",
   "execution_count": null,
   "id": "d1d7b331",
   "metadata": {},
   "outputs": [],
   "source": [
    "clarity = np.array(ratings['Clarity'])"
   ]
  },
  {
   "cell_type": "code",
   "execution_count": null,
   "id": "8bdc7895",
   "metadata": {},
   "outputs": [],
   "source": [
    "def ss_clarity(c_s):\n",
    "    c, s = c_s\n",
    "    predicted = c + easiness * s\n",
    "    error = clarity - predicted\n",
    "    return np.sum(error ** 2)"
   ]
  },
  {
   "cell_type": "code",
   "execution_count": null,
   "id": "486e79c8",
   "metadata": {},
   "outputs": [],
   "source": [
    "minimize(ss_clarity, [2.25, 0.47])"
   ]
  },
  {
   "cell_type": "markdown",
   "id": "3110f5f0",
   "metadata": {},
   "source": [
    "That is annoying, because we're doing exactly the same work in our objective function, just with different variables.\n",
    "\n",
    "Aha - we can use `args` to pass the `x` and `y` values for our function to work on:"
   ]
  },
  {
   "cell_type": "code",
   "execution_count": null,
   "id": "4c9460b7",
   "metadata": {},
   "outputs": [],
   "source": [
    "def ss_any_line(c_s, x_values, y_values):\n",
    "    c, s = c_s\n",
    "    predicted = c + x_values * s\n",
    "    error = y_values - predicted\n",
    "    return np.sum(error ** 2)"
   ]
  },
  {
   "cell_type": "markdown",
   "id": "24ffbfab",
   "metadata": {},
   "source": [
    "Now we can use the same objective function for any pair of `x` and `y` values:"
   ]
  },
  {
   "cell_type": "code",
   "execution_count": null,
   "id": "3d030211",
   "metadata": {},
   "outputs": [],
   "source": [
    "minimize(ss_any_line, [2.25, 0.47], args=(easiness, quality))"
   ]
  },
  {
   "cell_type": "code",
   "execution_count": null,
   "id": "b6c3c2d1",
   "metadata": {},
   "outputs": [],
   "source": [
    "minimize(ss_any_line, [2.25, 0.47], args=(easiness, clarity))"
   ]
  }
 ],
 "metadata": {
  "jupytext": {
   "split_at_heading": true
  },
  "kernelspec": {
   "display_name": "Python 3",
   "language": "python",
   "name": "python3"
  }
 },
 "nbformat": 4,
 "nbformat_minor": 5
}
