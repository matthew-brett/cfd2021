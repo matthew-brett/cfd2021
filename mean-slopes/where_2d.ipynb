{
 "cells": [
  {
   "cell_type": "markdown",
   "id": "b4d379e9",
   "metadata": {},
   "source": [
    "# Where in 2D\n",
    "\n",
    "This follows from [where and argmin](where_and_argmin).\n",
    "\n",
    "That page covers how `np.where` and `np.argmin` work for one-dimensional\n",
    "arrays.\n",
    "\n",
    "This page covers what happens for `np.where` with arrays of two dimensions and\n",
    "more."
   ]
  },
  {
   "cell_type": "markdown",
   "id": "1c2f9b25",
   "metadata": {},
   "source": [
    "## Arrays can have two dimensions"
   ]
  },
  {
   "cell_type": "code",
   "execution_count": null,
   "id": "c1aa7d83",
   "metadata": {},
   "outputs": [],
   "source": [
    "import numpy as np"
   ]
  },
  {
   "cell_type": "markdown",
   "id": "b0d3f50a",
   "metadata": {},
   "source": [
    "So far we have only seen one-dimensional arrays.\n",
    "\n",
    "A *vector* is another term for a one-dimensional array.\n",
    "\n",
    "Here's a one-dimensional array (vector):"
   ]
  },
  {
   "cell_type": "code",
   "execution_count": null,
   "id": "615c3d17",
   "metadata": {},
   "outputs": [],
   "source": [
    "arr_one_d = np.array([2, 99, -1, 4, 99])\n",
    "arr_one_d"
   ]
  },
  {
   "cell_type": "markdown",
   "id": "c12f191c",
   "metadata": {},
   "source": [
    "Notice the `shape` of the array:"
   ]
  },
  {
   "cell_type": "code",
   "execution_count": null,
   "id": "b59c11cb",
   "metadata": {},
   "outputs": [],
   "source": [
    "arr_one_d.shape"
   ]
  },
  {
   "cell_type": "markdown",
   "id": "b32d120f",
   "metadata": {},
   "source": [
    "You can also think of this one-dimensional array as a single *row*.\n",
    "\n",
    "In fact you can have arrays with more than one row, like this:"
   ]
  },
  {
   "cell_type": "code",
   "execution_count": null,
   "id": "054506a3",
   "metadata": {},
   "outputs": [],
   "source": [
    "arr_two_d = np.array([[1, 2, 3, -2, -3], [10, 11, 12, -3, -13]])\n",
    "arr_two_d"
   ]
  },
  {
   "cell_type": "markdown",
   "id": "5ee99eb2",
   "metadata": {},
   "source": [
    "Notice the `shape`.  This array has 2 rows, each with 5 columns."
   ]
  },
  {
   "cell_type": "code",
   "execution_count": null,
   "id": "a12201dc",
   "metadata": {},
   "outputs": [],
   "source": [
    "arr_two_d.shape"
   ]
  },
  {
   "cell_type": "markdown",
   "id": "aba26b5b",
   "metadata": {},
   "source": [
    "Remember, we can ask for a single element from a one-dimensional array, using *indexing* with an integer between square brackets. The integer gives the *position* (or offset) of the element we want."
   ]
  },
  {
   "cell_type": "code",
   "execution_count": null,
   "id": "b3214e78",
   "metadata": {},
   "outputs": [],
   "source": [
    "arr_one_d[1]"
   ]
  },
  {
   "cell_type": "markdown",
   "id": "3731cbea",
   "metadata": {},
   "source": [
    "With a two-dimensional array, we need to specify the row *and* column of the element we want:"
   ]
  },
  {
   "cell_type": "code",
   "execution_count": null,
   "id": "6fd50e01",
   "metadata": {},
   "outputs": [],
   "source": [
    "arr_two_d[1, 4]"
   ]
  },
  {
   "cell_type": "markdown",
   "id": "ce396f69",
   "metadata": {},
   "source": [
    "The first value between the brackets is the row position, and the second is the column position.\n"
   ]
  },
  {
   "cell_type": "markdown",
   "id": "64d7bf1a",
   "metadata": {},
   "source": [
    "## Revision - using where on one-dimensional arrays\n",
    "\n",
    "`np.where` gets the indices of the True values in a Boolean array."
   ]
  },
  {
   "cell_type": "code",
   "execution_count": null,
   "id": "f3945729",
   "metadata": {},
   "outputs": [],
   "source": [
    "# A Boolean array.\n",
    "equal_to_99 = arr_one_d == 99\n",
    "equal_to_99"
   ]
  },
  {
   "cell_type": "code",
   "execution_count": null,
   "id": "4467c115",
   "metadata": {},
   "outputs": [],
   "source": [
    "# Indices of the True values.\n",
    "indices = np.where(equal_to_99)\n",
    "indices"
   ]
  },
  {
   "cell_type": "markdown",
   "id": "c63ae253",
   "metadata": {},
   "source": [
    "We can use the returned `indices` to index into the array, using square brackets."
   ]
  },
  {
   "cell_type": "code",
   "execution_count": null,
   "id": "c54f0bae",
   "metadata": {},
   "outputs": [],
   "source": [
    "arr_one_d[indices]"
   ]
  },
  {
   "cell_type": "markdown",
   "id": "cd181ff2",
   "metadata": {},
   "source": [
    "## The two-dimensional case\n",
    "\n",
    "This also works in two or more dimensions.\n",
    "\n",
    "`np.where` now returns two index arrays, one for the rows, and one for the\n",
    "columns."
   ]
  },
  {
   "cell_type": "code",
   "execution_count": null,
   "id": "8c91f2c6",
   "metadata": {},
   "outputs": [],
   "source": [
    "indices2d = np.where(arr_two_d == -3)\n",
    "indices2d"
   ]
  },
  {
   "cell_type": "markdown",
   "id": "72c854c6",
   "metadata": {},
   "source": [
    "Just as for the one-dimensional case, we can use the returned indices to index\n",
    "into the array, and get the elements."
   ]
  },
  {
   "cell_type": "code",
   "execution_count": null,
   "id": "eaecbd7d",
   "metadata": {},
   "outputs": [],
   "source": [
    "arr_two_d[indices2d]"
   ]
  }
 ],
 "metadata": {
  "jupytext": {
   "notebook_metadata_filter": "all,-language_info",
   "split_at_heading": true
  },
  "kernelspec": {
   "display_name": "Python 3",
   "language": "python",
   "name": "python3"
  }
 },
 "nbformat": 4,
 "nbformat_minor": 5
}
