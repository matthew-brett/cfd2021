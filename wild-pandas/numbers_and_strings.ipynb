{
 "cells": [
  {
   "cell_type": "markdown",
   "id": "44c33fef",
   "metadata": {},
   "source": [
    "# Numbers and strings\n",
    "\n",
    "This page covers a common problem when loading data into Pandas --- when Pandas gets confused about whether values in a column are text or numbers."
   ]
  },
  {
   "cell_type": "markdown",
   "id": "5b362739",
   "metadata": {},
   "source": [
    "## An example"
   ]
  },
  {
   "cell_type": "code",
   "execution_count": null,
   "id": "b0dec092",
   "metadata": {},
   "outputs": [],
   "source": [
    "import numpy as np\n",
    "import pandas as pd\n",
    "pd.set_option('mode.chained_assignment','raise')"
   ]
  },
  {
   "cell_type": "markdown",
   "id": "28b73ed4",
   "metadata": {},
   "source": [
    "We return to the example data file that you may have seen in the [text encoding](text_encoding) page.\n",
    "\n",
    "You can download the data file from {download}`imdblet_latin.csv\n",
    "<../data/imdblet_latin.csv>`."
   ]
  },
  {
   "cell_type": "code",
   "execution_count": null,
   "id": "1c63fc17",
   "metadata": {},
   "outputs": [],
   "source": [
    "films = pd.read_csv('imdblet_latin.csv', encoding='latin1')\n",
    "films.head()"
   ]
  },
  {
   "cell_type": "markdown",
   "id": "4ae63e48",
   "metadata": {},
   "source": [
    "Now imagine we are interested in the average rating across these films:"
   ]
  },
  {
   "cell_type": "code",
   "execution_count": null,
   "id": "e175685d",
   "metadata": {
    "tags": [
     "raises-exception"
    ]
   },
   "outputs": [],
   "source": [
    "ratings = films['Rating'].copy()\n",
    "ratings.mean()"
   ]
  },
  {
   "cell_type": "markdown",
   "id": "208472c9",
   "metadata": {},
   "source": [
    "## The problem\n",
    "\n",
    "The problem is that we were expecting our ratings to be numbers, but in fact, they are strings.\n",
    "\n",
    "We can see what type of thing Pandas has stored by looking at the `dtype`\n",
    "attribute of a Series, or the `dtypes` attribute of a data frame."
   ]
  },
  {
   "cell_type": "code",
   "execution_count": null,
   "id": "3afa5def",
   "metadata": {},
   "outputs": [],
   "source": [
    "films.dtypes"
   ]
  },
  {
   "cell_type": "code",
   "execution_count": null,
   "id": "e0b1a437",
   "metadata": {},
   "outputs": [],
   "source": [
    "ratings.dtype"
   ]
  },
  {
   "cell_type": "markdown",
   "id": "f7700df1",
   "metadata": {},
   "source": [
    "In fact both these bits of information say the same thing -- that the 'Rating'\n",
    "column stores things in the \"object\" or \"O\" type.  This is a general type that\n",
    "can store any Python value.   It is the standard type that Pandas uses when\n",
    "storing text.\n",
    "\n",
    "Why does Pandas use text for the 'Rating' column?\n",
    "\n",
    "A quick look at the first rows gives the answer:"
   ]
  },
  {
   "cell_type": "code",
   "execution_count": null,
   "id": "f3575b4c",
   "metadata": {},
   "outputs": [],
   "source": [
    "ratings.head()"
   ]
  },
  {
   "cell_type": "markdown",
   "id": "e3b4db40",
   "metadata": {},
   "source": [
    "The film \"Paris, Texas (1984)\" has a value \"N/K\" for the rating. This can't be a number, so Pandas stored this column in a format that allows it to store \"N/K\" as text.\n",
    "\n",
    "If that wasn't obvious, another way of checking where the problem value is, to `apply` the function `float` to the column values.\n",
    "\n",
    "When we `apply` a function to a Series, it does this:\n",
    "\n",
    "* For each value in the Series it:\n",
    "  * Calls the function, with the value as the single argument.\n",
    "  * Collects the new value returned from the function, and appends it to a new\n",
    "    Series.\n",
    "* Returns the new Series.\n",
    "\n",
    "The result is a Series that is the same length as the original series, but\n",
    "where each value in the new series is the result of calling the function on the\n",
    "original value.\n",
    "\n",
    "Recall that the `float` function converts the thing you pass into a floating\n",
    "point value:"
   ]
  },
  {
   "cell_type": "code",
   "execution_count": null,
   "id": "ed41b84f",
   "metadata": {},
   "outputs": [],
   "source": [
    "v = float('3.14')\n",
    "v"
   ]
  },
  {
   "cell_type": "code",
   "execution_count": null,
   "id": "3b989e3e",
   "metadata": {},
   "outputs": [],
   "source": [
    "type(v)"
   ]
  },
  {
   "cell_type": "markdown",
   "id": "fa3b6497",
   "metadata": {},
   "source": [
    "Now we try applying `float` to the problematic column:"
   ]
  },
  {
   "cell_type": "code",
   "execution_count": null,
   "id": "2a4a5967",
   "metadata": {
    "tags": [
     "raises-exception"
    ]
   },
   "outputs": [],
   "source": [
    "ratings.apply(float)"
   ]
  },
  {
   "cell_type": "markdown",
   "id": "d6ad6bd0",
   "metadata": {},
   "source": [
    "One way of dealing with this problem is to make a *recoding* function.\n",
    "\n",
    "A recoding function is a function that we will apply to a Series.  That means that we call the function for every value in the Series.  The function argument is the value from the series.  The function returns the new value, for a new Series."
   ]
  },
  {
   "cell_type": "code",
   "execution_count": null,
   "id": "8d8d08a5",
   "metadata": {},
   "outputs": [],
   "source": [
    "def recode_ratings(v):\n",
    "    if v == 'N/K':  # Return missing value for 'N/K'\n",
    "        return np.nan\n",
    "    # Otherwise make text value into a float\n",
    "    return float(v)"
   ]
  },
  {
   "cell_type": "markdown",
   "id": "cf16f653",
   "metadata": {},
   "source": [
    "We test our function:"
   ]
  },
  {
   "cell_type": "code",
   "execution_count": null,
   "id": "88628bbc",
   "metadata": {},
   "outputs": [],
   "source": [
    "recode_ratings('8.3')"
   ]
  },
  {
   "cell_type": "code",
   "execution_count": null,
   "id": "287367be",
   "metadata": {},
   "outputs": [],
   "source": [
    "recode_ratings('N/K')"
   ]
  },
  {
   "cell_type": "markdown",
   "id": "22999861",
   "metadata": {},
   "source": [
    "We make a new Series by calling the recode function:"
   ]
  },
  {
   "cell_type": "code",
   "execution_count": null,
   "id": "fa7a8b9a",
   "metadata": {},
   "outputs": [],
   "source": [
    "new_ratings = ratings.apply(recode_ratings)\n",
    "new_ratings.head()"
   ]
  },
  {
   "cell_type": "markdown",
   "id": "fb1cd889",
   "metadata": {},
   "source": [
    "We can insert this back into a copy of the original data frame:"
   ]
  },
  {
   "cell_type": "code",
   "execution_count": null,
   "id": "dabd7137",
   "metadata": {},
   "outputs": [],
   "source": [
    "films_fixed = films.copy()\n",
    "films_fixed.loc[:, 'Rating'] = new_ratings\n",
    "films_fixed.head()"
   ]
  }
 ],
 "metadata": {
  "jupytext": {
   "split_at_heading": true
  },
  "kernelspec": {
   "display_name": "Python 3",
   "language": "python",
   "name": "python3"
  }
 },
 "nbformat": 4,
 "nbformat_minor": 5
}
