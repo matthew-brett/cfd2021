{
 "cells": [
  {
   "cell_type": "markdown",
   "id": "5314ead3",
   "metadata": {},
   "source": [
    "# Handling Pandas safely\n",
    "\n",
    "A lot of Pandas' design is for speed and efficiency.\n",
    "\n",
    "Unfortunately, this sometimes means that is it easy to use Pandas incorrectly, and so get results that you do not expect.\n",
    "\n",
    "This page has some rules we suggest you follow to stay out of trouble when using Pandas.\n",
    "\n",
    "As your understanding increases, you may find that you can relax some of these\n",
    "rules, but the problems in this page can trip up experts, so please, be very\n",
    "careful, and only relax these rules when you are very confident you understand\n",
    "the underlying problems.  See [Gory Pandas](gory_pandas) for a short walk through some of the complexities."
   ]
  },
  {
   "cell_type": "markdown",
   "id": "7f49e8c5",
   "metadata": {},
   "source": [
    "## Copies and views\n",
    "\n",
    "Consider this data frame, which should be familiar. It is a table where the\n",
    "rows are course subjects and the columns include average ratings for all\n",
    "University professors / lecturers teaching that subject. See [the dataset\n",
    "page](../data/rate_my_professors) for more detail."
   ]
  },
  {
   "cell_type": "code",
   "execution_count": null,
   "id": "10278624",
   "metadata": {},
   "outputs": [],
   "source": [
    "import pandas as pd"
   ]
  },
  {
   "cell_type": "code",
   "execution_count": null,
   "id": "7270fe7c",
   "metadata": {},
   "outputs": [],
   "source": [
    "ratings = pd.read_csv('rate_my_course.csv')\n",
    "ratings.head()"
   ]
  },
  {
   "cell_type": "markdown",
   "id": "a2e0b855",
   "metadata": {},
   "source": [
    "Now imagine that we have discovered that the rating for 'Clarity' in the first row is incorrect; it should be 4.0.\n",
    "\n",
    "We get ready to make a new, fixed copy of the data frame, to store the modified\n",
    "values.  We put the 'Disciplines' column into the data frame to start with."
   ]
  },
  {
   "cell_type": "code",
   "execution_count": null,
   "id": "ca4f8a36",
   "metadata": {},
   "outputs": [],
   "source": [
    "fixed_ratings = pd.DataFrame()\n",
    "fixed_ratings['Discipline'] = ratings['Discipline']"
   ]
  },
  {
   "cell_type": "markdown",
   "id": "cbac36fa",
   "metadata": {},
   "source": [
    "Our next obvious step is to get the 'Clarity' column as a Pandas Series, for us\n",
    "to work on."
   ]
  },
  {
   "cell_type": "code",
   "execution_count": null,
   "id": "342c4e3a",
   "metadata": {},
   "outputs": [],
   "source": [
    "clarity = ratings['Clarity']\n",
    "clarity.head()"
   ]
  },
  {
   "cell_type": "markdown",
   "id": "91a619b5",
   "metadata": {},
   "source": [
    "We set the corrected first value:"
   ]
  },
  {
   "cell_type": "code",
   "execution_count": null,
   "id": "e0121e18",
   "metadata": {},
   "outputs": [],
   "source": [
    "clarity.iloc[0] = 4\n",
    "clarity.head()"
   ]
  },
  {
   "cell_type": "markdown",
   "id": "9523549f",
   "metadata": {},
   "source": [
    "Notice the warning.  We will come back to that soon.\n",
    "\n",
    "Notice too that we have changed the value in the `clarity` Series.\n",
    "\n",
    "Consider --- **what happens to the matching value in the original data frame**?\n",
    "\n",
    "To answer that question, we need to know what kind of thing our `clarity` Series was.\n",
    "\n",
    "`clarity` could be a *view* onto the 'Clarity' column in the original data\n",
    "frame `ratings`.  A view is something that points to the *same memory*.  When\n",
    "we have a view, the view is another way of looking at the *same data*.  If we\n",
    "modify the data in the view, that means we also modify the original data frame,\n",
    "because the *data is the same*.\n",
    "\n",
    "`clarity` could also be *copy* of the 'Clarity' column. A copy duplicates the\n",
    "values from the original data.  Therefore a copy has its own values, and its\n",
    "own memory.  Changing the data in the copy will have no effect on the original\n",
    "data frame, because the *data is different*."
   ]
  },
  {
   "cell_type": "code",
   "execution_count": null,
   "id": "08ce4958",
   "metadata": {},
   "outputs": [],
   "source": [
    "ratings.head()"
   ]
  },
  {
   "cell_type": "markdown",
   "id": "7f8f51eb",
   "metadata": {},
   "source": [
    "We have found that the `clarity` Series was a *view*, because the change we made to `clarity` also changed the value in the original data frame.\n",
    "\n",
    "This may not be what you expected, and it is probably not what you meant to do.\n",
    "\n",
    "This leads to the first rule for safe handling of Pandas."
   ]
  },
  {
   "cell_type": "markdown",
   "id": "2ed1d4cb",
   "metadata": {},
   "source": [
    "## Rule 1: copy right.\n",
    "\n",
    "We strongly suggest that when you get stuff out of a Pandas data frame or\n",
    "Series by indexing, you always make what you have into a copy.\n",
    "\n",
    "We call this rule *copy right*.\n",
    "\n",
    "As a reminder *indexing* is where we fetch data from something using square\n",
    "brackets.  Indexing can be: *direct*, with the square brackets directly\n",
    "following the data frame or Series; or *indirect*, where the square brackets\n",
    "follow the `.loc` or `.iloc` attributes of the data frame or Series.\n",
    "\n",
    "For example, we have just used direct indexing (square brackets) to fetch the\n",
    "'Clarity' data out of the `ratings` data frame."
   ]
  },
  {
   "cell_type": "code",
   "execution_count": null,
   "id": "5293ae3f",
   "metadata": {},
   "outputs": [],
   "source": [
    "# Indexing to fetch a Series from a data frame.\n",
    "clarity = ratings['Clarity']"
   ]
  },
  {
   "cell_type": "markdown",
   "id": "fb9cfb89",
   "metadata": {},
   "source": [
    "We found that `clarity` is a *view* onto the 'Clarity' data in `ratings`.   This is rarely what we want.\n",
    "\n",
    "Here we apply the *copy right* rule:"
   ]
  },
  {
   "cell_type": "code",
   "execution_count": null,
   "id": "ec01671b",
   "metadata": {},
   "outputs": [],
   "source": [
    "# Applying the \"copy right\" rule.\n",
    "clearer_clarity = ratings['Clarity'].copy()"
   ]
  },
  {
   "cell_type": "markdown",
   "id": "9f05da4d",
   "metadata": {},
   "source": [
    "Notice we apply the `.copy()` method to the 'Clarity' Series, so forcing Pandas to make us a copy of the data.\n",
    "\n",
    "Now we have done that, we can modify the result without affecting the original data frame."
   ]
  },
  {
   "cell_type": "code",
   "execution_count": null,
   "id": "59018a7e",
   "metadata": {},
   "outputs": [],
   "source": [
    "# Modify the copy with some crazy value.\n",
    "clearer_clarity.iloc[0] = 99\n",
    "clearer_clarity.head()"
   ]
  },
  {
   "cell_type": "markdown",
   "id": "78bfcb39",
   "metadata": {},
   "source": [
    "This does not affect the original data frame:"
   ]
  },
  {
   "cell_type": "code",
   "execution_count": null,
   "id": "fe0cd5dd",
   "metadata": {},
   "outputs": [],
   "source": [
    "ratings.head()"
   ]
  },
  {
   "cell_type": "markdown",
   "id": "b608b709",
   "metadata": {},
   "source": [
    "## Copies, views, confusing, warnings\n",
    "\n",
    "It can be very difficult to predict when Pandas indexing will give a copy or a view.\n",
    "\n",
    "For example, here we use indirect indexing (square brackets following `.loc`)\n",
    "to select the row of `ratings` with index label 0.  Remember `.loc` indexing\n",
    "uses the *index labels*, not *positions*, although in this case the index has\n",
    "label 0 for position 0."
   ]
  },
  {
   "cell_type": "code",
   "execution_count": null,
   "id": "cd0f1203",
   "metadata": {},
   "outputs": [],
   "source": [
    "row_0 = ratings.loc[0]\n",
    "row_0"
   ]
  },
  {
   "cell_type": "markdown",
   "id": "4d7d7589",
   "metadata": {},
   "source": [
    "We saw earlier that direct indexing to select a column 'Clarity' gave us\n",
    "a view, meaning that we could change the values in the data frame by changing\n",
    "the Series `clarity` we got from indexing.  In fact this is also true if we use indirect indexing with `.loc` or `.iloc`.  Check this by trying `clarity = ratings.loc[:, 'Clarity']` in the code above.\n",
    "\n",
    "We have just fetched the row labeled 0 using `.loc`.  Given what we know about\n",
    "fetching a column, it would be reasonable to predict this would give us a view.\n",
    "\n",
    "Does it give a view?  Or a copy?"
   ]
  },
  {
   "cell_type": "code",
   "execution_count": null,
   "id": "c7ec928a",
   "metadata": {},
   "outputs": [],
   "source": [
    "# Changing the 'Clarity' value of the first row.\n",
    "row_0.loc['Clarity'] = 5\n",
    "row_0"
   ]
  },
  {
   "cell_type": "markdown",
   "id": "859e014a",
   "metadata": {},
   "source": [
    "Notice the warning, again.\n",
    "\n",
    "But - this time - did we change the original data frame?"
   ]
  },
  {
   "cell_type": "code",
   "execution_count": null,
   "id": "c1478ba5",
   "metadata": {},
   "outputs": [],
   "source": [
    "ratings.head()"
   ]
  },
  {
   "cell_type": "markdown",
   "id": "1b3cec58",
   "metadata": {},
   "source": [
    "No, we didn't change the original data frame --- and we conclude that\n",
    "`row_0` is a *copy*.\n",
    "\n",
    "Our first, correct, response is to follow the *copy right* rule, and make this copy explicit, so we know exactly what we have:"
   ]
  },
  {
   "cell_type": "code",
   "execution_count": null,
   "id": "22d2adf3",
   "metadata": {},
   "outputs": [],
   "source": [
    "# The \"copy right\" rule again.\n",
    "copied_row_0 = ratings.iloc[0].copy()"
   ]
  },
  {
   "cell_type": "markdown",
   "id": "2c879708",
   "metadata": {},
   "source": [
    "We no longer have a nasty warning when we modify `copied_row_0`, because\n",
    "Pandas knows we made a copy, so it does not need to warn us that we may be\n",
    "making a mistake:"
   ]
  },
  {
   "cell_type": "code",
   "execution_count": null,
   "id": "3a106cba",
   "metadata": {},
   "outputs": [],
   "source": [
    "# We don't get a warning when we change the copied result.\n",
    "copied_row_0.loc['Clarity'] = 5\n",
    "copied_row_0"
   ]
  },
  {
   "cell_type": "markdown",
   "id": "28b11454",
   "metadata": {},
   "source": [
    "**Please do worry about these warnings**.  In fact, in the interests of safety,\n",
    "we come to rule 2."
   ]
  },
  {
   "cell_type": "markdown",
   "id": "a103d59d",
   "metadata": {},
   "source": [
    "## Rule 2: make errors for copy/view warnings\n",
    "\n",
    "Pandas has a setting that allows you to change the nasty warning about setting with copies into an error.\n",
    "\n",
    "We strongly suggest that you do that, for all your notebooks, like this:"
   ]
  },
  {
   "cell_type": "code",
   "execution_count": null,
   "id": "36544c98",
   "metadata": {},
   "outputs": [],
   "source": [
    "pd.set_option('mode.chained_assignment', 'raise')"
   ]
  },
  {
   "cell_type": "markdown",
   "id": "24aaf7f4",
   "metadata": {},
   "source": [
    "After you have done this, Pandas will stop if you try to do something like this:"
   ]
  },
  {
   "cell_type": "code",
   "execution_count": null,
   "id": "1668826d",
   "metadata": {
    "tags": [
     "raises-exception"
    ]
   },
   "outputs": [],
   "source": [
    "row_0 = ratings.loc[0]   # Copy?  Or view?  Difficult to guess.\n",
    "# Now this generates an error.\n",
    "row_0.loc['Clarity'] = 99"
   ]
  },
  {
   "cell_type": "markdown",
   "id": "6c3e2bd8",
   "metadata": {},
   "source": [
    "At first you will find this advice annoying.  Your code will generate confusing\n",
    "errors, and you will be tempted to remove this error option to make the errors\n",
    "go away.  Please be patient.  You will find that, if you follow the *copy right* rule carefully, most of these errors go away."
   ]
  },
  {
   "cell_type": "markdown",
   "id": "1d42631c",
   "metadata": {},
   "source": [
    "## Copy, views, on the left\n",
    "\n",
    "Now consider this code:"
   ]
  },
  {
   "cell_type": "code",
   "execution_count": null,
   "id": "b67254af",
   "metadata": {
    "tags": [
     "raises-exception"
    ]
   },
   "outputs": [],
   "source": [
    "ratings.loc[0].loc['Clarity'] = 99"
   ]
  },
  {
   "cell_type": "markdown",
   "id": "7e2bb4ca",
   "metadata": {},
   "source": [
    "Because we have set the `mode.chained_assignment` option to `error` above, this generates an error --- but why?\n",
    "\n",
    "The reason is the same as the reason for the previous error.  The code in the\n",
    "cell directly above is just a short-cut for this exact equivalent."
   ]
  },
  {
   "cell_type": "code",
   "execution_count": null,
   "id": "9d21dcbc",
   "metadata": {
    "tags": [
     "raises-exception"
    ]
   },
   "outputs": [],
   "source": [
    "tmp = ratings.loc[0]\n",
    "tmp.loc['Clarity'] = 99"
   ]
  },
  {
   "cell_type": "markdown",
   "id": "339f732c",
   "metadata": {},
   "source": [
    "Specifically, when Python sees `ratings.loc[0].loc['Clarity'] = 99`, it first\n",
    "evaluates `ratings.loc[0]` to generate a temporary copy.  In the code above, we\n",
    "called this temporary copy `tmp`. It then tries to set the value into the copy\n",
    "with `tmp.loc['Clarity'] = 99`.  This generates the same error as you saw\n",
    "before.\n",
    "\n",
    "As you have probably guessed from the option name above, Pandas calls this\n",
    "*chained assignment*, because you are: first, fetching the stuff you want do\n",
    "the assignment on (`ratings.loc[0]`) and then doing the assignment\n",
    "`.loc['Clarity'] = 99`. There are two steps on the left hand side, in a chain,\n",
    "first fetching the data, then assigning.\n",
    "\n",
    "The problem that Pandas has is that it cannot tell that this chained assignment\n",
    "has happened, so it can't tell what you mean.  Python will ask Pandas to\n",
    "generate `ratings.loc[0]` first, which it does, to generate the temporary copy\n",
    "that we can call `tmp`. Python then ask Pandas to set the value with\n",
    "`tmp.loc['Clarity'] = 99`.  When Pandas gets this second instruction, it has no\n",
    "way of knowing that `tmp` came from the combined instruction\n",
    "`ratings.loc[0].loc['Clarity'] = 99`, and so all it can do is set the value\n",
    "into the copy, as instructed.\n",
    "\n",
    "This leads us to the last rule."
   ]
  },
  {
   "cell_type": "markdown",
   "id": "ee8140b3",
   "metadata": {},
   "source": [
    "## Rule 3: loc left\n",
    "\n",
    "When you do want to use indexing on the left hand side, to set some values into\n",
    "a data frame or Series, try do to this all in one shot, using indirect indexing\n",
    "with `.loc` or `iloc`.\n",
    "\n",
    "For example, you have just see that this generates an error, and why:"
   ]
  },
  {
   "cell_type": "code",
   "execution_count": null,
   "id": "caf811b2",
   "metadata": {
    "tags": [
     "raises-exception"
    ]
   },
   "outputs": [],
   "source": [
    "ratings.loc[0].loc['Clarity'] = 99"
   ]
  },
  {
   "cell_type": "markdown",
   "id": "2d2b490f",
   "metadata": {},
   "source": [
    "You can avoid that error by doing all your left-hand-side indexing in one shot, like this:"
   ]
  },
  {
   "cell_type": "code",
   "execution_count": null,
   "id": "4f79ed49",
   "metadata": {},
   "outputs": [],
   "source": [
    "ratings.loc[0, 'Clarity'] = 99"
   ]
  },
  {
   "cell_type": "markdown",
   "id": "b084fc09",
   "metadata": {},
   "source": [
    "Notice there is no error.  This is because, in this second case, Pandas gets\n",
    "all the instructions in one go.  It can see from this combined instruction that\n",
    "we *meant* to set the 'Clarity' value for the row labeled 0 in the `ratings`\n",
    "data frame, and does just this."
   ]
  },
  {
   "cell_type": "markdown",
   "id": "94d2e412",
   "metadata": {},
   "source": [
    "## Keep calm, follow the three rules\n",
    "\n",
    "Do not worry if some of this is not immediately clear; it is not easy.\n",
    "\n",
    "The trick is to remember the three rules:\n",
    "\n",
    "* Copy right.\n",
    "* Make copy warnings into errors.\n",
    "* Use `.loc` and `.iloc` for your left-hand-side indexing."
   ]
  }
 ],
 "metadata": {
  "jupyterbook": {
   "show_stderr": true
  },
  "jupytext": {
   "notebook_metadata_filter": "jupyterbook",
   "split_at_heading": true
  },
  "kernelspec": {
   "display_name": "Python 3",
   "language": "python",
   "name": "python3"
  }
 },
 "nbformat": 4,
 "nbformat_minor": 5
}
