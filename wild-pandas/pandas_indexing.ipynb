{
 "cells": [
  {
   "cell_type": "markdown",
   "id": "7a7749ad",
   "metadata": {},
   "source": [
    "# Indexing in Pandas\n",
    "\n",
    "Way back in the [introduction to data frames](../data-frames/data_frame_intro),\n",
    "we covered indexing into data frames with *Boolean vectors*, such as Pandas\n",
    "Series or Numpy arrays, and indexing into data frames with column names.\n",
    "\n",
    "We call this type of indexing *simple indexing*\n",
    "\n",
    "This page covers more sophisticated indexing in Pandas - *advanced indexing*.\n",
    "\n",
    "<!---\n",
    "Summary:\n",
    "\n",
    "Simple indexing\n",
    "Advanced indexing\n",
    "   Labels with loc\n",
    "   Positions with iloc\n",
    "-->\n",
    "\n",
    "To understand advanced indexing, we first need to cover the *index* of data\n",
    "frames and Series.  The *index* contains the *row labels* for a data frame or\n",
    "series.\n",
    "\n",
    "We start with our usual imports:"
   ]
  },
  {
   "cell_type": "code",
   "execution_count": null,
   "id": "91073cad",
   "metadata": {},
   "outputs": [],
   "source": [
    "# Load the Numpy library, rename to \"np\"\n",
    "import numpy as np\n",
    "\n",
    "# Load the Pandas data science library, rename to \"pd\"\n",
    "import pandas as pd\n",
    "\n",
    "# Safe settings for Pandas.\n",
    "pd.set_option('mode.chained_assignment', 'raise')"
   ]
  },
  {
   "cell_type": "markdown",
   "id": "c7fdfee5",
   "metadata": {},
   "source": [
    "## The index\n",
    "\n",
    "We return to our first data frame, containing statistics on development and\n",
    "gender from the World Bank.\n",
    "\n",
    "This is the {download}`gender_stats.csv <../data/gender_stats.csv>` file.\n",
    "See [the gender stats data\n",
    "page](https://github.com/odsti/datasets/tree/master/gender_stats) for\n",
    "some more detail.\n",
    "\n",
    "Download that file to the same directory as this notebook, if you are running\n",
    "on your own computer."
   ]
  },
  {
   "cell_type": "code",
   "execution_count": null,
   "id": "0806c17b",
   "metadata": {},
   "outputs": [],
   "source": [
    "# Load the data file as a data frame.\n",
    "gender_data = pd.read_csv('gender_stats.csv')\n",
    "\n",
    "# Show the first 10 rows\n",
    "gender_data.head(10)"
   ]
  },
  {
   "cell_type": "markdown",
   "id": "ef955022",
   "metadata": {},
   "source": [
    "As you know, the names at the top, in **bold typeface**, are the names of the\n",
    "columns.  We can see these names using the `columns` attribute of the data\n",
    "frame:"
   ]
  },
  {
   "cell_type": "code",
   "execution_count": null,
   "id": "02a9520f",
   "metadata": {},
   "outputs": [],
   "source": [
    "gender_data.columns"
   ]
  },
  {
   "cell_type": "markdown",
   "id": "9d6692b1",
   "metadata": {},
   "source": [
    "These can also be called the *column labels*."
   ]
  },
  {
   "cell_type": "markdown",
   "id": "a6d35613",
   "metadata": {},
   "source": [
    "We have not paid attention so far to the numbers at the left of the table\n",
    "display, also in bold typeface.\n",
    "\n",
    "In this case, they are ascending integers, starting at 0, with value 0 for the\n",
    "first row, 1 for the second row, and so on.\n",
    "\n",
    "These numbers are the *index* of the data frame.  The index contains the *row\n",
    "labels*.\n",
    "\n",
    "We can see the row labels / index with the `index` attribute of the data frame."
   ]
  },
  {
   "cell_type": "code",
   "execution_count": null,
   "id": "acb70def",
   "metadata": {},
   "outputs": [],
   "source": [
    "gender_data.index"
   ]
  },
  {
   "cell_type": "markdown",
   "id": "bbd5250e",
   "metadata": {},
   "source": [
    "This is saying we have a simple index, that is like a `np.arange`, starting at\n",
    "0, and continuing in steps of 1 up to, but not including 216.\n",
    "\n",
    "So far, the index looks like row numbers, with 0 for the first row, 1 for the\n",
    "second row.  We will soon see that the index is more than that."
   ]
  },
  {
   "cell_type": "markdown",
   "id": "b92e6f87",
   "metadata": {},
   "source": [
    "For example, let us look at the last 15 rows.  We can get these with the `tail`\n",
    "method of the data frame."
   ]
  },
  {
   "cell_type": "code",
   "execution_count": null,
   "id": "e3854d78",
   "metadata": {},
   "outputs": [],
   "source": [
    "last_15 = gender_data.tail(15)\n",
    "last_15"
   ]
  },
  {
   "cell_type": "markdown",
   "id": "a18d04cf",
   "metadata": {},
   "source": [
    "Here is the `index` of this new data frame."
   ]
  },
  {
   "cell_type": "code",
   "execution_count": null,
   "id": "72727927",
   "metadata": {},
   "outputs": [],
   "source": [
    "last_15.index"
   ]
  },
  {
   "cell_type": "markdown",
   "id": "ff4f1081",
   "metadata": {},
   "source": [
    "Notice that the first row of this new data frame no longer has the label 0 - it\n",
    "has label 201.  These numbers are the labels from the original data frame, from\n",
    "which we selected the rows.\n",
    "\n",
    "Notice too that the second row in this table is the USA, and it has the label\n",
    "\\202."
   ]
  },
  {
   "cell_type": "markdown",
   "id": "417343e1",
   "metadata": {},
   "source": [
    "Now imagine that I sort the original data frame by Gross Domestic Product, and\n",
    "select the top 15 rows.  By doing this, I select the top 15 richest countries."
   ]
  },
  {
   "cell_type": "code",
   "execution_count": null,
   "id": "c5865ea0",
   "metadata": {},
   "outputs": [],
   "source": [
    "# Sort by GDP.\n",
    "df_by_gdp = gender_data.sort_values('gdp_us_billion', ascending=False)\n",
    "# Take the top 15 rows.\n",
    "richest_15 = df_by_gdp.head(15)\n",
    "richest_15"
   ]
  },
  {
   "cell_type": "markdown",
   "id": "9c70b97e",
   "metadata": {},
   "source": [
    "Now notice that the index values have followed their respective rows.  The row\n",
    "for the USA is now first, but it has kept its original index value (row label)\n",
    "\\- 202.  The index value *identifies* the row.\n",
    "\n",
    "Here is the index for this small table:"
   ]
  },
  {
   "cell_type": "code",
   "execution_count": null,
   "id": "dcfd9a39",
   "metadata": {},
   "outputs": [],
   "source": [
    "richest_15.index"
   ]
  },
  {
   "cell_type": "markdown",
   "id": "fa872cb4",
   "metadata": {},
   "source": [
    "Now let us say that I wanted to get the eleventh row of this table.\n",
    "\n",
    "I would be tempted to do something like `richest_15[10]` - but then - what\n",
    "would Pandas give me?   Does `10` mean the row label for \"Australia\"?  Or does\n",
    "it mean the eleventh row of the table, as it would for an array, and therefore\n",
    "the row for \"Canada\"?  That is, will the indexing using the *labels* (index\n",
    "values)?  Or will it use the positions (as for indexing in Numpy arrays)?\n",
    "\n",
    "The answer is, it is ambiguous, and when things are ambiguous, Pandas has to\n",
    "guess.   That's a bad idea, because then we have to guess what Pandas has\n",
    "guessed, and it is starting to get really confusing.\n",
    "\n",
    "For that reason, we careful Pandas users do not index rows with code like\n",
    "`richest_15[10]`.  When we are not using Booleans to select rows, we always use\n",
    "one of the two indexing attributes that Pandas provides.  Each does a different\n",
    "type of indexing.\n",
    "\n",
    "* The `loc` (label locate) attribute indexes using the *labels* (row index).\n",
    "* The `iloc` (position locate) attribute indexes using the positions.\n",
    "\n",
    "Here they are in action:"
   ]
  },
  {
   "cell_type": "code",
   "execution_count": null,
   "id": "cef95e8a",
   "metadata": {},
   "outputs": [],
   "source": [
    "# Get the row with label 10\n",
    "richest_15.loc[10]"
   ]
  },
  {
   "cell_type": "code",
   "execution_count": null,
   "id": "5e43ce43",
   "metadata": {},
   "outputs": [],
   "source": [
    "# Get the row at position / offset 10\n",
    "richest_15.iloc[10]"
   ]
  },
  {
   "cell_type": "markdown",
   "id": "1022f5ae",
   "metadata": {},
   "source": [
    "In more details, what is happening in the first cell above is that\n",
    "`richest_15.loc` gives us a special value (AKA *object*) that:\n",
    "\n",
    "* knows about the `richest_15` data frame;\n",
    "* will give us rows and columns, if we use `[ something ]` on it.\n",
    "\n",
    "So, read `richest_15.loc[10]` as:\n",
    "\n",
    "* Get the `richest_15` value (the data frame);\n",
    "* Get the `loc` attribute of this data frame. This evaluates to a special\n",
    "  object (value) that can give us rows and columns from the data frame, by\n",
    "  looking at labels;\n",
    "* Use this object to fetch the row labeled 10, by using indexing (`[10]`)"
   ]
  },
  {
   "cell_type": "markdown",
   "id": "7989bb8e",
   "metadata": {},
   "source": [
    "Likewise, read `richest_15.iloc[10]` as:\n",
    "\n",
    "* Get the `richest_15` value (the data frame);\n",
    "* Get the `iloc` attribute of this data frame. This evaluates to a special\n",
    "  object (value) that can give us rows and columns from the data frame, by\n",
    "  looking at positions (offsets);\n",
    "* Use this object to fetch the row at offset 10, by using indexing (`[10]`)."
   ]
  },
  {
   "cell_type": "markdown",
   "id": "304a76f6",
   "metadata": {},
   "source": [
    "When you select rows and columns from a data frame, consider carefully what you\n",
    "want.\n",
    "\n",
    "Do you want to select rows and columns by *label* (by *index*, in the rows).\n",
    "Then you want `.loc`.\n",
    "\n",
    "Do you want to select rows and columns by *position* (offset).  Then you want\n",
    "`.iloc`."
   ]
  },
  {
   "cell_type": "markdown",
   "id": "def44e53",
   "metadata": {},
   "source": [
    "## Loc and iloc indexing work on columns too"
   ]
  },
  {
   "cell_type": "markdown",
   "id": "0cb0b973",
   "metadata": {},
   "source": [
    "Consider this.  We use `.loc` and the label for the *row*, followed by the\n",
    "label for the *column*."
   ]
  },
  {
   "cell_type": "code",
   "execution_count": null,
   "id": "32f49c6e",
   "metadata": {},
   "outputs": [],
   "source": [
    "richest_15.loc[10, 'gdp_us_billion']"
   ]
  },
  {
   "cell_type": "markdown",
   "id": "fe3d7fec",
   "metadata": {},
   "source": [
    "This selects the row *labeled* 10 (the USA row) and returns the value from the\n",
    "`gdp_us_billion` column.\n",
    "\n",
    "Conversely, `iloc` only understands positions, and so, integers.  It does not\n",
    "understand or use labels:"
   ]
  },
  {
   "cell_type": "code",
   "execution_count": null,
   "id": "f8835267",
   "metadata": {
    "tags": [
     "raises-exception"
    ]
   },
   "outputs": [],
   "source": [
    "# We can't specify columns by label, using iloc.\n",
    "richest_15.iloc[10, 'gdp_us_billion']"
   ]
  },
  {
   "cell_type": "markdown",
   "id": "718ae6ab",
   "metadata": {},
   "source": [
    "Notice the somewhat informative error right at the bottom of the error message."
   ]
  },
  {
   "cell_type": "markdown",
   "id": "ce31a74b",
   "metadata": {},
   "source": [
    "`iloc` can get columns by their position.  For example, `fertility_rate` is the\n",
    "third column, and so we can get the fertility rate by asking `iloc` for the\n",
    "eleventh row, third column, like so:"
   ]
  },
  {
   "cell_type": "code",
   "execution_count": null,
   "id": "acc8d4b8",
   "metadata": {},
   "outputs": [],
   "source": [
    "richest_15.iloc[10, 2]"
   ]
  },
  {
   "cell_type": "markdown",
   "id": "f68e9f82",
   "metadata": {},
   "source": [
    "This is the value from the row at offset 10 and the column at offset 2.\n"
   ]
  },
  {
   "cell_type": "markdown",
   "id": "eb72c5d5",
   "metadata": {},
   "source": [
    "## Series have an index too"
   ]
  },
  {
   "cell_type": "markdown",
   "id": "dc09ffb4",
   "metadata": {},
   "source": [
    "Data frames have columns (and column labels), and rows (with row labels --- the\n",
    "index).\n",
    "\n",
    "Series also have element labels --- they also have an index.\n",
    "\n",
    "Consider this column, of the fertility rates of the richest countries:"
   ]
  },
  {
   "cell_type": "code",
   "execution_count": null,
   "id": "d019dcf5",
   "metadata": {},
   "outputs": [],
   "source": [
    "# Get the fert_rate column from the data frame\n",
    "rich_ferts = richest_15['fert_rate']\n",
    "rich_ferts.head()"
   ]
  },
  {
   "cell_type": "markdown",
   "id": "74b67a9e",
   "metadata": {},
   "source": [
    "As y'all know, this is a Series:"
   ]
  },
  {
   "cell_type": "code",
   "execution_count": null,
   "id": "07035306",
   "metadata": {},
   "outputs": [],
   "source": [
    "type(rich_ferts)"
   ]
  },
  {
   "cell_type": "markdown",
   "id": "f69acbc9",
   "metadata": {},
   "source": [
    "You probably also spotted the numbers to the left of the values.  Yes, the row\n",
    "labels have come across from the data frame into the Series.  We can see that\n",
    "the first element has row label 202, and we remember that this is the row label\n",
    "(index value) for the USA."
   ]
  },
  {
   "cell_type": "markdown",
   "id": "a60c0c20",
   "metadata": {},
   "source": [
    "As for the data frames, here is the index for the series:"
   ]
  },
  {
   "cell_type": "code",
   "execution_count": null,
   "id": "1ecf898c",
   "metadata": {},
   "outputs": [],
   "source": [
    "rich_ferts.index"
   ]
  },
  {
   "cell_type": "markdown",
   "id": "844ac799",
   "metadata": {},
   "source": [
    "Like data frames, we can index by label, with `loc`, and by position, with\n",
    "`iloc`:"
   ]
  },
  {
   "cell_type": "code",
   "execution_count": null,
   "id": "1bf39f2a",
   "metadata": {},
   "outputs": [],
   "source": [
    "# The value for row labeled 10 - Australia.\n",
    "rich_ferts.loc[10]"
   ]
  },
  {
   "cell_type": "code",
   "execution_count": null,
   "id": "d2680f06",
   "metadata": {},
   "outputs": [],
   "source": [
    "# The value for the row at position 10 - Canada\n",
    "rich_ferts.iloc[10]"
   ]
  },
  {
   "cell_type": "markdown",
   "id": "5cb080e2",
   "metadata": {},
   "source": [
    "## Rows from data frames are Series"
   ]
  },
  {
   "cell_type": "markdown",
   "id": "aa81aa7c",
   "metadata": {},
   "source": [
    "Here we select the row at position 0 (the first row):"
   ]
  },
  {
   "cell_type": "code",
   "execution_count": null,
   "id": "5c4c36fc",
   "metadata": {},
   "outputs": [],
   "source": [
    "first_row = richest_15.iloc[0]\n",
    "first_row"
   ]
  },
  {
   "cell_type": "markdown",
   "id": "947da65f",
   "metadata": {},
   "source": [
    "This is a Series:"
   ]
  },
  {
   "cell_type": "code",
   "execution_count": null,
   "id": "a8160bb3",
   "metadata": {},
   "outputs": [],
   "source": [
    "type(first_row)"
   ]
  },
  {
   "cell_type": "markdown",
   "id": "7d403a2f",
   "metadata": {},
   "source": [
    "Notice that the Series has 9 elements, one for each column in the data frame.\n",
    "\n",
    "As you remember, we can see the number of rows and columns in a data frame\n",
    "with:"
   ]
  },
  {
   "cell_type": "code",
   "execution_count": null,
   "id": "f35bed71",
   "metadata": {},
   "outputs": [],
   "source": [
    "richest_15.shape"
   ]
  },
  {
   "cell_type": "markdown",
   "id": "b63f1425",
   "metadata": {},
   "source": [
    "Remember, the columns have names, which we can also call *labels*.\n",
    "\n",
    "When we select a row out of a data frame, we have one element per column, and\n",
    "the labels for the columns now become the labels for the rows."
   ]
  },
  {
   "cell_type": "code",
   "execution_count": null,
   "id": "70d64d22",
   "metadata": {},
   "outputs": [],
   "source": [
    "first_row.index"
   ]
  },
  {
   "cell_type": "markdown",
   "id": "21108e52",
   "metadata": {},
   "source": [
    "As for any other Series, we can get elements by label, with `loc`:"
   ]
  },
  {
   "cell_type": "code",
   "execution_count": null,
   "id": "6db90e9e",
   "metadata": {},
   "outputs": [],
   "source": [
    "first_row.loc['fert_rate']"
   ]
  },
  {
   "cell_type": "markdown",
   "id": "74aebfeb",
   "metadata": {},
   "source": [
    "We can also get elements by position (offset), with `iloc`:"
   ]
  },
  {
   "cell_type": "code",
   "execution_count": null,
   "id": "761cdd22",
   "metadata": {},
   "outputs": [],
   "source": [
    "first_row.iloc[0]"
   ]
  },
  {
   "cell_type": "markdown",
   "id": "65004df2",
   "metadata": {},
   "source": [
    "## You can index without loc and iloc, but please don't, except ..."
   ]
  },
  {
   "cell_type": "markdown",
   "id": "da9686dc",
   "metadata": {},
   "source": [
    "In the [data frame introduction](../data-frames/data_frame_intro), you saw that we can\n",
    "index into data frame directly, using `[ something ]` after the data frame\n",
    "value, without using `loc` or `iloc`.  Call this *direct indexing*.  This is\n",
    "a very reasonable thing to do if:\n",
    "\n",
    "* the `something` is a Boolean sequence.  This is not ambiguous.\n",
    "* the `something` is a column name.  This isn't ambiguous either.\n",
    "\n",
    "We used both types of direct indexing in the data frame introduction page.\n",
    "\n",
    "For example, both of these are entirely reasonable uses of direct indexing:"
   ]
  },
  {
   "cell_type": "code",
   "execution_count": null,
   "id": "a019d71d",
   "metadata": {},
   "outputs": [],
   "source": [
    "# Direct Boolean indexing:\n",
    "# Select rows where 'health_exp_per_cap' is greater than 3000 dollars.\n",
    "is_big_spender = richest_15['health_exp_per_cap'] > 3000  # Boolean Series\n",
    "big_health_spenders = richest_15[is_big_spender]\n",
    "big_health_spenders"
   ]
  },
  {
   "cell_type": "code",
   "execution_count": null,
   "id": "c4bce1bb",
   "metadata": {},
   "outputs": [],
   "source": [
    "# Direct indexing with column label:\n",
    "# Select the 'country_code' column.\n",
    "country_code = richest_15['country_code']\n",
    "country_code"
   ]
  },
  {
   "cell_type": "markdown",
   "id": "73638f5a",
   "metadata": {},
   "source": [
    "Those uses of direct indexing are entirely sensible.  Other uses of direct indexing are not sensible, and we strongly encourage you not to use them.\n",
    "\n",
    "For example, Pandas will also allow you to this, with the Series we just made:"
   ]
  },
  {
   "cell_type": "code",
   "execution_count": null,
   "id": "a6464ac5",
   "metadata": {},
   "outputs": [],
   "source": [
    "# Nooooooo !\n",
    "country_code[10]"
   ]
  },
  {
   "cell_type": "markdown",
   "id": "3c634be9",
   "metadata": {},
   "source": [
    "Please don't do that.  This is ambiguous.  Did you really mean the country with\n",
    "label 10?  Or did you mean the country at position 10?   Pandas will guess for\n",
    "you.  Don't let it.  If you are not selecting rows / elements with Booleans,\n",
    "always do this:"
   ]
  },
  {
   "cell_type": "code",
   "execution_count": null,
   "id": "09c95efd",
   "metadata": {},
   "outputs": [],
   "source": [
    "# By label\n",
    "country_code.loc[10]"
   ]
  },
  {
   "cell_type": "markdown",
   "id": "b78e299f",
   "metadata": {},
   "source": [
    "or this:"
   ]
  },
  {
   "cell_type": "code",
   "execution_count": null,
   "id": "bdea7a6c",
   "metadata": {},
   "outputs": [],
   "source": [
    "# By position\n",
    "country_code.iloc[10]"
   ]
  },
  {
   "cell_type": "markdown",
   "id": "78e2a44c",
   "metadata": {},
   "source": [
    "## You can use Boolean indexing with loc"
   ]
  },
  {
   "cell_type": "markdown",
   "id": "04b393a3",
   "metadata": {},
   "source": [
    "It is often convenient to use direct indexing with Booleans, as we have just seen:"
   ]
  },
  {
   "cell_type": "code",
   "execution_count": null,
   "id": "51635b9f",
   "metadata": {},
   "outputs": [],
   "source": [
    "# Create a Boolean series with True for big spender rows, False otherwise.\n",
    "is_big_spender = richest_15['health_exp_per_cap'] > 3000\n",
    "is_big_spender"
   ]
  },
  {
   "cell_type": "code",
   "execution_count": null,
   "id": "2da223b6",
   "metadata": {},
   "outputs": [],
   "source": [
    "# Direct Boolean indexing:\n",
    "# Select rows where 'health_exp_per_cap' is greater than 3000 dollars.\n",
    "big_health_spenders = richest_15[is_big_spender]\n",
    "big_health_spenders"
   ]
  },
  {
   "cell_type": "markdown",
   "id": "b50c6afc",
   "metadata": {},
   "source": [
    "We can also use Booleans with `loc` indexing.  This allows us to do things such\n",
    "as selecting rows with Booleans, and columns with labels, in one shot, like\n",
    "this:"
   ]
  },
  {
   "cell_type": "code",
   "execution_count": null,
   "id": "9180d540",
   "metadata": {},
   "outputs": [],
   "source": [
    "# Boolean indexing for rows, with \"loc\"\n",
    "# Get \"country_name\" column values for big health spenders:\n",
    "big_spender_names = richest_15.loc[is_big_spender, 'country_name']\n",
    "big_spender_names"
   ]
  },
  {
   "cell_type": "markdown",
   "id": "aeb5b93f",
   "metadata": {},
   "source": [
    "In fact you can use some Boolean sequences with `iloc` as well, but that needs\n",
    "[a little more explanation](../functions-conditionals/booleans_and_labels)."
   ]
  }
 ],
 "metadata": {
  "jupytext": {
   "split_at_heading": true
  },
  "kernelspec": {
   "display_name": "Python 3",
   "language": "python",
   "name": "python3"
  }
 },
 "nbformat": 4,
 "nbformat_minor": 5
}
