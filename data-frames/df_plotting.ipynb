{
 "cells": [
  {
   "cell_type": "markdown",
   "id": "c258152c",
   "metadata": {},
   "source": [
    "# Pandas plotting methods\n",
    "\n",
    "We start by loading our [familiar gender_data dataset](../data/gender_stats)."
   ]
  },
  {
   "cell_type": "code",
   "execution_count": null,
   "id": "f44cdd66",
   "metadata": {},
   "outputs": [],
   "source": [
    "# Load the Numpy array library, call it 'np'\n",
    "import numpy as np\n",
    "# Load the Pandas data science library, call it 'pd'\n",
    "import pandas as pd\n",
    "# Turn on a setting to use Pandas more safely.\n",
    "pd.set_option('mode.chained_assignment', 'raise')"
   ]
  },
  {
   "cell_type": "markdown",
   "id": "3b271ccb",
   "metadata": {},
   "source": [
    "If you are running on your laptop, you should download the\n",
    "{download}`gender_stats.csv <../data/gender_stats.csv>` file to the same\n",
    "directory as this notebook."
   ]
  },
  {
   "cell_type": "code",
   "execution_count": null,
   "id": "5934fde4",
   "metadata": {},
   "outputs": [],
   "source": [
    "# Load the data file\n",
    "gender_data = pd.read_csv('gender_stats.csv')\n",
    "gender_data.head()"
   ]
  },
  {
   "cell_type": "code",
   "execution_count": null,
   "id": "fb4e204e",
   "metadata": {},
   "outputs": [],
   "source": [
    "# Get the GDP values as a Pandas Series\n",
    "gdp = gender_data['gdp_us_billion']\n",
    "gdp.head()"
   ]
  },
  {
   "cell_type": "markdown",
   "id": "e342bb4f",
   "metadata": {},
   "source": [
    "## Plotting with methods\n",
    "\n",
    "You have [already seen](data_frame_intro) basic ploting with the Matplotlib\n",
    "library.\n",
    "\n",
    "Here is the magic incantation to load the Matplotlib plotting library."
   ]
  },
  {
   "cell_type": "code",
   "execution_count": null,
   "id": "d129a047",
   "metadata": {},
   "outputs": [],
   "source": [
    "# Load the library for plotting, name it 'plt'\n",
    "import matplotlib.pyplot as plt\n",
    "# Display plots inside the notebook.\n",
    "%matplotlib inline\n",
    "# Make plots look a little more fancy\n",
    "plt.style.use('fivethirtyeight')"
   ]
  },
  {
   "cell_type": "markdown",
   "id": "cf3eae95",
   "metadata": {},
   "source": [
    "Here is basic plotting of a Pandas series, using Matplotlib.  This is what you have already seen."
   ]
  },
  {
   "cell_type": "code",
   "execution_count": null,
   "id": "3ee32afa",
   "metadata": {},
   "outputs": [],
   "source": [
    "plt.hist(gdp);"
   ]
  },
  {
   "cell_type": "markdown",
   "id": "0dbc643d",
   "metadata": {},
   "source": [
    "It is possible you will see warnings as Matplotlib tried to calculate the bin\n",
    "widths for the histogram.  If you do see them, these warnings result from\n",
    "Matplotlib struggling with `NaN` ([missing](missing_values) values."
   ]
  },
  {
   "cell_type": "markdown",
   "id": "89e71ed2",
   "metadata": {},
   "source": [
    "Another way to do the histogram, is to use the `hist` *method* of the series.\n",
    "\n",
    "A method is a function attached to a value.  In this case `hist` is a function attached to a value of type `Series`.\n",
    "\n",
    "Using the `hist` method instead of the `plt.hist` function can make the code a bit easier to read.  The method also has the advantage that it discards the `NaN` values, by default, so it does not generate the same warnings."
   ]
  },
  {
   "cell_type": "code",
   "execution_count": null,
   "id": "a7e77ba9",
   "metadata": {},
   "outputs": [],
   "source": [
    "gdp.hist();"
   ]
  },
  {
   "cell_type": "markdown",
   "id": "59a79462",
   "metadata": {},
   "source": [
    "Now we have had a look at the GDP values, we will look at the\n",
    "values for the `mat_mort_ratio` column.  These are the numbers\n",
    "of women who die in childbirth for every 100,000 births."
   ]
  },
  {
   "cell_type": "code",
   "execution_count": null,
   "id": "db6a739b",
   "metadata": {},
   "outputs": [],
   "source": [
    "mmr = gender_data['mat_mort_ratio']\n",
    "mmr"
   ]
  },
  {
   "cell_type": "code",
   "execution_count": null,
   "id": "2cce94fe",
   "metadata": {},
   "outputs": [],
   "source": [
    "mmr.hist();"
   ]
  },
  {
   "cell_type": "markdown",
   "id": "11c4aa1b",
   "metadata": {},
   "source": [
    "We are interested in the relationship of `gpp` and `mmr`.  Maybe richer countries have better health care, and fewer maternal deaths.\n",
    "\n",
    "Here is a plot, using the standard Matplotlib `scatter`\n",
    "function."
   ]
  },
  {
   "cell_type": "code",
   "execution_count": null,
   "id": "14cb8542",
   "metadata": {},
   "outputs": [],
   "source": [
    "plt.scatter(gdp, mmr);"
   ]
  },
  {
   "cell_type": "markdown",
   "id": "3ab14064",
   "metadata": {},
   "source": [
    "We can do the same plot using the `plot.scatter` method on the data frame.  In that case, we specify the column names that should go on the x and the y axes."
   ]
  },
  {
   "cell_type": "code",
   "execution_count": null,
   "id": "e61b92be",
   "metadata": {},
   "outputs": [],
   "source": [
    "gender_data.plot.scatter('gdp_us_billion', 'mat_mort_ratio');"
   ]
  },
  {
   "cell_type": "markdown",
   "id": "ec4df6bd",
   "metadata": {},
   "source": [
    "An advantage of doing it this way is that we get the column names on the x and y axes by default."
   ]
  }
 ],
 "metadata": {
  "jupyterbook": {
   "show_stderr": true
  },
  "jupytext": {
   "formats": "",
   "notebook_metadata_filter": "jupyterbook",
   "split_at_heading": true
  },
  "kernelspec": {
   "display_name": "Python 3",
   "language": "python",
   "name": "python3"
  }
 },
 "nbformat": 4,
 "nbformat_minor": 5
}
