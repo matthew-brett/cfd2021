{
 "cells": [
  {
   "cell_type": "markdown",
   "id": "4e07da43",
   "metadata": {},
   "source": [
    "# Data frames, Series and arrays\n",
    "\n",
    "We have now come across three important structures that Python uses to store and access data:\n",
    "\n",
    "* arrays\n",
    "* data frames\n",
    "* series\n",
    "\n",
    "Here we stop to go back over the differences between these structures, and how to convert between them."
   ]
  },
  {
   "cell_type": "markdown",
   "id": "88aa9286",
   "metadata": {},
   "source": [
    "## Data frames"
   ]
  },
  {
   "cell_type": "markdown",
   "id": "ba223d6e",
   "metadata": {},
   "source": [
    "We start by loading a data frame from a Comma Separated Value file (CSV\n",
    "file).\n",
    "\n",
    "The data file we will load is a table with average\n",
    "<https://ratemyprofessors.com> scores across all professors teaching\n",
    "a particular academic discipline.\n",
    "\n",
    "See the [array indexing page](../arrays/array_indexing) for more\n",
    "detail.\n",
    "\n",
    "Each row in this table corresponds to one *discipline*.  Each column corresponds to a different *rating*.\n",
    "\n",
    "If you are running on your laptop, you should download\n",
    "the {download}`rate_my_course.csv <../data/rate_my_course.csv>`\n",
    "file to the same directory as this notebook."
   ]
  },
  {
   "cell_type": "code",
   "execution_count": null,
   "id": "da6acd61",
   "metadata": {},
   "outputs": [],
   "source": [
    "# Load the Numpy library, rename to \"np\"\n",
    "import numpy as np\n",
    "\n",
    "# Load the Pandas data science library, rename to \"pd\"\n",
    "import pandas as pd\n",
    "# Turn on a setting to use Pandas more safely.\n",
    "# We will discuss this setting later.\n",
    "pd.set_option('mode.chained_assignment', 'raise')"
   ]
  },
  {
   "cell_type": "code",
   "execution_count": null,
   "id": "738f59c4",
   "metadata": {},
   "outputs": [],
   "source": [
    "# Read the file as a data frame.\n",
    "courses = pd.read_csv('rate_my_course.csv')"
   ]
  },
  {
   "cell_type": "code",
   "execution_count": null,
   "id": "0e0326d9",
   "metadata": {},
   "outputs": [],
   "source": [
    "# Show the first five rows.\n",
    "courses.head()"
   ]
  },
  {
   "cell_type": "markdown",
   "id": "978da8f6",
   "metadata": {},
   "source": [
    "The `pd.read_csv` function returned this table in a structure called a *data frame*."
   ]
  },
  {
   "cell_type": "code",
   "execution_count": null,
   "id": "3dc1a3bd",
   "metadata": {},
   "outputs": [],
   "source": [
    "type(courses)"
   ]
  },
  {
   "cell_type": "markdown",
   "id": "97b1c15c",
   "metadata": {},
   "source": [
    "The data frame is a two-dimensional structure. It has rows, and columns.   We can see the number of rows and columns with:"
   ]
  },
  {
   "cell_type": "code",
   "execution_count": null,
   "id": "4d713c45",
   "metadata": {},
   "outputs": [],
   "source": [
    "courses.shape"
   ]
  },
  {
   "cell_type": "markdown",
   "id": "28434dd4",
   "metadata": {},
   "source": [
    "This means there are 75 rows.  In this case, each row corresponds to one\n",
    "discipline.\n",
    "\n",
    "There are 6 columns.  In this case, each column corresponds to a different student rating."
   ]
  },
  {
   "cell_type": "markdown",
   "id": "3738aaf4",
   "metadata": {},
   "source": [
    "Passing the data frame to the Python `len` function shows us the number of rows:"
   ]
  },
  {
   "cell_type": "code",
   "execution_count": null,
   "id": "242edb7a",
   "metadata": {},
   "outputs": [],
   "source": [
    "len(courses)"
   ]
  },
  {
   "cell_type": "markdown",
   "id": "4beb0b86",
   "metadata": {},
   "source": [
    "### Indexing into data frames"
   ]
  },
  {
   "cell_type": "markdown",
   "id": "75c2022d",
   "metadata": {},
   "source": [
    "There are two simple ways of indexing into data frames.\n",
    "\n",
    "We index into a data frame to get a subset of of the data.\n",
    "\n",
    "To index into anything, we can give the name of thing - in this case `courses` - followed by an opening square bracket `[`, followed by something to specify which subset of the data we want, followed by a closing square bracket `]`.\n",
    "\n",
    "The two simple ways of indexing into a data frame are:\n",
    "\n",
    "* Indexing with a string to get a column.\n",
    "* Indexing with a Boolean sequence to get a subset of the rows."
   ]
  },
  {
   "cell_type": "markdown",
   "id": "d67f9286",
   "metadata": {},
   "source": [
    "When we index with a string, the string should be a column name:"
   ]
  },
  {
   "cell_type": "code",
   "execution_count": null,
   "id": "05ad3467",
   "metadata": {},
   "outputs": [],
   "source": [
    "easiness = courses['Easiness']"
   ]
  },
  {
   "cell_type": "markdown",
   "id": "fca138d4",
   "metadata": {},
   "source": [
    "The result is a *series*:"
   ]
  },
  {
   "cell_type": "code",
   "execution_count": null,
   "id": "213f11de",
   "metadata": {},
   "outputs": [],
   "source": [
    "type(easiness)"
   ]
  },
  {
   "cell_type": "markdown",
   "id": "771e4d33",
   "metadata": {},
   "source": [
    "The Series is a structure that holds the data for a single column."
   ]
  },
  {
   "cell_type": "code",
   "execution_count": null,
   "id": "ac50686a",
   "metadata": {},
   "outputs": [],
   "source": [
    "easiness"
   ]
  },
  {
   "cell_type": "markdown",
   "id": "4379a283",
   "metadata": {},
   "source": [
    "We will come back to the Series soon.\n",
    "\n",
    "Notice that, if your string specifying the column name does not match a column name exactly, you will get a long error.   This gives you some practice in reading long error messages - skip to the end first, you will often see the most helpful information there."
   ]
  },
  {
   "cell_type": "code",
   "execution_count": null,
   "id": "212d8bc4",
   "metadata": {
    "tags": [
     "raises-exception"
    ]
   },
   "outputs": [],
   "source": [
    "# The exact column name starts with capital E\n",
    "courses['easiness']"
   ]
  },
  {
   "cell_type": "markdown",
   "id": "5f3856cb",
   "metadata": {},
   "source": [
    "You have just seen indexing into the data frame with a string to get the data for one column.\n",
    "\n",
    "The other simple way of indexing into a data frame is with a Boolean sequence.\n",
    "\n",
    "A Boolean sequence is a sequence of values, all of which are either True or False.  Examples of sequences are series and arrays."
   ]
  },
  {
   "cell_type": "markdown",
   "id": "6a02f7cb",
   "metadata": {},
   "source": [
    "For example, imagine we only wanted to look at courses with an easiness rating of greater than 3.25.\n",
    "\n",
    "We first make the Boolean sequence, by asking the question `> 3.25` of the values in the \"Easiness\" column, like this:"
   ]
  },
  {
   "cell_type": "code",
   "execution_count": null,
   "id": "451871fa",
   "metadata": {},
   "outputs": [],
   "source": [
    "is_easy = easiness > 3.25"
   ]
  },
  {
   "cell_type": "markdown",
   "id": "fc102aa1",
   "metadata": {},
   "source": [
    "This is a series that has True and False values:"
   ]
  },
  {
   "cell_type": "code",
   "execution_count": null,
   "id": "d4b10d97",
   "metadata": {},
   "outputs": [],
   "source": [
    "type(is_easy)"
   ]
  },
  {
   "cell_type": "code",
   "execution_count": null,
   "id": "02a397c8",
   "metadata": {},
   "outputs": [],
   "source": [
    "is_easy"
   ]
  },
  {
   "cell_type": "markdown",
   "id": "f1beb13c",
   "metadata": {},
   "source": [
    "It has True values where the corresponding row had an \"Easiness\" score greater than 3.25, and False values where the corresponding row had an \"Easiness\" score of less than or equal to 3.25."
   ]
  },
  {
   "cell_type": "markdown",
   "id": "e2bfbf16",
   "metadata": {},
   "source": [
    "We can index into the data frame with this Boolean series.\n",
    "\n",
    "When we do this, we ask the data frame to give us a new version of itself, that only has the rows where there was a True value in the Boolean series:"
   ]
  },
  {
   "cell_type": "code",
   "execution_count": null,
   "id": "8a283b61",
   "metadata": {},
   "outputs": [],
   "source": [
    "easy_courses = courses[is_easy]"
   ]
  },
  {
   "cell_type": "markdown",
   "id": "19dfb9d7",
   "metadata": {},
   "source": [
    "The result is a data frame:"
   ]
  },
  {
   "cell_type": "code",
   "execution_count": null,
   "id": "ac6c078c",
   "metadata": {},
   "outputs": [],
   "source": [
    "type(easy_courses)"
   ]
  },
  {
   "cell_type": "markdown",
   "id": "eff8293b",
   "metadata": {},
   "source": [
    "The data frame contains only the rows where the \"Easiness\" score is greater than 3.25:"
   ]
  },
  {
   "cell_type": "code",
   "execution_count": null,
   "id": "1252aab0",
   "metadata": {},
   "outputs": [],
   "source": [
    "easy_courses"
   ]
  },
  {
   "cell_type": "markdown",
   "id": "165788ca",
   "metadata": {},
   "source": [
    "The way this works can be easier to see when we use a smaller data frame.\n",
    "\n",
    "Here we take the first eight rows from the data frame, by using the `head` method.\n",
    "\n",
    "The `head` method can take an argument, which is the number of rows we want."
   ]
  },
  {
   "cell_type": "code",
   "execution_count": null,
   "id": "bb8feefb",
   "metadata": {},
   "outputs": [],
   "source": [
    "first_8 = courses.head(8)"
   ]
  },
  {
   "cell_type": "markdown",
   "id": "cfe55c4a",
   "metadata": {},
   "source": [
    "The result is a new data frame:"
   ]
  },
  {
   "cell_type": "code",
   "execution_count": null,
   "id": "ba03984c",
   "metadata": {},
   "outputs": [],
   "source": [
    "type(first_8)"
   ]
  },
  {
   "cell_type": "code",
   "execution_count": null,
   "id": "d36cd8d4",
   "metadata": {},
   "outputs": [],
   "source": [
    "first_8"
   ]
  },
  {
   "cell_type": "markdown",
   "id": "7b609345",
   "metadata": {},
   "source": [
    "We index into the new data frame with a string, to get the \"Easiness\" column:"
   ]
  },
  {
   "cell_type": "code",
   "execution_count": null,
   "id": "0cd8c0e1",
   "metadata": {},
   "outputs": [],
   "source": [
    "easiness_first_8 = first_8[\"Easiness\"]\n",
    "easiness_first_8"
   ]
  },
  {
   "cell_type": "markdown",
   "id": "7e024dbc",
   "metadata": {},
   "source": [
    "This Boolean series has True where the \"Easiness\" score is greater than 3.25, and False otherwise:"
   ]
  },
  {
   "cell_type": "code",
   "execution_count": null,
   "id": "1471f633",
   "metadata": {},
   "outputs": [],
   "source": [
    "is_easy_first_8 = easiness_first_8 > 3.25\n",
    "is_easy_first_8"
   ]
  },
  {
   "cell_type": "markdown",
   "id": "4be87c2d",
   "metadata": {},
   "source": [
    "We index into the `first_8` data frame with this Boolean series, to select the rows where `is_easy_first_8` has True, and throw away the rows where it has False."
   ]
  },
  {
   "cell_type": "code",
   "execution_count": null,
   "id": "bdbe17b9",
   "metadata": {},
   "outputs": [],
   "source": [
    "easy_first_8 = first_8[is_easy_first_8]\n",
    "easy_first_8"
   ]
  },
  {
   "cell_type": "markdown",
   "id": "925e940a",
   "metadata": {},
   "source": [
    "Oh dear, Psychology looks pretty easy."
   ]
  },
  {
   "cell_type": "markdown",
   "id": "cd92bd6e",
   "metadata": {},
   "source": [
    "## Series and array"
   ]
  },
  {
   "cell_type": "markdown",
   "id": "9f5aa83e",
   "metadata": {},
   "source": [
    "The series, as you have seen, is the structure that Pandas uses to store the data from a column:"
   ]
  },
  {
   "cell_type": "code",
   "execution_count": null,
   "id": "4d57cd3d",
   "metadata": {},
   "outputs": [],
   "source": [
    "first_8"
   ]
  },
  {
   "cell_type": "code",
   "execution_count": null,
   "id": "a6bf8235",
   "metadata": {},
   "outputs": [],
   "source": [
    "easiness_first_8 = first_8[\"Easiness\"]\n",
    "easiness_first_8"
   ]
  },
  {
   "cell_type": "markdown",
   "id": "cdc32b1c",
   "metadata": {},
   "source": [
    "You can index into a series, but this indexing is powerful and sophisticated, so we will not use that for now.\n",
    "\n",
    "For now, you can convert the series to an array, like this:"
   ]
  },
  {
   "cell_type": "code",
   "execution_count": null,
   "id": "9c95c710",
   "metadata": {},
   "outputs": [],
   "source": [
    "easi_8 = np.array(easiness_first_8)\n",
    "easi_8"
   ]
  },
  {
   "cell_type": "markdown",
   "id": "12e6b6e4",
   "metadata": {},
   "source": [
    "Then you can use the usual [array indexing](../arrays/array_indexing) to get\n",
    "the values you want:"
   ]
  },
  {
   "cell_type": "code",
   "execution_count": null,
   "id": "16b9e5ba",
   "metadata": {},
   "outputs": [],
   "source": [
    "# The first value\n",
    "easi_8[0]"
   ]
  },
  {
   "cell_type": "code",
   "execution_count": null,
   "id": "ef14ce4f",
   "metadata": {},
   "outputs": [],
   "source": [
    "# The first five values\n",
    "easi_8[:5]"
   ]
  },
  {
   "cell_type": "markdown",
   "id": "6e5d3a36",
   "metadata": {},
   "source": [
    "You can think of a data frame as sequence of columns, where each column is series.\n",
    "\n",
    "Here I take two columns from the data frame, as series:"
   ]
  },
  {
   "cell_type": "code",
   "execution_count": null,
   "id": "9f2789d1",
   "metadata": {},
   "outputs": [],
   "source": [
    "disciplines = first_8['Discipline']\n",
    "disciplines"
   ]
  },
  {
   "cell_type": "code",
   "execution_count": null,
   "id": "1e53398d",
   "metadata": {},
   "outputs": [],
   "source": [
    "clarity = first_8['Clarity']\n",
    "clarity"
   ]
  },
  {
   "cell_type": "markdown",
   "id": "ca065f6d",
   "metadata": {},
   "source": [
    "I can make a new data frame by inserting these two columns:"
   ]
  },
  {
   "cell_type": "code",
   "execution_count": null,
   "id": "8ae1899f",
   "metadata": {},
   "outputs": [],
   "source": [
    "# A new data frame\n",
    "thinner_courses = pd.DataFrame()\n",
    "# We will come to the need for the `copy` later.\n",
    "thinner_courses['Discipline'] = disciplines.copy()\n",
    "thinner_courses['Clarity'] = clarity.copy()\n",
    "thinner_courses"
   ]
  }
 ],
 "metadata": {
  "jupytext": {
   "split_at_heading": true
  },
  "kernelspec": {
   "display_name": "Python 3",
   "language": "python",
   "name": "python3"
  }
 },
 "nbformat": 4,
 "nbformat_minor": 5
}
