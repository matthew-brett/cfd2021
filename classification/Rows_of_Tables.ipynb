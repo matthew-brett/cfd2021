{
 "cells": [
  {
   "cell_type": "markdown",
   "id": "f57dad21",
   "metadata": {},
   "source": [
    "# Rows of tables"
   ]
  },
  {
   "cell_type": "code",
   "execution_count": null,
   "id": "e683c29e",
   "metadata": {
    "tags": [
     "hide-cell"
    ]
   },
   "outputs": [],
   "source": [
    "# HIDDEN\n",
    "import numpy as np\n",
    "%matplotlib inline\n",
    "import matplotlib.pyplot as plt\n",
    "plt.style.use('fivethirtyeight')\n",
    "import pandas as pd"
   ]
  },
  {
   "cell_type": "code",
   "execution_count": null,
   "id": "0b6cf486",
   "metadata": {
    "tags": [
     "hide-cell"
    ]
   },
   "outputs": [],
   "source": [
    "# HIDDEN\n",
    "\n",
    "def standard_units(x):\n",
    "    return (x - np.mean(x))/np.std(x)"
   ]
  },
  {
   "cell_type": "markdown",
   "id": "5ff08ff4",
   "metadata": {},
   "source": [
    "Now that we have a qualitative understanding of nearest neighbor classification, it's time to implement our classifier.\n",
    "\n",
    "Until this chapter, we have worked mostly with single columns of tables. But now we have to see whether one *individual* is \"close\" to another. Data for individuals are contained in *rows* of tables.\n",
    "\n",
    "So let's start by taking a closer look at rows.\n",
    "\n",
    "Here is the original table `ckd` containing data on patients who were tested for chronic kidney disease.\n",
    "\n",
    "The data file is {download}`ckd.csv <../data/ckd.csv>`."
   ]
  },
  {
   "cell_type": "code",
   "execution_count": null,
   "id": "b187d697",
   "metadata": {},
   "outputs": [],
   "source": [
    "ckd_full = pd.read_csv('ckd.csv')\n",
    "ckd_full.head()"
   ]
  },
  {
   "cell_type": "markdown",
   "id": "e72f5562",
   "metadata": {},
   "source": [
    "The data corresponding to the first patient is in row 0 of the table, consistent with Python's indexing system.\n",
    "\n",
    "We want to fetch the data for this row.\n",
    "\n",
    "You have already seen how to select rows with boolean arrays, and the `loc` attribute of the data frame.\n",
    "\n",
    "Now we need to select a row by *index* \\- 0, 1, 2 etc.\n",
    "\n",
    "We do this with Pandas' *indexing* selection, attached to the `iloc` attribute of the data frame, for Indexed LOCate, like this:"
   ]
  },
  {
   "cell_type": "code",
   "execution_count": null,
   "id": "e217b2db",
   "metadata": {},
   "outputs": [],
   "source": [
    "first_row = ckd_full.iloc[0]\n",
    "first_row"
   ]
  },
  {
   "cell_type": "markdown",
   "id": "ff42626a",
   "metadata": {},
   "source": [
    "If the display for this row looks suspiciously like the display you see when fetching a single column from a data frame, this is not a co-incidence.  The row is also a Pandas `Series`:"
   ]
  },
  {
   "cell_type": "code",
   "execution_count": null,
   "id": "c3fa89fa",
   "metadata": {},
   "outputs": [],
   "source": [
    "type(first_row)"
   ]
  },
  {
   "cell_type": "markdown",
   "id": "e77abbf7",
   "metadata": {},
   "source": [
    "Notice that the data type (`dtype`) of the row is `object`, and\n",
    "not something simpler, like a floating point or integer. This\n",
    "is because the elements can be of different types, so the\n",
    "Series needs to use the very general `object` type to store all\n",
    "the values. For example, some of the elements of the row above\n",
    "are strings (like `'abnormal'`) and some are numerical. So the\n",
    "row can't be converted into floating point values or integers.\n",
    "\n",
    "For example, to access the Albumin level of Patient 0, we can look at the labels in the printout of the row above to find that it's the item at index position 3. We can fetch the value with indexing. Again, we use `iloc`, this time indexing into the `Series`."
   ]
  },
  {
   "cell_type": "code",
   "execution_count": null,
   "id": "4b1d4b32",
   "metadata": {},
   "outputs": [],
   "source": [
    "first_row.iloc[3]"
   ]
  },
  {
   "cell_type": "markdown",
   "id": "cc690d82",
   "metadata": {},
   "source": [
    "## Converting Rows to Numpy arrays\n",
    "\n",
    "Rows whose elements are all numerical can be converted to numerical Numpy arrays.  Converting a row to a numerical array gives us access to arithmetic operations and other nice NumPy functions, so it is often useful.\n",
    "\n",
    "Recall that in the previous section we tried to classify the patients as 'CKD' or 'not CKD', based on two attributes `Hemoglobin` and `Glucose`, both measured in standard units."
   ]
  },
  {
   "cell_type": "code",
   "execution_count": null,
   "id": "2b79bf8b",
   "metadata": {},
   "outputs": [],
   "source": [
    "ckd = pd.DataFrame()\n",
    "ckd['Hemoglobin'] = standard_units(ckd_full['Hemoglobin'])\n",
    "ckd['Glucose'] = standard_units(ckd_full['Blood Glucose Random'])\n",
    "ckd['Class'] = ckd_full['Class']\n",
    "ckd.head()"
   ]
  },
  {
   "cell_type": "markdown",
   "id": "46c1186f",
   "metadata": {},
   "source": [
    "We add the colors for each point, to reflect the Class (with kidney disease or without)."
   ]
  },
  {
   "cell_type": "code",
   "execution_count": null,
   "id": "879114ba",
   "metadata": {},
   "outputs": [],
   "source": [
    "ckd['Color'] = 'darkblue'\n",
    "ckd.loc[ckd['Class'] == 0, 'Color'] = 'gold'\n",
    "ckd.head()"
   ]
  },
  {
   "cell_type": "markdown",
   "id": "575a250c",
   "metadata": {},
   "source": [
    "Here is a scatter plot of the two attributes, along with a red point corresponding to Alice, a new patient. Her value of hemoglobin is 0 (that is, at the average) and glucose 1.1 (that is, 1.1 SDs above average)."
   ]
  },
  {
   "cell_type": "code",
   "execution_count": null,
   "id": "239c9b7c",
   "metadata": {},
   "outputs": [],
   "source": [
    "alice = np.array([0, 1.1])\n",
    "ckd.plot.scatter('Hemoglobin', 'Glucose',\n",
    "                 c=ckd['Color'])\n",
    "plt.scatter(alice[0], alice[1], color='red', s=30);"
   ]
  },
  {
   "cell_type": "markdown",
   "id": "bbbf40a0",
   "metadata": {},
   "source": [
    "To find the distance between Alice's point and any of the other points, we only need the values of the attributes:"
   ]
  },
  {
   "cell_type": "code",
   "execution_count": null,
   "id": "4d77812b",
   "metadata": {},
   "outputs": [],
   "source": [
    "# Select Hemoglobin and Glucose columns from the data frame\n",
    "ckd_attributes = ckd.loc[:, ['Hemoglobin', 'Glucose']]\n",
    "ckd_attributes.head()"
   ]
  },
  {
   "cell_type": "markdown",
   "id": "33a744cb",
   "metadata": {},
   "source": [
    "Each row consists of the coordinates of one point in our training sample. **Because the rows now consist only of numerical values**, it is possible to convert them to numerical arrays.  For this, we use the function `np.array`, which converts any kind of sequential object, like a row, to an array."
   ]
  },
  {
   "cell_type": "code",
   "execution_count": null,
   "id": "b0545a15",
   "metadata": {},
   "outputs": [],
   "source": [
    "ckd_attributes.iloc[3]"
   ]
  },
  {
   "cell_type": "code",
   "execution_count": null,
   "id": "0cf28ca1",
   "metadata": {},
   "outputs": [],
   "source": [
    "np.array(ckd_attributes.iloc[3])"
   ]
  },
  {
   "cell_type": "markdown",
   "id": "4b1e70f3",
   "metadata": {},
   "source": [
    "This is very handy because we can now use array operations on the data in each row."
   ]
  },
  {
   "cell_type": "markdown",
   "id": "b9ec35bb",
   "metadata": {},
   "source": [
    "## Distance Between Points When There are Two Attributes\n",
    "\n",
    "The main calculation we need to do is to find the distance between Alice's point and any other point. For this, the first thing we need is a way to compute the distance between any pair of points.\n",
    "\n",
    "How do we do this?  In 2-dimensional space, it's pretty easy.  If we have a point at coordinates $(x_0,y_0)$ and another at $(x_1,y_1)$, the distance between them is\n",
    "\n",
    "$$\n",
    "D = \\sqrt{(x_0-x_1)^2 + (y_0-y_1)^2}\n",
    "$$\n",
    "\n",
    "(Where did this come from?  It comes from the Pythogorean theorem: we have a right triangle with side lengths $x_0-x_1$ and $y_0-y_1$, and we want to find the length of the hypotenuse.)"
   ]
  },
  {
   "cell_type": "markdown",
   "id": "5b14be1f",
   "metadata": {},
   "source": [
    "In the next section we'll see that this formula has a straightforward extension when there are more than two attributes. For now, let's use the formula and array operations to find the distance between Alice and the patient in Row 3."
   ]
  },
  {
   "cell_type": "code",
   "execution_count": null,
   "id": "733ac517",
   "metadata": {},
   "outputs": [],
   "source": [
    "patient3 = np.array(ckd_attributes.iloc[3])\n",
    "alice, patient3"
   ]
  },
  {
   "cell_type": "code",
   "execution_count": null,
   "id": "7d311f4a",
   "metadata": {},
   "outputs": [],
   "source": [
    "distance = np.sqrt(np.sum((alice - patient3)**2))\n",
    "distance"
   ]
  },
  {
   "cell_type": "markdown",
   "id": "65f79702",
   "metadata": {},
   "source": [
    "We're going to need the distance between Alice and a bunch of points, so let's write a function called `distance` that computes the distance between any pair of points. The function will take two arrays, each containing the $(x, y)$ coordinates of a point.  (Remember, those are really the Hemoglobin and Glucose levels of a patient.)"
   ]
  },
  {
   "cell_type": "code",
   "execution_count": null,
   "id": "749b13a5",
   "metadata": {},
   "outputs": [],
   "source": [
    "def distance(point1, point2):\n",
    "    \"\"\"Returns the Euclidean distance between point1 and point2.\n",
    "\n",
    "    Each argument is an array containing the coordinates of a point.\"\"\"\n",
    "    return np.sqrt(np.sum((point1 - point2)**2))"
   ]
  },
  {
   "cell_type": "code",
   "execution_count": null,
   "id": "78d8cd81",
   "metadata": {},
   "outputs": [],
   "source": [
    "distance(alice, patient3)"
   ]
  },
  {
   "cell_type": "markdown",
   "id": "0fe74ed5",
   "metadata": {},
   "source": [
    "We have begun to build our classifier: the `distance` function is the first building block. Now let's work on the next piece."
   ]
  },
  {
   "cell_type": "markdown",
   "id": "6504be83",
   "metadata": {},
   "source": [
    "## Using `apply` on an Entire Row\n",
    "\n",
    "Sometimes we want to be able to *apply* some function to a whole row of a data frame.\n",
    "\n",
    "You won't be surprised to learn that Pandas has an `apply` method that can do this.\n",
    "\n",
    "Let's see how this works on a very small table `t` containing the information about the first five patients in the training sample.  Here we are using `iloc` again, to get values from the data frame by index.  In this case, we want the first five rows."
   ]
  },
  {
   "cell_type": "code",
   "execution_count": null,
   "id": "04f1172d",
   "metadata": {},
   "outputs": [],
   "source": [
    "t = ckd_attributes.iloc[0:5]\n",
    "t"
   ]
  },
  {
   "cell_type": "markdown",
   "id": "9359bbf3",
   "metadata": {},
   "source": [
    "Just as an example, suppose that for each patient we want to know how unusual their most unusual attribute is.  Concretely, if a patient's hemoglobin level is further from the average than her glucose level, we want to know how far it is from the average.  If her glucose level is further from the average than her hemoglobin level, we want to know how far that is from the average instead.\n",
    "\n",
    "That's the same as taking the maximum of the absolute values of the two quantities. To do this for a particular row, we can convert the row to an array and use array operations."
   ]
  },
  {
   "cell_type": "code",
   "execution_count": null,
   "id": "f08dfc60",
   "metadata": {},
   "outputs": [],
   "source": [
    "def max_abs(row):\n",
    "    return np.max(np.abs(np.array(row)))"
   ]
  },
  {
   "cell_type": "code",
   "execution_count": null,
   "id": "024778dd",
   "metadata": {},
   "outputs": [],
   "source": [
    "max_abs(t.iloc[4])"
   ]
  },
  {
   "cell_type": "markdown",
   "id": "3c1612fd",
   "metadata": {},
   "source": [
    "And now we can apply `max_abs` to each row of the table `t`. We pass the `axis` argument to tell Pandas to apply the function along the *rows* (and therefore along the second axis)."
   ]
  },
  {
   "cell_type": "code",
   "execution_count": null,
   "id": "a03e51dd",
   "metadata": {},
   "outputs": [],
   "source": [
    "t.apply(max_abs, axis=1)"
   ]
  },
  {
   "cell_type": "markdown",
   "id": "f5146722",
   "metadata": {},
   "source": [
    "This way of using `apply` will help us create the next building block of our classifier."
   ]
  },
  {
   "cell_type": "markdown",
   "id": "5d11401b",
   "metadata": {},
   "source": [
    "## Alice's $k$ Nearest Neighbors\n",
    "\n",
    "If we want to classify Alice using a k-nearest neighbor classifier, we have to identify her $k$ nearest neighbors. What are the steps in this process? Suppose $k = 5$. Then the steps are:\n",
    "\n",
    "- **Step 1.** Find the distance between Alice and each point in the training sample.\n",
    "- **Step 2.** Sort the data table in increasing order of the distances.\n",
    "- **Step 3.** Take the top 5 rows of the sorted table.\n",
    "\n",
    "Steps 2 and 3 seem straightforward, provided we have the distances. So let's focus on Step 1.\n",
    "\n",
    "Here's Alice:"
   ]
  },
  {
   "cell_type": "code",
   "execution_count": null,
   "id": "715045c1",
   "metadata": {},
   "outputs": [],
   "source": [
    "alice"
   ]
  },
  {
   "cell_type": "markdown",
   "id": "d143dd4c",
   "metadata": {},
   "source": [
    "What we need is a function that finds the distance between Alice and another point whose coordinates are contained in a row. The function `distance` returns the distance between any two points whose coordinates are in arrays. We can use that to define `distance_from_alice`, which takes a row as its argument and returns the distance between that row and Alice."
   ]
  },
  {
   "cell_type": "code",
   "execution_count": null,
   "id": "b5dba9ab",
   "metadata": {},
   "outputs": [],
   "source": [
    "def distance_from_alice(row):\n",
    "    \"\"\"Returns distance between Alice and a row of the attributes table\"\"\"\n",
    "    return distance(alice, np.array(row))"
   ]
  },
  {
   "cell_type": "code",
   "execution_count": null,
   "id": "224c1e87",
   "metadata": {},
   "outputs": [],
   "source": [
    "distance_from_alice(ckd_attributes.iloc[3])"
   ]
  },
  {
   "cell_type": "markdown",
   "id": "eb0b5187",
   "metadata": {},
   "source": [
    "Now we can `apply` the function `distance_from_alice` to each row of `ckd_attributes`, and augment the table `ckd` with the distances. Step 1 is complete!"
   ]
  },
  {
   "cell_type": "code",
   "execution_count": null,
   "id": "c4a305f7",
   "metadata": {},
   "outputs": [],
   "source": [
    "distances = ckd_attributes.apply(distance_from_alice, axis=1)\n",
    "ckd_with_distances = ckd.copy()\n",
    "ckd_with_distances['Distance from Alice'] = distances\n",
    "ckd_with_distances.head()"
   ]
  },
  {
   "cell_type": "markdown",
   "id": "27d1102e",
   "metadata": {},
   "source": [
    "For Step 2, let's sort the table in increasing order of distance:"
   ]
  },
  {
   "cell_type": "code",
   "execution_count": null,
   "id": "d56f2c35",
   "metadata": {},
   "outputs": [],
   "source": [
    "sorted_by_distance = ckd_with_distances.sort_values('Distance from Alice')\n",
    "sorted_by_distance.head()"
   ]
  },
  {
   "cell_type": "markdown",
   "id": "96edd9ee",
   "metadata": {},
   "source": [
    "Step 3: The top 5 rows correspond to Alice's 5 nearest neighbors; you can replace 5 by any other positive integer."
   ]
  },
  {
   "cell_type": "code",
   "execution_count": null,
   "id": "e1e4314e",
   "metadata": {},
   "outputs": [],
   "source": [
    "alice_5_nearest_neighbors = sorted_by_distance.iloc[:5]\n",
    "alice_5_nearest_neighbors"
   ]
  },
  {
   "cell_type": "markdown",
   "id": "cd5da494",
   "metadata": {},
   "source": [
    "Three of Alice's five nearest neighbors are blue points and two are gold. So a 5-nearest neighbor classifier would classify Alice as blue: it would predict that Alice has chronic kidney disease.\n",
    "\n",
    "The graph below zooms in on Alice and her five nearest neighbors. The two gold ones just inside the circle directly below the red point. The classifier says Alice is more like the three blue ones around her."
   ]
  },
  {
   "cell_type": "code",
   "execution_count": null,
   "id": "4e5b2654",
   "metadata": {
    "tags": [
     "remove-input"
    ]
   },
   "outputs": [],
   "source": [
    "# NO CODE\n",
    "plt.figure(figsize=(8,8))\n",
    "plt.scatter(ckd['Hemoglobin'], ckd['Glucose'],\n",
    "            c=ckd['Color'], s=40)\n",
    "plt.scatter(alice[0], alice[1], color='red', s=40)\n",
    "radius = sorted_by_distance['Distance from Alice'].iloc[4]+0.014\n",
    "theta = np.arange(0, 2*np.pi+1, 2*np.pi/200)\n",
    "plt.plot(radius * np.cos(theta) + alice[0],\n",
    "         radius * np.sin(theta) + alice[1],\n",
    "         color='g', lw=1.5);\n",
    "plt.xlim(-2, 2.5)\n",
    "plt.ylim(-2, 2.5);"
   ]
  },
  {
   "cell_type": "markdown",
   "id": "78aee3b9",
   "metadata": {},
   "source": [
    "We are well on our way to implementing our k-nearest neighbor classifier. In the next two sections we will put it together and assess its accuracy.\n",
    "\n",
    "{ucb-page}`Rows_of_Tables`"
   ]
  }
 ],
 "metadata": {
  "anaconda-cloud": {},
  "jupytext": {
   "notebook_metadata_filter": "all,-language_info"
  },
  "kernelspec": {
   "display_name": "Python 3",
   "language": "python",
   "name": "python3"
  }
 },
 "nbformat": 4,
 "nbformat_minor": 5
}
