{
 "cells": [
  {
   "cell_type": "markdown",
   "id": "7f1c03c4",
   "metadata": {},
   "source": [
    "# Data frame, sums\n",
    "\n",
    "This page is a short explanation of how to use sums across columns and rows in data frames.\n",
    "\n",
    "It follows on from the [noble politics](noble_politics) page.\n"
   ]
  },
  {
   "cell_type": "code",
   "execution_count": null,
   "id": "1c019e82",
   "metadata": {},
   "outputs": [],
   "source": [
    "# Our usual imports\n",
    "import numpy as np\n",
    "import pandas as pd\n",
    "# Safe settings for Pandas.\n",
    "pd.set_option('mode.chained_assignment', 'raise')\n",
    "\n",
    "import matplotlib.pyplot as plt\n",
    "%matplotlib inline\n",
    "plt.style.use('fivethirtyeight')"
   ]
  },
  {
   "cell_type": "markdown",
   "id": "2c318bd4",
   "metadata": {},
   "source": [
    "As in the *noble politics* page, we load the table of counts from table 6.8 of:\n",
    "\n",
    "> Samuel P. Oliner and Pearl M. Oliner (1992) \"The Altruistic Personality:\n",
    "> Rescuers of Jews in Nazi Europe\". Free Press, New York. ISBN 0-02923829-3.\n",
    "\n",
    "As usual, if you are running on your own computers, download the file\n",
    "{download}`oliner_tab6_8a_1.csv <../data/oliner_tab6_8a_1.csv>` to the same directory as this notebook."
   ]
  },
  {
   "cell_type": "code",
   "execution_count": null,
   "id": "1db3649a",
   "metadata": {},
   "outputs": [],
   "source": [
    "# Load the table\n",
    "party_tab = pd.read_csv('oliner_tab6_8a_1.csv')\n",
    "party_tab"
   ]
  },
  {
   "cell_type": "markdown",
   "id": "8d206086",
   "metadata": {},
   "source": [
    "Next we follow the procedure in the noble politics page set the index and drop\n",
    "the last (redundant) row, and a column we are not interested in."
   ]
  },
  {
   "cell_type": "code",
   "execution_count": null,
   "id": "fbd4056f",
   "metadata": {},
   "outputs": [],
   "source": [
    "# Replace the numerical index with the party_yn labels.\n",
    "party_tab = party_tab.set_index('party_yn')\n",
    "# Select rows and columns of interest.\n",
    "bystander_tab = party_tab.loc[['Yes', 'No'], ['rescuer', 'bystander']]\n",
    "bystander_tab"
   ]
  },
  {
   "cell_type": "markdown",
   "id": "1e72c9f5",
   "metadata": {},
   "source": [
    "Adding up the entries in the columns of the data frame, we see that there were\n",
    "209 *rescuers* and 71 *bystanders*.\n",
    "\n",
    "We can calculate these numbers by using the `.sum` method to get sum of the\n",
    "values along the columns, and therefore, across rows."
   ]
  },
  {
   "cell_type": "code",
   "execution_count": null,
   "id": "8126a772",
   "metadata": {},
   "outputs": [],
   "source": [
    "bystander_tab.sum()"
   ]
  },
  {
   "cell_type": "markdown",
   "id": "12f6c0f8",
   "metadata": {},
   "source": [
    "We would like to get the sums along the rows. We have already seen that `sum`,\n",
    "by default, gives the sum for each column.\n",
    "\n",
    "Luckily Pandas has a method called `transpose` that flips the rows and columns of a data frame, like this:"
   ]
  },
  {
   "cell_type": "code",
   "execution_count": null,
   "id": "14bfb2d6",
   "metadata": {},
   "outputs": [],
   "source": [
    "flipped_tab = bystander_tab.transpose()\n",
    "flipped_tab"
   ]
  },
  {
   "cell_type": "markdown",
   "id": "24e9a178",
   "metadata": {},
   "source": [
    "Now the rows have become columns, and we can get the sum of Yes and No with:"
   ]
  },
  {
   "cell_type": "code",
   "execution_count": null,
   "id": "f1ae168b",
   "metadata": {},
   "outputs": [],
   "source": [
    "flipped_tab.sum()"
   ]
  },
  {
   "cell_type": "markdown",
   "id": "7f93157d",
   "metadata": {},
   "source": [
    "Or, all in one go:"
   ]
  },
  {
   "cell_type": "code",
   "execution_count": null,
   "id": "c3105cee",
   "metadata": {},
   "outputs": [],
   "source": [
    "bystander_tab.transpose().sum()"
   ]
  }
 ],
 "metadata": {
  "jupytext": {
   "split_at_heading": true
  },
  "kernelspec": {
   "display_name": "Python 3",
   "language": "python",
   "name": "python3"
  }
 },
 "nbformat": 4,
 "nbformat_minor": 5
}
