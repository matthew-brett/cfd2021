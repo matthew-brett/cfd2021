{
 "cells": [
  {
   "cell_type": "markdown",
   "id": "426cdc38",
   "metadata": {},
   "source": [
    "# How interesting!\n",
    "\n",
    "For this assignment, you will probably eventually need the *power* operator.\n",
    "\n",
    "As in introduction, the *multiplication* operator is the `*` sign, as in:"
   ]
  },
  {
   "cell_type": "code",
   "execution_count": null,
   "id": "9a5a8355",
   "metadata": {},
   "outputs": [],
   "source": [
    "10.50 * 3"
   ]
  },
  {
   "cell_type": "markdown",
   "id": "ceb7c7b2",
   "metadata": {},
   "source": [
    "It tells Python to multiply the values on the left by the value on the right.\n",
    "\n",
    "The *power* operator is `**`.  It works like this:"
   ]
  },
  {
   "cell_type": "code",
   "execution_count": null,
   "id": "d2c559ef",
   "metadata": {},
   "outputs": [],
   "source": [
    "2 ** 4"
   ]
  },
  {
   "cell_type": "markdown",
   "id": "02227d51",
   "metadata": {},
   "source": [
    "The line above tells Python to calculate the number to the left (here 2) *to\n",
    "the power of* the number to the right, here 4.  In other words, the calculation\n",
    "`2 ** 4` in Python is the same as:"
   ]
  },
  {
   "cell_type": "code",
   "execution_count": null,
   "id": "608926f9",
   "metadata": {},
   "outputs": [],
   "source": [
    "2 * 2 * 2 * 2"
   ]
  },
  {
   "cell_type": "markdown",
   "id": "77ab55eb",
   "metadata": {},
   "source": [
    "Likewise:"
   ]
  },
  {
   "cell_type": "code",
   "execution_count": null,
   "id": "14fa1613",
   "metadata": {},
   "outputs": [],
   "source": [
    "3.5 ** 5"
   ]
  },
  {
   "cell_type": "markdown",
   "id": "9a57ab11",
   "metadata": {},
   "source": [
    "results in the same calculation as:"
   ]
  },
  {
   "cell_type": "code",
   "execution_count": null,
   "id": "ec787a09",
   "metadata": {},
   "outputs": [],
   "source": [
    "3.5 * 3.5 * 3.5 * 3.5 * 3.5"
   ]
  },
  {
   "cell_type": "markdown",
   "id": "f1aefcda",
   "metadata": {},
   "source": [
    "Don't forget to execute the cells in the notebook, that we have written for you."
   ]
  },
  {
   "cell_type": "markdown",
   "id": "2379a82b",
   "metadata": {},
   "source": [
    "## Comments"
   ]
  },
  {
   "cell_type": "markdown",
   "id": "4970a80b",
   "metadata": {},
   "source": [
    "In what follows, you will see me using *comments*.  Comments start with a hash character - `#`.  Python ignores everything after the hash character.  This is useful to write text for you or others to read, inside your code."
   ]
  },
  {
   "cell_type": "markdown",
   "id": "e1476944",
   "metadata": {},
   "source": [
    "For example, try executing the following cell."
   ]
  },
  {
   "cell_type": "code",
   "execution_count": null,
   "id": "04e17f37",
   "metadata": {},
   "outputs": [],
   "source": [
    "# This is just a comment.  Python ignores it.  It's just for show."
   ]
  },
  {
   "cell_type": "markdown",
   "id": "a03862ce",
   "metadata": {},
   "source": [
    "Nothing happens - Python ignored everything after the hash character."
   ]
  },
  {
   "cell_type": "markdown",
   "id": "3fdefb15",
   "metadata": {},
   "source": [
    "## The problem"
   ]
  },
  {
   "cell_type": "markdown",
   "id": "38d7390f",
   "metadata": {},
   "source": [
    "The problem is my bank.\n",
    "\n",
    "At the beginning of this year, I have a credit card debt of £500.  Call this\n",
    "year the *first year*, or *year 1*.\n",
    "\n",
    "At the moment, the bank will charge me 10% interest per year.\n",
    "\n",
    "At the end of the first year, the bank will add 10% to my current debt of\n",
    "£500, so my new debt, at the start of the second year, will be £550.\n",
    "\n",
    "At the end of the second year, the bank will add 10% of my debt of £550.  10%\n",
    "of £550 is £55, so my debt at the start of the third year is £605.\n",
    "\n",
    "| Year | Starting debt | 10% interest |\n",
    "|------|---------------|--------------|\n",
    "| 1    | 500           | 50           |\n",
    "| 2    | 550           | 55           |\n",
    "| 3    | 605           | 60.5         |\n",
    "\n",
    "Let's give my original debt amount, a *name*:"
   ]
  },
  {
   "cell_type": "code",
   "execution_count": null,
   "id": "f1c68a7f",
   "metadata": {},
   "outputs": [],
   "source": [
    "# This is the amount I owe at the beginning of the first year.\n",
    "my_debt = 500"
   ]
  },
  {
   "cell_type": "markdown",
   "id": "e75a2982",
   "metadata": {},
   "source": [
    "The bank charges 10% interest per year.  Put another way, they calculate the\n",
    "interest by multiplying my current debt by 0.1.  Let's give that a name too."
   ]
  },
  {
   "cell_type": "code",
   "execution_count": null,
   "id": "743b82fa",
   "metadata": {},
   "outputs": [],
   "source": [
    "interest_rate = 0.1"
   ]
  },
  {
   "cell_type": "markdown",
   "id": "331273fa",
   "metadata": {},
   "source": [
    "The amount of interest at the end of the first year is therefore:"
   ]
  },
  {
   "cell_type": "code",
   "execution_count": null,
   "id": "3e030498",
   "metadata": {},
   "outputs": [],
   "source": [
    "interest = my_debt * interest_rate\n",
    "interest"
   ]
  },
  {
   "cell_type": "markdown",
   "id": "a5268ddc",
   "metadata": {},
   "source": [
    "Then my total new debt at the start of the second year will be:"
   ]
  },
  {
   "cell_type": "code",
   "execution_count": null,
   "id": "510003b5",
   "metadata": {},
   "outputs": [],
   "source": [
    "my_debt + interest"
   ]
  },
  {
   "cell_type": "markdown",
   "id": "18d2acba",
   "metadata": {},
   "source": [
    "There is a short cut to calculate my total debt at the start of the second\n",
    "year.\n",
    "\n",
    "Remember the total debt is the original debt plus interest, which is `my_debt +\n",
    "my_debt * interest_rate`.  I could also write this as `my_debt * 1 + my_debt *\n",
    "interest_rate`, and this is also equal to `my_debt * (1 + interest_rate)`.\n",
    "\n",
    "Now make a new variable `debt_increaser` that is equal to `1 + interest_rate`."
   ]
  },
  {
   "cell_type": "code",
   "execution_count": null,
   "id": "e9be8d8a",
   "metadata": {},
   "outputs": [],
   "source": [
    "debt_increaser = 1 + interest_rate\n",
    "debt_increaser"
   ]
  },
  {
   "cell_type": "markdown",
   "id": "f3450c32",
   "metadata": {},
   "source": [
    "This variable allows me to calculate `my_debt + my_debt * interest_rate` in a\n",
    "more compact way, like this:"
   ]
  },
  {
   "cell_type": "code",
   "execution_count": null,
   "id": "ae7a323b",
   "metadata": {},
   "outputs": [],
   "source": [
    "my_debt * debt_increaser"
   ]
  },
  {
   "cell_type": "markdown",
   "id": "9c70b97d",
   "metadata": {},
   "source": [
    "Because of the definition of `debt_increaser` above, this is mathematically\n",
    "equal to `my_debt * (1 + interest_rate)`, which in turn is mathematically equal\n",
    "to `my_debt * 1 + my_debt * interest_rate` which is `my_debt + my_debt *\n",
    "interest_rate` - the calculation we want.\n",
    "\n",
    "## Now your turn"
   ]
  },
  {
   "cell_type": "markdown",
   "id": "24e51743",
   "metadata": {},
   "source": [
    "Add your code to the cell below, and execute it, to show my total debt at the beginning of the third year.  Your code will probably start with:\n",
    "\n",
    "```\n",
    "my_debt * debt_increaser\n",
    "```\n",
    "\n",
    "You should get the same answer as the table above."
   ]
  },
  {
   "cell_type": "code",
   "execution_count": null,
   "id": "72364a3a",
   "metadata": {},
   "outputs": [],
   "source": [
    "# Show my debt after two years.\n",
    "# Your code below this comment"
   ]
  },
  {
   "cell_type": "markdown",
   "id": "6a860746",
   "metadata": {},
   "source": [
    "Fill in the next cell, in the same way, to show my debt at the beginning of the fourth year."
   ]
  },
  {
   "cell_type": "code",
   "execution_count": null,
   "id": "6aec92ec",
   "metadata": {},
   "outputs": [],
   "source": [
    "# Show my debt at the beginning of the fourth year."
   ]
  },
  {
   "cell_type": "markdown",
   "id": "ee04a095",
   "metadata": {},
   "source": [
    "You might want to use a pencil and paper to do the calculation that continues\n",
    "from the table above, to check your answer is correct.\n",
    "\n",
    "Now show my debt after 10 years - at the beginning of the eleventh year.   You\n",
    "might want to use the *power* operator `**` to do this.  If you need a\n",
    "refresher on powers, you may remember that, if I have some number `x` then `x\n",
    "** 4` (read as \"x to the power of four\") is another way of writing `x * x * x\n",
    "* x`."
   ]
  },
  {
   "cell_type": "code",
   "execution_count": null,
   "id": "590d9c09",
   "metadata": {},
   "outputs": [],
   "source": [
    "# Show my debt at the beginning of the eleventh year."
   ]
  },
  {
   "cell_type": "markdown",
   "id": "986a5c81",
   "metadata": {},
   "source": [
    "## An offer from the bank"
   ]
  },
  {
   "cell_type": "markdown",
   "id": "857f2c2f",
   "metadata": {},
   "source": [
    "The bank has just sent me a friendly letter explaining that they are going to start charging me interest every week instead of every year.   They value me as a customer, so, instead of dividing the annual interest rate by 52, they are going to divide it by 53 instead.   But - is that a good offer?"
   ]
  },
  {
   "cell_type": "markdown",
   "id": "9e6d1f3f",
   "metadata": {},
   "source": [
    "Here is their proposed weekly interest rate:"
   ]
  },
  {
   "cell_type": "code",
   "execution_count": null,
   "id": "f54ae1cb",
   "metadata": {},
   "outputs": [],
   "source": [
    "weekly_interest_rate = interest_rate / 53\n",
    "weekly_interest_rate"
   ]
  },
  {
   "cell_type": "markdown",
   "id": "bb409e58",
   "metadata": {},
   "source": [
    "That corresponds to:"
   ]
  },
  {
   "cell_type": "code",
   "execution_count": null,
   "id": "71435a7c",
   "metadata": {},
   "outputs": [],
   "source": [
    "weekly_debt_increaser = 1 + weekly_interest_rate\n",
    "weekly_debt_increaser"
   ]
  },
  {
   "cell_type": "markdown",
   "id": "4150b30a",
   "metadata": {},
   "source": [
    "So, starting from my original debt, I will owe this much after one week:"
   ]
  },
  {
   "cell_type": "code",
   "execution_count": null,
   "id": "4b9dcabe",
   "metadata": {},
   "outputs": [],
   "source": [
    "# What I owe, after one week, on the new deal\n",
    "my_debt * weekly_debt_increaser"
   ]
  },
  {
   "cell_type": "markdown",
   "id": "9c8d91f8",
   "metadata": {},
   "source": [
    "Fill in the cell below, to show how much I will owe after 52 weeks.  You will probably want `**` here again."
   ]
  },
  {
   "cell_type": "code",
   "execution_count": null,
   "id": "f1d8ce8b",
   "metadata": {},
   "outputs": [],
   "source": [
    "# Show my debt after 52 weeks, on the new deal"
   ]
  },
  {
   "cell_type": "markdown",
   "id": "34154b73",
   "metadata": {},
   "source": [
    "## For extra cool points"
   ]
  },
  {
   "cell_type": "markdown",
   "id": "b4063e73",
   "metadata": {},
   "source": [
    "Can you calculate roughly what the weekly interest rate has to be, in order to correspond to the 10% annual interest that I started with?   There are several ways to do this, but you can try trial and error, if you like.\n",
    "\n",
    "**Note** - this is relatively hard, so don't worry if it is not obvious how to do this."
   ]
  },
  {
   "cell_type": "code",
   "execution_count": null,
   "id": "a76e6f41",
   "metadata": {},
   "outputs": [],
   "source": [
    "# Your code to estimate the right weekly interest rate."
   ]
  }
 ],
 "metadata": {
  "jupytext": {
   "notebook_metadata_filter": "language_info"
  },
  "kernelspec": {
   "display_name": "Python 3",
   "language": "python",
   "name": "python3"
  },
  "language_info": {
   "codemirror_mode": {
    "name": "ipython",
    "version": 3
   },
   "file_extension": ".py",
   "mimetype": "text/x-python",
   "name": "python",
   "nbconvert_exporter": "python",
   "pygments_lexer": "ipython3",
   "version": "3.7.0"
  }
 },
 "nbformat": 4,
 "nbformat_minor": 5
}
