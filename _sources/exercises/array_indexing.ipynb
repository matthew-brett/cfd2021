{
 "cells": [
  {
   "cell_type": "markdown",
   "id": "45471e41",
   "metadata": {},
   "source": [
    "# Array indexing exercises\n",
    "\n",
    "These exercises follow on from the [array indexing page](../arrays/array_indexing).\n",
    "\n",
    "Run this cell to start:"
   ]
  },
  {
   "cell_type": "code",
   "execution_count": null,
   "id": "5f3df2bf",
   "metadata": {},
   "outputs": [],
   "source": [
    "import numpy as np"
   ]
  },
  {
   "cell_type": "markdown",
   "id": "9a2ad130",
   "metadata": {},
   "source": [
    "So far we have seen arrays that contain numbers. Here is an\n",
    "array that contains strings:"
   ]
  },
  {
   "cell_type": "code",
   "execution_count": null,
   "id": "d2d958b7",
   "metadata": {},
   "outputs": [],
   "source": [
    "some_words = np.array(['to', 'be', 'or', 'not', 'to', 'be'])\n",
    "some_words"
   ]
  },
  {
   "cell_type": "markdown",
   "id": "bdd593f4",
   "metadata": {},
   "source": [
    "## Indexing with integers\n",
    "\n",
    "Use indexing with integers to display the first word in\n",
    "`some_words`."
   ]
  },
  {
   "cell_type": "code",
   "execution_count": null,
   "id": "e446e85a",
   "metadata": {},
   "outputs": [],
   "source": [
    "# Your code here"
   ]
  },
  {
   "cell_type": "markdown",
   "id": "38511041",
   "metadata": {},
   "source": [
    "Use indexing with integers to display the word \"not\"."
   ]
  },
  {
   "cell_type": "code",
   "execution_count": null,
   "id": "0b9272fa",
   "metadata": {},
   "outputs": [],
   "source": [
    "# Your code here"
   ]
  },
  {
   "cell_type": "markdown",
   "id": "bea73be4",
   "metadata": {},
   "source": [
    "Here is a Boolean array that has `True` where the word in the matching position of `some_words` is \"be\":"
   ]
  },
  {
   "cell_type": "code",
   "execution_count": null,
   "id": "84f1f905",
   "metadata": {},
   "outputs": [],
   "source": [
    "bees = some_words == 'be'\n",
    "bees"
   ]
  },
  {
   "cell_type": "markdown",
   "id": "7b615eaa",
   "metadata": {},
   "source": [
    "Use Boolean indexing to show an array with the two instances of \"be\" from `some_words`.\n"
   ]
  },
  {
   "cell_type": "code",
   "execution_count": null,
   "id": "a9443d97",
   "metadata": {},
   "outputs": [],
   "source": [
    "# Your code here"
   ]
  },
  {
   "cell_type": "markdown",
   "id": "45958a83",
   "metadata": {},
   "source": [
    "Use Boolean indexing to show an array with the two instances of \"to\" from `some_words`."
   ]
  },
  {
   "cell_type": "code",
   "execution_count": null,
   "id": "a77669de",
   "metadata": {},
   "outputs": [],
   "source": [
    "# Your code here"
   ]
  },
  {
   "cell_type": "markdown",
   "id": "a8584b5e",
   "metadata": {},
   "source": [
    "Use Boolean indexing to show an array with the single instance\n",
    "of \"not\" from `some_words`."
   ]
  },
  {
   "cell_type": "code",
   "execution_count": null,
   "id": "34eb10ab",
   "metadata": {},
   "outputs": [],
   "source": [
    "# Your code here"
   ]
  }
 ],
 "metadata": {
  "jupytext": {
   "notebook_metadata_filter": "language_info"
  },
  "kernelspec": {
   "display_name": "Python 3",
   "language": "python",
   "name": "python3"
  },
  "language_info": {
   "codemirror_mode": {
    "name": "ipython",
    "version": 3
   },
   "file_extension": ".py",
   "mimetype": "text/x-python",
   "name": "python",
   "nbconvert_exporter": "python",
   "pygments_lexer": "ipython3",
   "version": "3.7.1"
  }
 },
 "nbformat": 4,
 "nbformat_minor": 5
}
