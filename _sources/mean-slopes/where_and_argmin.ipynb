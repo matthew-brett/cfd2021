{
 "cells": [
  {
   "cell_type": "markdown",
   "id": "5bc4383e",
   "metadata": {},
   "source": [
    "# Where and argmin\n",
    "\n",
    "We sometimes want to know where a value is in an array."
   ]
  },
  {
   "cell_type": "code",
   "execution_count": null,
   "id": "e5f0537f",
   "metadata": {},
   "outputs": [],
   "source": [
    "import numpy as np"
   ]
  },
  {
   "cell_type": "markdown",
   "id": "15007bde",
   "metadata": {},
   "source": [
    "By \"where\" we mean, which element contains a particular value.\n",
    "\n",
    "Here is an array."
   ]
  },
  {
   "cell_type": "code",
   "execution_count": null,
   "id": "a098c16a",
   "metadata": {},
   "outputs": [],
   "source": [
    "arr = np.array([2, 99, -1, 4, 99])\n",
    "arr"
   ]
  },
  {
   "cell_type": "markdown",
   "id": "bbb078d4",
   "metadata": {},
   "source": [
    "As you know, we can get element using their *index* in the array.  In\n",
    "Python, array indices start at zero.\n",
    "\n",
    "Here's the value at index (position) 0:"
   ]
  },
  {
   "cell_type": "code",
   "execution_count": null,
   "id": "8ef5e314",
   "metadata": {},
   "outputs": [],
   "source": [
    "arr[0]"
   ]
  },
  {
   "cell_type": "markdown",
   "id": "3f2a9900",
   "metadata": {},
   "source": [
    "We might also be interested to find which positions hold particular values.\n",
    "\n",
    "In our array above, by reading, and counting positions, we can see\n",
    "that the values of 99 are in positions 1 and 4.  We can ask for these\n",
    "elements by passing a list or an array between the square brackets, to\n",
    "index the array:"
   ]
  },
  {
   "cell_type": "code",
   "execution_count": null,
   "id": "fed04430",
   "metadata": {},
   "outputs": [],
   "source": [
    "positions_with_99 = np.array([1, 4])\n",
    "arr[positions_with_99]"
   ]
  },
  {
   "cell_type": "markdown",
   "id": "7c1b5628",
   "metadata": {},
   "source": [
    "Of course, we are already used to finding and then selecting elements according to various conditions, using *Boolean vectors*.\n",
    "\n",
    "Here we identify the elements that contain 99.  There is a `True` at the position where the array contains 99, and `False` otherwise."
   ]
  },
  {
   "cell_type": "code",
   "execution_count": null,
   "id": "f8166390",
   "metadata": {},
   "outputs": [],
   "source": [
    "contains_99 = arr == 99\n",
    "contains_99"
   ]
  },
  {
   "cell_type": "markdown",
   "id": "73e4aefb",
   "metadata": {},
   "source": [
    "We can then get the 99 values with:"
   ]
  },
  {
   "cell_type": "code",
   "execution_count": null,
   "id": "22e684d5",
   "metadata": {},
   "outputs": [],
   "source": [
    "arr[contains_99]"
   ]
  },
  {
   "cell_type": "markdown",
   "id": "b52e7273",
   "metadata": {},
   "source": [
    "## Enter \"where\"\n",
    "\n",
    "Sometimes we really do need to know the index of the values that meet a certain condition.\n",
    "\n",
    "In that case, you can use the Numpy [where\n",
    "function](https://docs.scipy.org/doc/numpy/reference/generated/numpy.where.html).\n",
    "`where` finds the index positions of the `True` values in Boolean\n",
    "vectors."
   ]
  },
  {
   "cell_type": "code",
   "execution_count": null,
   "id": "cf29307f",
   "metadata": {},
   "outputs": [],
   "source": [
    "indices = np.where(arr == 99)\n",
    "indices"
   ]
  },
  {
   "cell_type": "markdown",
   "id": "04a7a15e",
   "metadata": {},
   "source": [
    "We can use the returned `indices` to index into the array, using square brackets."
   ]
  },
  {
   "cell_type": "code",
   "execution_count": null,
   "id": "2685fc95",
   "metadata": {},
   "outputs": [],
   "source": [
    "arr[indices]"
   ]
  },
  {
   "cell_type": "markdown",
   "id": "44079131",
   "metadata": {},
   "source": [
    "## Where summary\n",
    "\n",
    "Numpy `where` returns the indices of `True` values in a Boolean array.\n",
    "\n",
    "You can use these indices to index into an array, and get the matching\n",
    "elements.\n",
    "\n",
    "## Argmin, argmax\n",
    "\n",
    "Numpy has various *arg-* functions that are a shortcut for using `where`, for\n",
    "particular cases.\n",
    "\n",
    "A typical case is where you want to know the *index* (position) of the minimum\n",
    "value in an array.\n",
    "\n",
    "Here is our array:"
   ]
  },
  {
   "cell_type": "code",
   "execution_count": null,
   "id": "4acb5fda",
   "metadata": {},
   "outputs": [],
   "source": [
    "arr"
   ]
  },
  {
   "cell_type": "markdown",
   "id": "d1a0b957",
   "metadata": {},
   "source": [
    "We can get the minimum value with Numpy `min`:"
   ]
  },
  {
   "cell_type": "code",
   "execution_count": null,
   "id": "e7977ade",
   "metadata": {},
   "outputs": [],
   "source": [
    "np.min(arr)"
   ]
  },
  {
   "cell_type": "markdown",
   "id": "4da0138c",
   "metadata": {},
   "source": [
    "Sometimes we want to know the *index position* of the minimum value.  Numpy `argmin` returns the index of the minimum value:"
   ]
  },
  {
   "cell_type": "code",
   "execution_count": null,
   "id": "10322a13",
   "metadata": {},
   "outputs": [],
   "source": [
    "min_pos = np.argmin(arr)\n",
    "min_pos"
   ]
  },
  {
   "cell_type": "markdown",
   "id": "37a36dd4",
   "metadata": {},
   "source": [
    "Therefore, we can get the minimum value again with:"
   ]
  },
  {
   "cell_type": "code",
   "execution_count": null,
   "id": "bad3baf9",
   "metadata": {},
   "outputs": [],
   "source": [
    "arr[min_pos]"
   ]
  },
  {
   "cell_type": "markdown",
   "id": "0dc44ec6",
   "metadata": {},
   "source": [
    "There is a matching `argmax` function that returns the position of the maximum value:"
   ]
  },
  {
   "cell_type": "code",
   "execution_count": null,
   "id": "ca3dd6ed",
   "metadata": {},
   "outputs": [],
   "source": [
    "np.max(arr)"
   ]
  },
  {
   "cell_type": "code",
   "execution_count": null,
   "id": "c823c852",
   "metadata": {},
   "outputs": [],
   "source": [
    "max_pos = np.argmax(arr)\n",
    "max_pos"
   ]
  },
  {
   "cell_type": "code",
   "execution_count": null,
   "id": "ec4b07b8",
   "metadata": {},
   "outputs": [],
   "source": [
    "arr[max_pos]"
   ]
  },
  {
   "cell_type": "markdown",
   "id": "b9138fa7",
   "metadata": {},
   "source": [
    "Notice that there are *two* values of 99 in this array, and therefore, two\n",
    "maximum values.  `np.argmax` returns the index of the *first* maximum values.\n",
    "`np.argmin` does the same, if there is more than one minimum value."
   ]
  }
 ],
 "metadata": {
  "jupytext": {
   "notebook_metadata_filter": "all,-language_info"
  },
  "kernelspec": {
   "display_name": "Python 3",
   "language": "python",
   "name": "python3"
  }
 },
 "nbformat": 4,
 "nbformat_minor": 5
}
