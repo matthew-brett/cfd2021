{
 "cells": [
  {
   "cell_type": "markdown",
   "id": "7f1a4129",
   "metadata": {},
   "source": [
    "# Where in 2D\n",
    "\n",
    "This follows from [where and argmin](where_and_argmin).\n",
    "\n",
    "That page covers how `np.where` and `np.argmin` work for one-dimensional\n",
    "arrays.\n",
    "\n",
    "This page covers what happens for `np.where` with arrays of two dimensions and\n",
    "more."
   ]
  },
  {
   "cell_type": "markdown",
   "id": "c8e8334e",
   "metadata": {},
   "source": [
    "## Arrays can have two dimensions"
   ]
  },
  {
   "cell_type": "code",
   "execution_count": null,
   "id": "ef8e714d",
   "metadata": {},
   "outputs": [],
   "source": [
    "import numpy as np"
   ]
  },
  {
   "cell_type": "markdown",
   "id": "0b5b5342",
   "metadata": {},
   "source": [
    "So far we have only seen one-dimensional arrays.\n",
    "\n",
    "A *vector* is another term for a one-dimensional array.\n",
    "\n",
    "Here's a one-dimensional array (vector):"
   ]
  },
  {
   "cell_type": "code",
   "execution_count": null,
   "id": "14cca76f",
   "metadata": {},
   "outputs": [],
   "source": [
    "arr_one_d = np.array([2, 99, -1, 4, 99])\n",
    "arr_one_d"
   ]
  },
  {
   "cell_type": "markdown",
   "id": "7f233e5b",
   "metadata": {},
   "source": [
    "Notice the `shape` of the array:"
   ]
  },
  {
   "cell_type": "code",
   "execution_count": null,
   "id": "064a5da1",
   "metadata": {},
   "outputs": [],
   "source": [
    "arr_one_d.shape"
   ]
  },
  {
   "cell_type": "markdown",
   "id": "7b74c714",
   "metadata": {},
   "source": [
    "You can also think of this one-dimensional array as a single *row*.\n",
    "\n",
    "In fact you can have arrays with more than one row, like this:"
   ]
  },
  {
   "cell_type": "code",
   "execution_count": null,
   "id": "515390ef",
   "metadata": {},
   "outputs": [],
   "source": [
    "arr_two_d = np.array([[1, 2, 3, -2, -3], [10, 11, 12, -3, -13]])\n",
    "arr_two_d"
   ]
  },
  {
   "cell_type": "markdown",
   "id": "3e39c8dd",
   "metadata": {},
   "source": [
    "Notice the `shape`.  This array has 2 rows, each with 5 columns."
   ]
  },
  {
   "cell_type": "code",
   "execution_count": null,
   "id": "4e3ebea6",
   "metadata": {},
   "outputs": [],
   "source": [
    "arr_two_d.shape"
   ]
  },
  {
   "cell_type": "markdown",
   "id": "9a279bce",
   "metadata": {},
   "source": [
    "Remember, we can ask for a single element from a one-dimensional array, using *indexing* with an integer between square brackets. The integer gives the *position* (or offset) of the element we want."
   ]
  },
  {
   "cell_type": "code",
   "execution_count": null,
   "id": "ee7253d6",
   "metadata": {},
   "outputs": [],
   "source": [
    "arr_one_d[1]"
   ]
  },
  {
   "cell_type": "markdown",
   "id": "6dff5b41",
   "metadata": {},
   "source": [
    "With a two-dimensional array, we need to specify the row *and* column of the element we want:"
   ]
  },
  {
   "cell_type": "code",
   "execution_count": null,
   "id": "f183c62c",
   "metadata": {},
   "outputs": [],
   "source": [
    "arr_two_d[1, 4]"
   ]
  },
  {
   "cell_type": "markdown",
   "id": "6150c91c",
   "metadata": {},
   "source": [
    "The first value between the brackets is the row position, and the second is the column position.\n"
   ]
  },
  {
   "cell_type": "markdown",
   "id": "53173388",
   "metadata": {},
   "source": [
    "## Revision - using where on one-dimensional arrays\n",
    "\n",
    "`np.where` gets the indices of the True values in a Boolean array."
   ]
  },
  {
   "cell_type": "code",
   "execution_count": null,
   "id": "bd27fc57",
   "metadata": {},
   "outputs": [],
   "source": [
    "# A Boolean array.\n",
    "equal_to_99 = arr_one_d == 99\n",
    "equal_to_99"
   ]
  },
  {
   "cell_type": "code",
   "execution_count": null,
   "id": "cb2bfa3f",
   "metadata": {},
   "outputs": [],
   "source": [
    "# Indices of the True values.\n",
    "indices = np.where(equal_to_99)\n",
    "indices"
   ]
  },
  {
   "cell_type": "markdown",
   "id": "c8c0520d",
   "metadata": {},
   "source": [
    "We can use the returned `indices` to index into the array, using square brackets."
   ]
  },
  {
   "cell_type": "code",
   "execution_count": null,
   "id": "300eebdf",
   "metadata": {},
   "outputs": [],
   "source": [
    "arr_one_d[indices]"
   ]
  },
  {
   "cell_type": "markdown",
   "id": "2440262c",
   "metadata": {},
   "source": [
    "## The two-dimensional case\n",
    "\n",
    "This also works in two or more dimensions.\n",
    "\n",
    "`np.where` now returns two index arrays, one for the rows, and one for the\n",
    "columns."
   ]
  },
  {
   "cell_type": "code",
   "execution_count": null,
   "id": "d6c67ce2",
   "metadata": {},
   "outputs": [],
   "source": [
    "indices2d = np.where(arr_two_d == -3)\n",
    "indices2d"
   ]
  },
  {
   "cell_type": "markdown",
   "id": "bc9d2f00",
   "metadata": {},
   "source": [
    "Just as for the one-dimensional case, we can use the returned indices to index\n",
    "into the array, and get the elements."
   ]
  },
  {
   "cell_type": "code",
   "execution_count": null,
   "id": "1bc91bf3",
   "metadata": {},
   "outputs": [],
   "source": [
    "arr_two_d[indices2d]"
   ]
  }
 ],
 "metadata": {
  "jupytext": {
   "notebook_metadata_filter": "all,-language_info",
   "split_at_heading": true
  },
  "kernelspec": {
   "display_name": "Python 3",
   "language": "python",
   "name": "python3"
  }
 },
 "nbformat": 4,
 "nbformat_minor": 5
}
