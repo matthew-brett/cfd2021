{
 "cells": [
  {
   "cell_type": "markdown",
   "id": "76970b5a",
   "metadata": {},
   "source": [
    "# A first pass at the simple problem\n",
    "\n",
    "Remember the [three girls in a family problem](three_girls)?"
   ]
  },
  {
   "cell_type": "markdown",
   "id": "3b23c51e",
   "metadata": {},
   "source": [
    "Now we have variables and functions, we can do a first pass at solving the\n",
    "problem."
   ]
  },
  {
   "cell_type": "markdown",
   "id": "f5ce840a",
   "metadata": {},
   "source": [
    "First we `import` the function we need to make random numbers.  Don't worry about this line for now:"
   ]
  },
  {
   "cell_type": "code",
   "execution_count": null,
   "id": "3aa53e58",
   "metadata": {},
   "outputs": [],
   "source": [
    "# Fetch the \"randint\" function from the Numpy library.\n",
    "from numpy.random import randint"
   ]
  },
  {
   "cell_type": "markdown",
   "id": "18a19b59",
   "metadata": {},
   "source": [
    "This function can give us random numbers from 0 up to, but not including 2, like this:"
   ]
  },
  {
   "cell_type": "code",
   "execution_count": null,
   "id": "c0422ba8",
   "metadata": {},
   "outputs": [],
   "source": [
    "# Generate a random number that is either 0 or 1\n",
    "randint(0, 2)"
   ]
  },
  {
   "cell_type": "markdown",
   "id": "fcb24310",
   "metadata": {},
   "source": [
    "You can run the same cell over and over by pressing Control and Enter together (Control - Enter).  This is like Shift - Enter, except Control - Enter leaves the focus inside the cell, so you can run the same again immediately."
   ]
  },
  {
   "cell_type": "markdown",
   "id": "a8438e3f",
   "metadata": {},
   "source": [
    "We take 1 to mean a girl, and 0 to mean a boy."
   ]
  },
  {
   "cell_type": "markdown",
   "id": "62b653bc",
   "metadata": {},
   "source": [
    "Now we have variables, we can do better than running this cell four times, and counting the number of time we see 1. "
   ]
  },
  {
   "cell_type": "code",
   "execution_count": null,
   "id": "1ad4d583",
   "metadata": {},
   "outputs": [],
   "source": [
    "# Get four random numbers between 0 and 1.\n",
    "a = randint(0, 2)\n",
    "b = randint(0, 2)\n",
    "c = randint(0, 2)\n",
    "d = randint(0, 2)\n",
    "# Count the number of ones by adding them up.  Show the result.\n",
    "a + b + c + d"
   ]
  },
  {
   "cell_type": "markdown",
   "id": "04c2c821",
   "metadata": {},
   "source": [
    "Using Control - Enter, run this cell 100 times.  Count the number of times you see the result 3.   Divide that number by 100, and you have an estimate of the number of families with four children that have exactly three girls."
   ]
  },
  {
   "cell_type": "markdown",
   "id": "672e019d",
   "metadata": {},
   "source": [
    "Still, it's boring to have to run that cell 100 times.  We might also like the computer to execute these steps many more times - say - 10000 times.  We will need to do some more programming to tell the computer how to do this."
   ]
  }
 ],
 "metadata": {
  "jupytext": {
   "notebook_metadata_filter": "all,-language_info"
  },
  "kernelspec": {
   "display_name": "Python 3",
   "language": "python",
   "name": "python3"
  }
 },
 "nbformat": 4,
 "nbformat_minor": 5
}
