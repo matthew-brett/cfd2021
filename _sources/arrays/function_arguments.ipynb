{
 "cells": [
  {
   "cell_type": "markdown",
   "id": "dec58022",
   "metadata": {},
   "source": [
    "# Function arguments\n",
    "\n",
    "So far we have used function arguments in a basic way; this is the way that is familiar from mathematics:"
   ]
  },
  {
   "cell_type": "code",
   "execution_count": null,
   "id": "911e0404",
   "metadata": {},
   "outputs": [],
   "source": [
    "# Load the Numpy package, and rename to \"np\"\n",
    "import numpy as np"
   ]
  },
  {
   "cell_type": "code",
   "execution_count": null,
   "id": "07bb09bd",
   "metadata": {},
   "outputs": [],
   "source": [
    "np.cos(0)"
   ]
  },
  {
   "cell_type": "markdown",
   "id": "eec78600",
   "metadata": {},
   "source": [
    "Here is another Numpy function, from the `random` sub-package of the Numpy library.  We get to the sub-packages with the dot `.` - so to get to the `random` sub-package, we use `np.random`.  Then, to get to the functions in this sub-package, we use the dot again, like this:"
   ]
  },
  {
   "cell_type": "code",
   "execution_count": null,
   "id": "60e86eb5",
   "metadata": {},
   "outputs": [],
   "source": [
    "np.random.randint(0, 2)"
   ]
  },
  {
   "cell_type": "markdown",
   "id": "a0733fcc",
   "metadata": {},
   "source": [
    "Remember, this is a random integer from 0 up to, but *not including* 2, so it is a random integer that can either be 0 or 1.\n",
    "\n",
    "Now let us look at the help for the `np.random.randint` function.  As usual, we do this by appending `?` to the function name, and pressing Enter in the notebook."
   ]
  },
  {
   "cell_type": "code",
   "execution_count": null,
   "id": "0544f72d",
   "metadata": {},
   "outputs": [],
   "source": [
    "# To see the help for np.random.randint, remove the # at the beginning\n",
    "# of the next line, and execute this cell.\n",
    "np.random.randint?"
   ]
  },
  {
   "cell_type": "markdown",
   "id": "30f1693b",
   "metadata": {},
   "source": [
    "We find that the function can accept up to four arguments.  We have passed two.\n",
    "The first sets the argument called `low` to be 0, and the second sets the\n",
    "argument called `high` to be 2.\n",
    "\n",
    "To take another example, in this case we are asking for a random number\n",
    "starting at 1 up to, but not including 11. This gives us a random integer from\n",
    "1 through 10. `low` is 1 and `high` is 11.\n"
   ]
  },
  {
   "cell_type": "code",
   "execution_count": null,
   "id": "4de2ff31",
   "metadata": {},
   "outputs": [],
   "source": [
    "# Random integer from 1 through 10.\n",
    "np.random.randint(1, 11)"
   ]
  },
  {
   "cell_type": "markdown",
   "id": "ba388ab4",
   "metadata": {},
   "source": [
    "If we pass three arguments, we also set the `size` argument.  This tells the function how many random numbers to return.  The following asks for an array of four random integers from 1 through 20:"
   ]
  },
  {
   "cell_type": "code",
   "execution_count": null,
   "id": "f4c48602",
   "metadata": {},
   "outputs": [],
   "source": [
    "# Four random integers from 1 through 20.\n",
    "np.random.randint(1, 21, 4)"
   ]
  },
  {
   "cell_type": "markdown",
   "id": "30503b0c",
   "metadata": {},
   "source": [
    "Notice that this is an *array*.\n",
    "\n",
    "Now look again at the help.  Notice that the help gives each argument a *name*\n",
    "--- `low`, `high`, `size`.  We can also use these names when we set these\n",
    "arguments.  For example, the cell below does exactly the same thing as the cell\n",
    "above."
   ]
  },
  {
   "cell_type": "code",
   "execution_count": null,
   "id": "1f4375c4",
   "metadata": {},
   "outputs": [],
   "source": [
    "# Four random integers from 1 through 20, using keyword arguments.\n",
    "np.random.randint(low=1, high=21, size=4)"
   ]
  },
  {
   "cell_type": "markdown",
   "id": "ea7dc07f",
   "metadata": {},
   "source": [
    "When we call the function using the arguments with their names like this, the named arguments are called *keyword* arguments."
   ]
  },
  {
   "cell_type": "markdown",
   "id": "be40e24d",
   "metadata": {},
   "source": [
    "Passing the arguments like this, using keywords, can be very useful, to make it\n",
    "clearer what each argument means.   For example, it's a common pattern to call a function with one or a few keyword arguments, like this:"
   ]
  },
  {
   "cell_type": "code",
   "execution_count": null,
   "id": "da9140a3",
   "metadata": {},
   "outputs": [],
   "source": [
    "# Four random integers from 1 through 20.\n",
    "np.random.randint(1, 21, size=4)"
   ]
  },
  {
   "cell_type": "markdown",
   "id": "20794c5b",
   "metadata": {},
   "source": [
    "Writing the call like the cell gives exactly the same result as the cell below,\n",
    "but the cell above can be easier to follow, because the person reading the code\n",
    "does not have to guess what the 4 means --- they can see that it means the size\n",
    "of the output array."
   ]
  },
  {
   "cell_type": "code",
   "execution_count": null,
   "id": "34ca7556",
   "metadata": {},
   "outputs": [],
   "source": [
    "# Four random integers from 1 through 20 - but no keyword argument.\n",
    "np.random.randint(1, 21, size=4)"
   ]
  },
  {
   "cell_type": "markdown",
   "id": "786c1268",
   "metadata": {},
   "source": [
    "To take another example, we have already seen the function `round`.  Inspect\n",
    "the help for `round` with `round?` and Enter in a notebook cell.\n",
    "\n",
    "`round` takes up to two arguments.  If we pass one argument, it is just the value that `round` will round to the nearest integer:"
   ]
  },
  {
   "cell_type": "code",
   "execution_count": null,
   "id": "a5392235",
   "metadata": {},
   "outputs": [],
   "source": [
    "round(3.1415)"
   ]
  },
  {
   "cell_type": "markdown",
   "id": "56ff046e",
   "metadata": {},
   "source": [
    "If we pass two arguments, the first argument is the value we will round, and the second is the number of digits to round to, like this:"
   ]
  },
  {
   "cell_type": "code",
   "execution_count": null,
   "id": "1097a724",
   "metadata": {},
   "outputs": [],
   "source": [
    "round(3.1415, 2)"
   ]
  },
  {
   "cell_type": "markdown",
   "id": "150dcbe8",
   "metadata": {},
   "source": [
    "As you saw in the help, the second argument has the name `ndigits`, so we can also write:"
   ]
  },
  {
   "cell_type": "code",
   "execution_count": null,
   "id": "1b89662f",
   "metadata": {},
   "outputs": [],
   "source": [
    "round(3.1415, ndigits=2)"
   ]
  },
  {
   "cell_type": "markdown",
   "id": "e06fd3e6",
   "metadata": {},
   "source": [
    "As before, this makes the code a little bit easier to read and understand,\n",
    "because it is immediately clear from the name `ndigits` that the 2 means the\n",
    "number of digits to round to."
   ]
  }
 ],
 "metadata": {
  "jupytext": {
   "split_at_heading": true
  },
  "kernelspec": {
   "display_name": "Python 3",
   "language": "python",
   "name": "python3"
  }
 },
 "nbformat": 4,
 "nbformat_minor": 5
}
