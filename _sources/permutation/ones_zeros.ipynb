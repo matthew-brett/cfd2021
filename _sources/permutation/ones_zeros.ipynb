{
 "cells": [
  {
   "cell_type": "markdown",
   "id": "59ca1c13",
   "metadata": {},
   "source": [
    "# Arrays of ones and zeros\n",
    "\n",
    "<!---\n",
    "This page retired; we are not using 2D arrays until much later.\n",
    "-->"
   ]
  },
  {
   "cell_type": "code",
   "execution_count": null,
   "id": "ad80171e",
   "metadata": {},
   "outputs": [],
   "source": [
    "import numpy as np"
   ]
  },
  {
   "cell_type": "markdown",
   "id": "9bff2681",
   "metadata": {},
   "source": [
    "We often want to create arrays with all zeros, or all ones.\n",
    "\n",
    "We do this with:"
   ]
  },
  {
   "cell_type": "code",
   "execution_count": null,
   "id": "a39f0845",
   "metadata": {},
   "outputs": [],
   "source": [
    "np.zeros(5)"
   ]
  },
  {
   "cell_type": "code",
   "execution_count": null,
   "id": "1fc319e4",
   "metadata": {},
   "outputs": [],
   "source": [
    "np.ones(3)"
   ]
  },
  {
   "cell_type": "markdown",
   "id": "a5bfb694",
   "metadata": {},
   "source": [
    "As ever, review the help with (for example):\n",
    "\n",
    "```\n",
    "np.ones?\n",
    "```\n",
    "\n",
    "In a new cell."
   ]
  },
  {
   "cell_type": "markdown",
   "id": "8147d538",
   "metadata": {},
   "source": [
    "You can ask for a 2D array by passing a list with the numbers of rows and columns:"
   ]
  },
  {
   "cell_type": "code",
   "execution_count": null,
   "id": "ae5a1fcb",
   "metadata": {},
   "outputs": [],
   "source": [
    "np.zeros([5, 2])"
   ]
  }
 ],
 "metadata": {
  "kernelspec": {
   "display_name": "Python 3",
   "language": "python",
   "name": "python3"
  }
 },
 "nbformat": 4,
 "nbformat_minor": 5
}
